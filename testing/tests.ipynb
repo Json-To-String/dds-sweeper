{
 "cells": [
  {
   "cell_type": "code",
   "execution_count": 1,
   "metadata": {},
   "outputs": [],
   "source": [
    "import serial\n",
    "import time\n",
    "import pyvisa \n",
    "\n",
    "# You will have to change this to whatever COM port the pico is assigned when\n",
    "# you plug it in.\n",
    "# On Windows you can open device manager and look at the 'Ports (COM & LPT)' dropdown\n",
    "# the pico will show up as 'USB Serial Device'\n",
    "PICO_PORT = 'COM3'\n",
    "\n",
    "MHZ = 1000000\n",
    "\n",
    "SAVE_IMAGES = False"
   ]
  },
  {
   "cell_type": "code",
   "execution_count": 2,
   "metadata": {},
   "outputs": [],
   "source": [
    "# helper for sending serial commands\n",
    "# expects a string with the command (they dont have to be escaped with \\r or \\n at the end)\n",
    "# if echo is set to false, that means not to worry about the response from the\n",
    "# pico it signifigantly reduces communication time when sending many\n",
    "# instructions, but you lose out on the debugging info from the pico\n",
    "def send(command: str, echo = True) -> str:\n",
    "    # pico is expecting a newline to end every command\n",
    "    if command[-1] != '\\n':\n",
    "        command += '\\n'\n",
    "\n",
    "    resp = ''\n",
    "    conn = None\n",
    "    try:\n",
    "        conn = serial.Serial(PICO_PORT, baudrate = 152000, timeout = 0.1)\n",
    "        conn.write(command.encode())\n",
    "        if echo:\n",
    "            resp = conn.readlines()\n",
    "            resp = \"\".join([s.decode() for s in resp])\n",
    "\n",
    "    except Exception as e:\n",
    "        print(\"Encountered Error: \", e)\n",
    "\n",
    "    finally:\n",
    "        conn.close()\n",
    "\n",
    "    return resp\n"
   ]
  },
  {
   "cell_type": "markdown",
   "metadata": {},
   "source": [
    "## Test Serial Communication with the Pico"
   ]
  },
  {
   "cell_type": "code",
   "execution_count": 3,
   "metadata": {},
   "outputs": [
    {
     "name": "stdout",
     "output_type": "stream",
     "text": [
      "Serial Communication Successful\n"
     ]
    }
   ],
   "source": [
    "assert send('reset')    == 'ok\\n'\n",
    "assert send('status')   == '0\\n'\n",
    "assert send('version')  == '0.2.1\\n'\n",
    "print('Serial Communication Successful')"
   ]
  },
  {
   "cell_type": "markdown",
   "metadata": {},
   "source": [
    "## Test Register Readback"
   ]
  },
  {
   "cell_type": "code",
   "execution_count": 4,
   "metadata": {},
   "outputs": [
    {
     "data": {
      "text/plain": [
       "{'pll_mult': 4,\n",
       " 0: {'freq': 0.0, 'phase': 0.0, 'amp': 1},\n",
       " 1: {'freq': 0.0, 'phase': 0.0, 'amp': 1},\n",
       " 2: {'freq': 0.0, 'phase': 0.0, 'amp': 1},\n",
       " 3: {'freq': 0.0, 'phase': 0.0, 'amp': 1}}"
      ]
     },
     "execution_count": 4,
     "metadata": {},
     "output_type": "execute_result"
    }
   ],
   "source": [
    "# Helper for reading register values and putting them in a dictionary\n",
    "# takes in the frequency of the reference clock, assuming default of 125 MHz\n",
    "def readregs(ref_clk = 125 * MHZ) -> dict:\n",
    "    ad9959 = {}\n",
    "\n",
    "    regs = send('readregs')\n",
    "    regs = regs.split('\\n')\n",
    "    # strip out register labels\n",
    "    regs = [''.join(r.split()[1:]) for r in regs]\n",
    "\n",
    "    # convert from hex to decimal\n",
    "    for i, reg in enumerate(regs):\n",
    "        try:\n",
    "            regs[i] = int(reg, 16)\n",
    "        except ValueError:\n",
    "            pass\n",
    "\n",
    "    # mask and shift to pull out PLL Multiplier from fr1\n",
    "    ad9959['pll_mult'] = (regs[1] & 0x7c0000) >> 18\n",
    "\n",
    "    # will need system clock to find the frequencies from the tuning words\n",
    "    sys_clk = ref_clk * ad9959['pll_mult']\n",
    "\n",
    "    for i in range(4):\n",
    "        ad9959[i] = {}\n",
    "\n",
    "        ftw = regs[5 + 9 * i]\n",
    "        ad9959[i]['freq'] = ftw / 2**32 * sys_clk\n",
    "\n",
    "        pow = regs[6 + 9 * i]\n",
    "        ad9959[i]['phase'] = pow * 360 / 2**14\n",
    "\n",
    "        acr = regs[7 + 9 * i]\n",
    "        if acr & 0x001000:\n",
    "            ad9959[i]['amp'] = (acr & 0x0003ff) / 1023\n",
    "        else:\n",
    "            ad9959[i]['amp'] = 1\n",
    "    \n",
    "    return ad9959\n",
    "\n",
    "\n",
    "readregs()\n"
   ]
  },
  {
   "cell_type": "code",
   "execution_count": 5,
   "metadata": {},
   "outputs": [
    {
     "name": "stdout",
     "output_type": "stream",
     "text": [
      "Register Readback Successful\n"
     ]
    }
   ],
   "source": [
    "assert send('reset') == 'ok\\n', 'Could not run \"reset\" command'\n",
    "ad9959 = readregs()\n",
    "for i in range(4):\n",
    "    assert ad9959[i]['freq'] == 0\n",
    "    assert ad9959[i]['phase'] == 0\n",
    "    assert ad9959[i]['amp'] == 1\n",
    "\n",
    "send('setfreq 0 100000000')\n",
    "send('setphase 1 270')\n",
    "send('setamp 2 0.5')\n",
    "\n",
    "ad9959 = readregs()\n",
    "\n",
    "assert abs(ad9959[0]['freq'] - 100 * MHZ) < 1\n",
    "assert abs(ad9959[1]['phase'] - 270) < 1\n",
    "assert abs(ad9959[2]['amp'] - 0.5) < 0.01\n",
    "\n",
    "print('Register Readback Successful')"
   ]
  },
  {
   "cell_type": "code",
   "execution_count": 52,
   "metadata": {},
   "outputs": [],
   "source": [
    "class KeysightScope:\n",
    "    \"\"\"\n",
    "    Helper class leveraging pyvisa for a Keysight Oscilloscope \n",
    "    \"\"\"\n",
    "    def __init__(self, addr='USB?*::INSTR',\n",
    "                 timeout=1, termination='\\n'):\n",
    "        rm = pyvisa.ResourceManager()\n",
    "        devs = rm.list_resources(addr)\n",
    "        assert len(devs), \"pyvisa didn't find any connected devices matching \" + addr\n",
    "        self.dev = rm.open_resource(devs[0])\n",
    "        self.dev.timeout = 15_000 * timeout\n",
    "        self.dev.read_termination = termination\n",
    "        self.idn = self.dev.query('*IDN?')\n",
    "        self.read = self.dev.read\n",
    "        self.write = self.dev.write\n",
    "        self.query = self.dev.query\n",
    "\n",
    "    def _get_screenshot(self, verbose=False):\n",
    "        if verbose:\n",
    "            print('Acquiring screen image...')\n",
    "        return(self.dev.query_binary_values(':DISPlay:DATA? PNG, COLor', datatype='s'))\n",
    "\n",
    "    def save_screenshot(self, filepath, verbose=False):\n",
    "        if verbose:\n",
    "            print('Saving screen image...')\n",
    "        result = self._get_screenshot()\n",
    "        with open(f'{filepath}', 'wb+') as ofile:\n",
    "            ofile.write(bytes(result))\n",
    "\n",
    "    def set_time_delay(self, time):\n",
    "        self.write(f':TIMebase:DELay {time}')\n",
    "\n",
    "    def set_time_scale(self, time):\n",
    "        self.write(f':TIMebase:SCALe {time}')\n",
    "\n",
    "my_instrument = KeysightScope()\n",
    "\n",
    "\n",
    "if SAVE_IMAGES == True:\n",
    "    my_instrument.save_screenshot('startup.png')\n"
   ]
  },
  {
   "cell_type": "markdown",
   "metadata": {},
   "source": [
    "## JP Testing"
   ]
  },
  {
   "cell_type": "markdown",
   "metadata": {},
   "source": [
    "### Different Freqs\n"
   ]
  },
  {
   "cell_type": "code",
   "execution_count": 7,
   "metadata": {},
   "outputs": [
    {
     "data": {
      "text/plain": [
       "'ok\\n'"
      ]
     },
     "execution_count": 7,
     "metadata": {},
     "output_type": "execute_result"
    }
   ],
   "source": [
    "## source\n",
    "freq0 = 90 * MHZ # source freq > ref freq\n",
    "phase0 = 0\n",
    "amp0 = 1\n",
    "\n",
    "## reference\n",
    "freq1 = 85 * MHZ\n",
    "phase1 = 270\n",
    "amp1 = 1\n",
    "\n",
    "send(f'setfreq 0 {freq0}')\n",
    "send(f'setphase 0 {phase0}')\n",
    "send(f'setamp 0 {amp0}')\n",
    "\n",
    "send(f'setfreq 1 {freq1}')\n",
    "send(f'setphase 1 {phase1}')\n",
    "send(f'setamp 1 {amp1}')"
   ]
  },
  {
   "cell_type": "markdown",
   "metadata": {},
   "source": [
    "### Different Phases\n"
   ]
  },
  {
   "cell_type": "code",
   "execution_count": 8,
   "metadata": {},
   "outputs": [
    {
     "data": {
      "text/plain": [
       "'ok\\n'"
      ]
     },
     "execution_count": 8,
     "metadata": {},
     "output_type": "execute_result"
    }
   ],
   "source": [
    "# send(f\"\"\"\n",
    "#      abort\n",
    "#      mode 0 1\n",
    "#      setchannels 1\n",
    "#      \"\"\")\n",
    "## source\n",
    "freq0 = 100 * MHZ # source freq > ref freq\n",
    "phase0 = 0\n",
    "amp0 = 1\n",
    "\n",
    "## reference\n",
    "freq1 = 100 * MHZ\n",
    "phase1 = 270\n",
    "amp1 = 1\n",
    "\n",
    "send(f'setfreq 0 {freq0}')\n",
    "send(f'setphase 0 {phase0}')\n",
    "send(f'setamp 0 {amp0}')\n",
    "\n",
    "send(f'setfreq 1 {freq1}')\n",
    "send(f'setphase 1 {phase1}')\n",
    "send(f'setamp 1 {amp1}')"
   ]
  },
  {
   "cell_type": "markdown",
   "metadata": {},
   "source": [
    "### Odd problem"
   ]
  },
  {
   "cell_type": "code",
   "execution_count": 9,
   "metadata": {},
   "outputs": [],
   "source": [
    "# send('reset')\n",
    "# send('mode 0 1')\n",
    "# send('setchannels 1')\n",
    "\n",
    "# print(send('set 0 0 100_000_000 1 0 500_000'))\n",
    "# print(send('set 4 1')) # this works fine\n",
    "\n",
    "# send('reset')\n",
    "# send('mode 0 1')\n",
    "# send('setchannels 1')\n",
    "\n",
    "# print(send('set 4 1'))  # this fails\n",
    "# print(send('set 0 0 100_000_000 1 0 500_000'))"
   ]
  },
  {
   "cell_type": "markdown",
   "metadata": {},
   "source": [
    "### Set Viewing Params\n"
   ]
  },
  {
   "cell_type": "code",
   "execution_count": 10,
   "metadata": {},
   "outputs": [
    {
     "data": {
      "text/plain": [
       "30"
      ]
     },
     "execution_count": 10,
     "metadata": {},
     "output_type": "execute_result"
    }
   ],
   "source": [
    "# my_instrument.query('*LRN?')\n",
    "# my_instrument.query('TIMebase:MODE?')\n",
    "my_instrument.write(\":CHANnel1:DISPlay 1\")\n",
    "my_instrument.write(':ChANnel1:SCALe +250E-03')\n",
    "my_instrument.write(':ChANnel1:OFFSet -450E-03')\n",
    "\n",
    "my_instrument.write(\":CHANnel2:DISPlay 1\")\n",
    "my_instrument.write(':ChANnel2:SCALe +1.00E+00')\n",
    "my_instrument.write(':ChANnel2:OFFSet 275E-03')\n",
    "\n",
    "my_instrument.write(\":CHANnel3:DISPlay 1\")\n",
    "my_instrument.write(':ChANnel3:SCALe +1.00E+00')\n",
    "my_instrument.write(':ChANnel3:OFFSet +2.0E+00')\n",
    "\n",
    "my_instrument.write(\":CHANnel4:DISPlay 1\")\n",
    "my_instrument.write(':ChANnel4:SCALe +1.00E+00')\n",
    "my_instrument.write(':ChANnel4:OFFSet +2.0E+00')\n",
    "\n",
    "## ensure Source 1 and Source 2 are the outputs of the PFD on your setup\n",
    "my_instrument.write(':FUNCtion:OPERation SUBTract')"
   ]
  },
  {
   "cell_type": "markdown",
   "metadata": {},
   "source": [
    "## Test Mode 0: Single Stepping Table Mode\n",
    "\n",
    "Program a 2000 step table that single steps from 10 MHz to 100 MHz over the course of 2 seconds.\n",
    "The resulting sweep can easily be seen with a spectrum analyzer. \n",
    "It is then automatically executed and checks that all 2000 triggers were processed successfully."
   ]
  },
  {
   "cell_type": "code",
   "execution_count": 11,
   "metadata": {},
   "outputs": [
    {
     "data": {
      "text/plain": [
       "21"
      ]
     },
     "execution_count": 11,
     "metadata": {},
     "output_type": "execute_result"
    }
   ],
   "source": [
    "my_instrument.write(':DISPlay:ANNotation:TEXT \"Testing Mode 0: Single Stepping\"')\n",
    "send('reset')\n",
    "my_instrument.write(':TIMebase:DELay 20.0E-06')\n",
    "my_instrument.write(':TIMebase:SCALe 10.0E-09')\n",
    "my_instrument.write(\":CHANnel2:DISPlay 0\")"
   ]
  },
  {
   "cell_type": "code",
   "execution_count": 12,
   "metadata": {},
   "outputs": [
    {
     "name": "stdout",
     "output_type": "stream",
     "text": [
      "Table Programmed, Executing\n",
      "Table Executed successfully\n"
     ]
    }
   ],
   "source": [
    "startPoint = 10 * MHZ\n",
    "endPoint = 100 * MHZ\n",
    "totalTime = 2 # sec\n",
    "\n",
    "spacing = 1000 * 10**(-6) # us\n",
    "steps = round(totalTime / spacing)\n",
    "delta = (endPoint - startPoint) / steps\n",
    "\n",
    "send('debug off')\n",
    "send('mode 0 1')\n",
    "send('setchannels 1')\n",
    "\n",
    "for i in range(steps):\n",
    "    send(f'set 0 {i} {startPoint + delta * i} 1 0 {spacing * 10**9 / 8}', echo=False)\n",
    "assert send(f'set 4 {i + 1}') == \"ok\\n\"\n",
    "\n",
    "print(\"Table Programmed, Executing\")\n",
    "assert send('start') == 'ok\\n', 'Buffered Execution did not start correctly'\n",
    "time.sleep(totalTime)\n",
    "assert send('numtriggers') == f'{steps}\\n', 'Wrong number of triggers processed'\n",
    "print('Table Executed successfully')\n",
    "if SAVE_IMAGES == True:\n",
    "    my_instrument.save_screenshot('mode0-test.png')\n"
   ]
  },
  {
   "cell_type": "markdown",
   "metadata": {},
   "source": [
    "### Test Non-Volatile Storage\n",
    "Run this test after the previous one to test storing and retrieving table instructions in non-volatile memory that will survive a power cycle."
   ]
  },
  {
   "cell_type": "code",
   "execution_count": 13,
   "metadata": {},
   "outputs": [
    {
     "name": "stdout",
     "output_type": "stream",
     "text": [
      "Table run from non-volatile memory successfully\n"
     ]
    }
   ],
   "source": [
    "send('save')\n",
    "\n",
    "# # destory current table\n",
    "time.sleep(2)\n",
    "for i in range(steps):\n",
    "    send(f'set 0 {i} 0 0 0 0', echo=False)\n",
    "\n",
    "# load and run table\n",
    "send('load')\n",
    "time.sleep(1)\n",
    "send('mode 0 1')\n",
    "send('setchannels 1')\n",
    "send('start')\n",
    "\n",
    "time.sleep(2)\n",
    "assert send('numtriggers') == '2000\\n', 'Something went wrong'\n",
    "print('Table run from non-volatile memory successfully')\n",
    "\n",
    "if SAVE_IMAGES == True:\n",
    "    my_instrument.save_screenshot('mode0-recall-test.png')"
   ]
  },
  {
   "cell_type": "markdown",
   "metadata": {},
   "source": [
    "## Mode 1: Amplitude Sweep\n",
    "\n",
    "### Pico Start"
   ]
  },
  {
   "cell_type": "code",
   "execution_count": 14,
   "metadata": {},
   "outputs": [
    {
     "data": {
      "text/plain": [
       "'ok\\n'"
      ]
     },
     "execution_count": 14,
     "metadata": {},
     "output_type": "execute_result"
    }
   ],
   "source": [
    "my_instrument.write(':DISPlay:ANNotation:TEXT \"Testing Mode 1\"')\n",
    "my_instrument.write(':TIMebase:DELay 35.0E-06')\n",
    "my_instrument.write(':TIMebase:SCALe 10.0E-06')\n",
    "my_instrument.write(\":CHANnel2:DISPlay 1\")\n",
    "my_instrument.write(\":TRIGger:EDGE:SOURce CHANnel2\")\n",
    "\n",
    "send('reset')"
   ]
  },
  {
   "cell_type": "code",
   "execution_count": 15,
   "metadata": {},
   "outputs": [
    {
     "name": "stdout",
     "output_type": "stream",
     "text": [
      "Success\n"
     ]
    }
   ],
   "source": [
    "send('debug off')\n",
    "send(f\"\"\"mode 1 1\n",
    "setchannels 1\n",
    "setfreq 0 100000000\n",
    "setfreq 1 100000000\n",
    "setfreq 2 100000000\n",
    "setfreq 3 100000000\n",
    "set 0 0 1.0 0.0 0.001 1 2000\n",
    "set 0 1 0.0 0.5 0.001 1 2000\n",
    "set 0 2 0.5 1.0 0.001 1 2000\n",
    "set 0 3 1.0 0.0 0.001 1 2000\n",
    "set 0 4 0.0 1.0 0.001 1 2000\n",
    "set 0 5 1.0 0.5 0.001 1 2000\n",
    "set 0 6 0.5 0.0 0.001 1 2000\n",
    "set 0 7 0.0 1.0 0.001 1 2000\n",
    "set 4 8\n",
    "start\n",
    "\"\"\")\n",
    "\n",
    "assert send('numtriggers') == '8\\n'\n",
    "print('Success')\n",
    "if SAVE_IMAGES == True:\n",
    "    my_instrument.save_screenshot('mode1-picostart-test.png')"
   ]
  },
  {
   "cell_type": "markdown",
   "metadata": {},
   "source": [
    "### HWStart"
   ]
  },
  {
   "cell_type": "code",
   "execution_count": 16,
   "metadata": {},
   "outputs": [],
   "source": [
    "send('debug off')\n",
    "send(\"\"\"abort\n",
    "mode 1 1\n",
    "setchannels 1\n",
    "setfreq 0 100000000\n",
    "setfreq 1 100000000\n",
    "setfreq 2 100000000\n",
    "setfreq 3 100000000\n",
    "set 0 0 1.0 0.0 0.001 1 2000\n",
    "set 0 1 0.0 0.5 0.001 1 2000\n",
    "set 0 2 0.5 1.0 0.001 1 2000\n",
    "set 0 3 1.0 0.0 0.001 1 2000\n",
    "set 0 4 0.0 1.0 0.001 1 2000\n",
    "set 0 5 1.0 0.5 0.001 1 2000\n",
    "set 0 6 0.5 0.0 0.001 1 2000\n",
    "set 0 7 0.0 1.0 0.001 1 2000\n",
    "set 4 8\n",
    "hwstart\n",
    "\"\"\")\n",
    "if SAVE_IMAGES == True:\n",
    "    my_instrument.save_screenshot('mode1-hwstart-test.png')"
   ]
  },
  {
   "attachments": {},
   "cell_type": "markdown",
   "metadata": {},
   "source": [
    "This produces the following scope trace:  \n",
    "<img src=\"amp-test.png\" alt=\"Amplitude Sweep Test on Oscilloscope\">  \n",
    "$D_1$ is the IO_UPDATE line between the pico and the AD9959.  \n",
    "$D_0$ is the external trigger line into the pico.  \n",
    "The yellow trace is any of the 4 channel outputs from the AD9959"
   ]
  },
  {
   "cell_type": "markdown",
   "metadata": {},
   "source": [
    "## Mode 2: Frequency Sweep"
   ]
  },
  {
   "cell_type": "code",
   "execution_count": 17,
   "metadata": {},
   "outputs": [
    {
     "data": {
      "text/plain": [
       "'ok\\n'"
      ]
     },
     "execution_count": 17,
     "metadata": {},
     "output_type": "execute_result"
    }
   ],
   "source": [
    "my_instrument.write(':DISPlay:ANNotation:TEXT \"Testing Mode 2: Frequency Sweep\"')\n",
    "send('reset')"
   ]
  },
  {
   "cell_type": "code",
   "execution_count": 18,
   "metadata": {},
   "outputs": [
    {
     "name": "stdout",
     "output_type": "stream",
     "text": [
      "Success\n"
     ]
    }
   ],
   "source": [
    "f112 = 112e6\n",
    "f115 = 115e6\n",
    "f118 = 118e6\n",
    "\n",
    "d = 2000\n",
    "t = 3000\n",
    "\n",
    "send(\n",
    "f\"\"\"abort\n",
    "mode 2 1\n",
    "setchannels 1\n",
    "set 0 0 {f112} {f118} {d * 1} 1 {t * 1}\n",
    "set 0 1 {f118} {f115} {d / 4} 1 {t * 2}\n",
    "set 0 2 {f115} {f112} {d * 1} 1 {t / 2}\n",
    "set 0 3 {f112} {f112} {d * 0} 1 {t * 1}\n",
    "set 0 4 {f115} {f115} {d * 0} 1 {t * 1}\n",
    "set 0 5 {f118} {f118} {d * 0} 1 {t * 1}\n",
    "set 0 6 {f118} {f112} {d * 0} 1 {t * 1}\n",
    "set 0 7 {f112} {f115} {d / 4} 1 {t * 2}\n",
    "set 0 8 {f115} {f118} {d * 0} 1 {t * 10}\n",
    "set 0 9 {f112} {f112} {d * 0} 1 1\n",
    "set 4 10\n",
    "start\n",
    "\"\"\"\n",
    ")\n",
    "\n",
    "assert send('numtriggers') == '10\\n'\n",
    "print('Success')\n",
    "\n",
    "if SAVE_IMAGES == True:\n",
    "    my_instrument.save_screenshot('mode2-test.png')"
   ]
  },
  {
   "attachments": {},
   "cell_type": "markdown",
   "metadata": {},
   "source": [
    "Produces the following scope trace:  \n",
    "<img src=\"freq-test.png\" alt=\"Frequency Sweep Example on oscilloscope\">  \n",
    "$D_1$ is the IO_UPDATE line between the pico and the AD9959.  \n",
    "$D_0$ is the external trigger line into the pico.  \n",
    "The yellow trace is any of the 4 channel outputs from the AD9959  \n",
    "The green trace is the output from an interferometer\n",
    "\n",
    "\n",
    "\n",
    "The following code is for the same trace, but with an external trigger:"
   ]
  },
  {
   "cell_type": "code",
   "execution_count": 19,
   "metadata": {},
   "outputs": [
    {
     "data": {
      "text/plain": [
       "'ok\\nok\\nok\\n6\\nok\\n6\\nok\\n6\\nok\\n6\\nok\\n6\\nok\\n6\\nok\\n6\\nok\\nok\\n'"
      ]
     },
     "execution_count": 19,
     "metadata": {},
     "output_type": "execute_result"
    }
   ],
   "source": [
    "send(\n",
    "f\"\"\"abort\n",
    "mode 2 0\n",
    "setchannels 1\n",
    "set 0 0 {f112} {f118} {d} 1 {t}\n",
    "set 0 1 {f118} {f115} {d} 1 {t}\n",
    "set 0 2 {f115} {f112} {d} 1 {t}\n",
    "set 0 3 {f112} {f115} {d} 1 {t}\n",
    "set 0 4 {f115} {f118} {d} 1 {t}\n",
    "set 0 5 {f118} {f112} {d} 1 {t}\n",
    "set 5 6\n",
    "hwstart\n",
    "\"\"\"\n",
    ")"
   ]
  },
  {
   "cell_type": "markdown",
   "metadata": {},
   "source": [
    "## Mode 3: Phase Sweep"
   ]
  },
  {
   "cell_type": "code",
   "execution_count": 35,
   "metadata": {},
   "outputs": [
    {
     "data": {
      "text/plain": [
       "'ok\\n'"
      ]
     },
     "execution_count": 35,
     "metadata": {},
     "output_type": "execute_result"
    }
   ],
   "source": [
    "my_instrument.write(':DISPlay:ANNotation:TEXT \"Testing Mode 3: Phase Sweep\"')\n",
    "my_instrument.write(':TIMebase:DELay 20.0E-06')\n",
    "my_instrument.write(':TIMebase:SCALe 20.0E-06')\n",
    "send('reset')"
   ]
  },
  {
   "cell_type": "code",
   "execution_count": 36,
   "metadata": {},
   "outputs": [
    {
     "name": "stdout",
     "output_type": "stream",
     "text": [
      "Success\n"
     ]
    }
   ],
   "source": [
    "t = 2000\n",
    "d = 0.2\n",
    "\n",
    "send(f\"\"\"abort\n",
    "debug off\n",
    "setfreq 0 100000000\n",
    "setfreq 1 100000000\n",
    "setfreq 2 100000000\n",
    "setfreq 3 100000000\n",
    "setphase 0 0\n",
    "setphase 1 0\n",
    "setphase 2 0\n",
    "setphase 3 0\n",
    "mode 3 1\n",
    "setchannels 2\n",
    "set 0 0 0 0 0 0 {t}\n",
    "set 0 1 0 0 0 0 {t}\n",
    "set 0 2 0 0 0 0 {t}\n",
    "set 0 3 0 0 0 0 {t}\n",
    "set 0 4 0 0 0 0 {t}\n",
    "set 0 5 0 0 0 0 {t}\n",
    "set 1 0 0 180 {d} 1 {t}\n",
    "set 1 1 180 90 {d} 1 {t}\n",
    "set 1 2 90 0 {d} 1 {t}\n",
    "set 1 3 0 90 {d} 1 {t}\n",
    "set 1 4 90 180 {d} 1 {t}\n",
    "set 1 5 180 0 {d} 1 {t}\n",
    "set 4 6\n",
    "start\n",
    "\"\"\")\n",
    "\n",
    "assert send('numtriggers') == '6\\n'\n",
    "print('Success')\n",
    "if SAVE_IMAGES == True:\n",
    "    my_instrument.save_screenshot('mode3-test.png')"
   ]
  },
  {
   "attachments": {},
   "cell_type": "markdown",
   "metadata": {},
   "source": [
    "This produces the following scope trace:    \n",
    "<img src=\"phase-test.png\" alt=\"Phase Sweep Test on Oscilloscope\">  \n",
    "$D_1$ is the IO_UPDATE line between the pico and the AD9959.  \n",
    "$D_0$ is the external trigger line into the pico.  \n",
    "The yellow trace is channel 1 from the AD9959  \n",
    "The pink trace is the output of a phase frequency detector between channels 0 and 1 of the AD9959"
   ]
  },
  {
   "cell_type": "markdown",
   "metadata": {},
   "source": [
    "## Mode 4: Amplitude Sweep and Single Step Freq, Phase"
   ]
  },
  {
   "cell_type": "code",
   "execution_count": 50,
   "metadata": {},
   "outputs": [
    {
     "data": {
      "text/plain": [
       "'ok\\n'"
      ]
     },
     "execution_count": 50,
     "metadata": {},
     "output_type": "execute_result"
    }
   ],
   "source": [
    "my_instrument.write(':DISPlay:ANNotation:TEXT \"Testing Mode 4: Amplitude Sweep, Single Step Freq, Phase\"')\n",
    "my_instrument.write(':TIMebase:DELay 35.0E-06')\n",
    "my_instrument.write(':TIMebase:SCALe 10.0E-06')\n",
    "send('reset')"
   ]
  },
  {
   "cell_type": "code",
   "execution_count": 51,
   "metadata": {},
   "outputs": [
    {
     "name": "stdout",
     "output_type": "stream",
     "text": [
      "Success\n"
     ]
    }
   ],
   "source": [
    "f2 = 125 * MHZ\n",
    "\n",
    "d = 0.001\n",
    "t = 2000\n",
    "\n",
    "\n",
    "## set Chan Addr Start Stop Delta Rate Freq Phase Time\n",
    "send(\n",
    "f\"\"\"abort\n",
    "mode 4 1\n",
    "setchannels 2\n",
    "set 0 0 1.0 0.0 {d * 1} 1 {f2} 0 {t}\n",
    "set 0 1 0.0 0.5 {d * 1} 1 {f2} 0 {t}\n",
    "set 0 2 0.5 1.0 {d * 1} 1 {f2} 0 {t}\n",
    "set 0 3 1.0 0.0 {d * 1} 1 {f2} 0 {t}\n",
    "set 0 4 0.0 1.0 {d * 1} 1 {f2} 0 {t}\n",
    "set 0 5 1.0 0.5 {d * 1} 1 {f2} 0 {t}\n",
    "set 0 6 0.5 0.0 {d * 1} 1 {f2} 0 {t}\n",
    "set 0 7 0.0 1.0 {d * 1} 1 {f2} 0 {t}\n",
    "set 0 8 1.0 1.0 {d * 0} 1 {f2} 0 {t}\n",
    "set 0 9 1.0 1.0 {d * 0} 1 {f2} 0 {t}\n",
    "# set 1 0 1.0 1.0 {d * 0} 1 {f2} 90 {t}\n",
    "# set 1 1 1.0 1.0 {d * 0} 1 {f2} 90 {t}\n",
    "# set 1 2 1.0 1.0 {d * 0} 1 {f2} 90 {t}\n",
    "# set 1 3 1.0 1.0 {d * 0} 1 {f2} 90 {t}\n",
    "# set 1 4 1.0 1.0 {d * 0} 1 {f2} 90 {t}\n",
    "# set 1 5 1.0 1.0 {d * 0} 1 {f2} 90 {t}\n",
    "# set 1 6 1.0 1.0 {d * 0} 1 {f2} 90 {t}\n",
    "# set 1 7 1.0 1.0 {d * 0} 1 {f2} 90 {t}\n",
    "# set 1 8 1.0 1.0 {d * 0} 1 {f2} 90 {t}\n",
    "# set 1 9 1.0 1.0 {d * 0} 1 {f2} 90 {t}\n",
    "set 4 10\n",
    "start\n",
    "\"\"\"\n",
    ")\n",
    "\n",
    "assert send('numtriggers') == '10\\n'\n",
    "print('Success')\n",
    "my_instrument.write(':DISPlay:ANNotation:TEXT \"Testing Mode 4: Success\"')\n",
    "\n",
    "if SAVE_IMAGES == True:\n",
    "    my_instrument.save_screenshot('mode4-test.png')"
   ]
  },
  {
   "attachments": {},
   "cell_type": "markdown",
   "metadata": {},
   "source": [
    "## Mode 5: Frequency Sweep and Single Step Amp, Phase"
   ]
  },
  {
   "cell_type": "code",
   "execution_count": 24,
   "metadata": {},
   "outputs": [
    {
     "data": {
      "text/plain": [
       "84"
      ]
     },
     "execution_count": 24,
     "metadata": {},
     "output_type": "execute_result"
    }
   ],
   "source": [
    "my_instrument.write(':DISPlay:ANNotation:TEXT \"Testing Mode 5: Frequency Sweep, Single Step Amp, Phase\"')\n"
   ]
  },
  {
   "cell_type": "code",
   "execution_count": 25,
   "metadata": {},
   "outputs": [
    {
     "name": "stdout",
     "output_type": "stream",
     "text": [
      "Success\n"
     ]
    }
   ],
   "source": [
    "f112 = 112e6\n",
    "f115 = 115e6\n",
    "f118 = 118e6\n",
    "\n",
    "d = 2000\n",
    "t = 3000\n",
    "\n",
    "## set Chan Addr Start Stop Delta Rate Amp Phase Time\n",
    "send(\n",
    "f\"\"\"abort\n",
    "mode 5 1\n",
    "setchannels 2\n",
    "set 0 0 {f112} {f118} {d}   1 1 0 {t}\n",
    "set 0 1 {f118} {f115} {d/4} 1 1 0 {t*2}\n",
    "set 0 2 {f115} {f112} {d}   1 1 0 {t/2}\n",
    "set 0 3 {f112} {f112} {0}   1 1 0 {t}\n",
    "set 0 4 {f115} {f115} {0}   1 1 0 {t}\n",
    "set 0 5 {f118} {f118} {0}   1 1 0 {t}\n",
    "set 0 6 {f118} {f112} {d}   1 1 0 {t}\n",
    "set 0 7 {f112} {f115} {d/4} 1 1 0 {t*2}\n",
    "set 0 8 {f115} {f118} {d}   1 1 0 {t*10}\n",
    "set 0 9 {f112} {f112}  0    1 1 0 1\n",
    "set 1 0 {f112} {f118} {d}   1 0.75 90 {t}\n",
    "set 1 1 {f118} {f115} {d/4} 1 0.5  180 {t*2}\n",
    "set 1 2 {f115} {f112} {d}   1 0.9  90 {t/2}\n",
    "set 1 3 {f112} {f112} {0}   1 1.0  00 {t}\n",
    "set 1 4 {f115} {f115} {0}   1 0.9  90 {t}\n",
    "set 1 5 {f118} {f118} {0}   1 0.8  180 {t}\n",
    "set 1 6 {f118} {f112} {d}   1 0.9  90 {t}\n",
    "set 1 7 {f112} {f115} {d/4} 1 1.0  00 {t*2}\n",
    "set 1 8 {f115} {f118} {d}   1 0.9  90 {t*10}\n",
    "set 1 9 {f112} {f112}  0    1 1.0  90 1\n",
    "set 4 10\n",
    "start\n",
    "\"\"\"\n",
    ")\n",
    "\n",
    "assert send('numtriggers') == '10\\n'\n",
    "print('Success')\n",
    "\n",
    "if SAVE_IMAGES == True:\n",
    "    my_instrument.save_screenshot('mode5-test.png')"
   ]
  },
  {
   "attachments": {},
   "cell_type": "markdown",
   "metadata": {},
   "source": [
    "This produces the following scope trace:    \n",
    "<img src=\"all_sweep.png\" alt=\"Phase Sweep Test on Oscilloscope\">  \n",
    "$D_1$ is the IO_UPDATE line between the pico and the AD9959.  \n",
    "$D_0$ is the external trigger line into the pico.  \n",
    "The yellow trace is channel 1 from the AD9959  \n",
    "The pink trace is the output of a phase frequency detector between channels 0 and 1 of the AD9959\n",
    "The green trace is the interferometer"
   ]
  },
  {
   "cell_type": "markdown",
   "metadata": {},
   "source": [
    "## Mode 6: Phase Sweep and Single Step Amp, Freq"
   ]
  },
  {
   "cell_type": "code",
   "execution_count": 53,
   "metadata": {},
   "outputs": [
    {
     "data": {
      "text/plain": [
       "26"
      ]
     },
     "execution_count": 53,
     "metadata": {},
     "output_type": "execute_result"
    }
   ],
   "source": [
    "my_instrument.write(':DISPlay:ANNotation:TEXT \"Testing Mode 6: Phase Sweep, Single Step Amp, Freq\"')\n",
    "my_instrument.write(':TIMebase:DELay 20.0E-06')\n",
    "my_instrument.write(':TIMebase:SCALe 20.0E-06')"
   ]
  },
  {
   "cell_type": "code",
   "execution_count": 54,
   "metadata": {},
   "outputs": [
    {
     "name": "stdout",
     "output_type": "stream",
     "text": [
      "Success\n"
     ]
    }
   ],
   "source": [
    "f112 = 112e6\n",
    "f115 = 115e6\n",
    "f118 = 118e6\n",
    "\n",
    "d = 0.2\n",
    "t = 2000\n",
    "\n",
    "\n",
    "### freq constant\n",
    "## set Channel Address Start Stop Delta Rate Amp Freq Time\n",
    "send(\n",
    "f\"\"\"abort\n",
    "mode 6 1\n",
    "setchannels 2\n",
    "set 0 0 0 90 {d} 1 1.00 {f112} {t * 2}\n",
    "set 0 1 90 180 {d} 1 1.00 {f112} {t * 2}\n",
    "set 0 2 180 270 {d} 1 1.00 {f112} {t * 2}\n",
    "set 0 3 270 360 {d} 1 1.00 {f112} {t * 2}\n",
    "set 0 4 360 270 {d} 1 1.00 {f112} {t * 2}\n",
    "set 0 5 270 180 {d} 1 1.00 {f112} {t * 2}\n",
    "set 0 6 180 270 {d} 1 1.00 {f112} {t * 2}\n",
    "set 0 7 270 180 {d} 1 1.00 {f112} {t * 2}\n",
    "set 0 8 180 90 {d} 1 1.00 {f112} {t * 2}\n",
    "set 0 9 90 0 {d} 1 1.00 {f112} {t * 10}\n",
    "set 1 0 0 0 90 {d} 1 1.00 {f112} {t * 2}\n",
    "set 1 1 1 90 180 {d} 1 1.00 {f112} {t * 2}\n",
    "set 1 2 2 180 270 {d} 1 1.00 {f112} {t * 2}\n",
    "set 1 3 3 270 360 {d} 1 1.00 {f112} {t * 2}\n",
    "set 1 4 4 360 270 {d} 1 1.00 {f112} {t * 2}\n",
    "set 1 5 5 270 180 {d} 1 1.00 {f112} {t * 2}\n",
    "set 1 6 6 180 270 {d} 1 1.00 {f112} {t * 2}\n",
    "set 1 7 7 270 180 {d} 1 1.00 {f112} {t * 2}\n",
    "set 1 8 8 180 90 {d} 1 1.00 {f112} {t * 2}\n",
    "set 1 9 9 90 0 {d} 1 1.00 {f112} {t * 10}\n",
    "set 4 10\n",
    "start\n",
    "\"\"\"\n",
    ")\n",
    "\n",
    "assert send('numtriggers') == '10\\n'\n",
    "print('Success')\n",
    "\n",
    "if SAVE_IMAGES == True:\n",
    "    my_instrument.save_screenshot('mode6-test.png')"
   ]
  },
  {
   "cell_type": "code",
   "execution_count": 28,
   "metadata": {},
   "outputs": [
    {
     "data": {
      "text/plain": [
       "45"
      ]
     },
     "execution_count": 28,
     "metadata": {},
     "output_type": "execute_result"
    }
   ],
   "source": [
    "my_instrument.write(':DISPlay:ANNotation:TEXT \"Testing finished\"')"
   ]
  }
 ],
 "metadata": {
  "kernelspec": {
   "display_name": ".venv",
   "language": "python",
   "name": "python3"
  },
  "language_info": {
   "codemirror_mode": {
    "name": "ipython",
    "version": 3
   },
   "file_extension": ".py",
   "mimetype": "text/x-python",
   "name": "python",
   "nbconvert_exporter": "python",
   "pygments_lexer": "ipython3",
   "version": "3.11.11"
  }
 },
 "nbformat": 4,
 "nbformat_minor": 4
}
