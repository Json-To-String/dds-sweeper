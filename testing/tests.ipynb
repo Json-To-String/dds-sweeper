{
 "cells": [
  {
   "cell_type": "markdown",
   "metadata": {},
   "source": [
    "# DDS Sweeper Tests"
   ]
  },
  {
   "cell_type": "code",
   "execution_count": 1,
   "metadata": {},
   "outputs": [],
   "source": [
    "import serial\n",
    "import time\n",
    "import pyvisa \n",
    "import numpy as np\n",
    "from IPython.display import Image, display\n",
    "\n",
    "# You will have to change this to whatever COM port the pico is assigned when\n",
    "# you plug it in.\n",
    "# On Windows you can open device manager and look at the 'Ports (COM & LPT)' dropdown\n",
    "# the pico will show up as 'USB Serial Device'\n",
    "PICO_PORT = 'COM3'\n",
    "\n",
    "MHZ = 1000000\n",
    "\n",
    "# without images, entire notebook takes ~40s\n",
    "SAVE_IMAGES = False\n",
    "SHOW_IMAGES = False"
   ]
  },
  {
   "cell_type": "code",
   "execution_count": 2,
   "metadata": {},
   "outputs": [],
   "source": [
    "# helper for sending serial commands\n",
    "# expects a string with the command (they dont have to be escaped with \\r or \\n at the end)\n",
    "# if echo is set to false, that means not to worry about the response from the\n",
    "# pico it signifigantly reduces communication time when sending many\n",
    "# instructions, but you lose out on the debugging info from the pico\n",
    "def send(command: str, echo = True) -> str:\n",
    "    # pico is expecting a newline to end every command\n",
    "    if command[-1] != '\\n':\n",
    "        command += '\\n'\n",
    "\n",
    "    resp = ''\n",
    "    conn = None\n",
    "    try:\n",
    "        conn = serial.Serial(PICO_PORT, baudrate = 152000, timeout = 0.1)\n",
    "        conn.write(command.encode())\n",
    "        if echo:\n",
    "            resp = conn.readlines()\n",
    "            resp = \"\".join([s.decode() for s in resp])\n",
    "\n",
    "    except Exception as e:\n",
    "        print(\"Encountered Error: \", e)\n",
    "\n",
    "    finally:\n",
    "        conn.close()\n",
    "\n",
    "    return resp\n"
   ]
  },
  {
   "cell_type": "markdown",
   "metadata": {},
   "source": [
    "## Test Serial Communication with the Pico"
   ]
  },
  {
   "cell_type": "code",
   "execution_count": 3,
   "metadata": {},
   "outputs": [
    {
     "name": "stdout",
     "output_type": "stream",
     "text": [
      "Serial Communication Successful\n"
     ]
    }
   ],
   "source": [
    "assert send('reset')    == 'ok\\n'\n",
    "assert send('status')   == '0\\n'\n",
    "assert send('version')  == '0.2.1\\n'\n",
    "print('Serial Communication Successful')"
   ]
  },
  {
   "cell_type": "markdown",
   "metadata": {},
   "source": [
    "## Test Register Readback"
   ]
  },
  {
   "cell_type": "code",
   "execution_count": 4,
   "metadata": {},
   "outputs": [
    {
     "data": {
      "text/plain": [
       "{'pll_mult': 4,\n",
       " 0: {'freq': 0.0, 'phase': 0.0, 'amp': 1},\n",
       " 1: {'freq': 0.0, 'phase': 0.0, 'amp': 1},\n",
       " 2: {'freq': 0.0, 'phase': 0.0, 'amp': 1},\n",
       " 3: {'freq': 0.0, 'phase': 0.0, 'amp': 1}}"
      ]
     },
     "execution_count": 4,
     "metadata": {},
     "output_type": "execute_result"
    }
   ],
   "source": [
    "# Helper for reading register values and putting them in a dictionary\n",
    "# takes in the frequency of the reference clock, assuming default of 125 MHz\n",
    "def readregs(ref_clk = 125 * MHZ) -> dict:\n",
    "    ad9959 = {}\n",
    "\n",
    "    regs = send('readregs')\n",
    "    regs = regs.split('\\n')\n",
    "    # strip out register labels\n",
    "    regs = [''.join(r.split()[1:]) for r in regs]\n",
    "\n",
    "    # convert from hex to decimal\n",
    "    for i, reg in enumerate(regs):\n",
    "        try:\n",
    "            regs[i] = int(reg, 16)\n",
    "        except ValueError:\n",
    "            pass\n",
    "\n",
    "    # mask and shift to pull out PLL Multiplier from fr1\n",
    "    ad9959['pll_mult'] = (regs[1] & 0x7c0000) >> 18\n",
    "\n",
    "    # will need system clock to find the frequencies from the tuning words\n",
    "    sys_clk = ref_clk * ad9959['pll_mult']\n",
    "\n",
    "    for i in range(4):\n",
    "        ad9959[i] = {}\n",
    "\n",
    "        ftw = regs[5 + 9 * i]\n",
    "        ad9959[i]['freq'] = ftw / 2**32 * sys_clk\n",
    "\n",
    "        pow = regs[6 + 9 * i]\n",
    "        ad9959[i]['phase'] = pow * 360 / 2**14\n",
    "\n",
    "        acr = regs[7 + 9 * i]\n",
    "        if acr & 0x001000:\n",
    "            ad9959[i]['amp'] = (acr & 0x0003ff) / 1023\n",
    "        else:\n",
    "            ad9959[i]['amp'] = 1\n",
    "    \n",
    "    return ad9959\n",
    "\n",
    "\n",
    "readregs()\n"
   ]
  },
  {
   "cell_type": "code",
   "execution_count": 5,
   "metadata": {},
   "outputs": [
    {
     "name": "stdout",
     "output_type": "stream",
     "text": [
      "Register Readback Successful\n"
     ]
    }
   ],
   "source": [
    "assert send('reset') == 'ok\\n', 'Could not run \"reset\" command'\n",
    "ad9959 = readregs()\n",
    "for i in range(4):\n",
    "    assert ad9959[i]['freq'] == 0\n",
    "    assert ad9959[i]['phase'] == 0\n",
    "    assert ad9959[i]['amp'] == 1\n",
    "\n",
    "send('setfreq 0 100000000')\n",
    "send('setphase 1 270')\n",
    "send('setamp 2 0.5')\n",
    "\n",
    "ad9959 = readregs()\n",
    "\n",
    "assert abs(ad9959[0]['freq'] - 100 * MHZ) < 1\n",
    "assert abs(ad9959[1]['phase'] - 270) < 1\n",
    "assert abs(ad9959[2]['amp'] - 0.5) < 0.01\n",
    "\n",
    "print('Register Readback Successful')"
   ]
  },
  {
   "cell_type": "code",
   "execution_count": 6,
   "metadata": {},
   "outputs": [],
   "source": [
    "class KeysightScope:\n",
    "    \"\"\"\n",
    "    Helper class using pyvisa for a USB connected Keysight Oscilloscope \n",
    "    \"\"\"\n",
    "    def __init__(self, addr='USB?*::INSTR',\n",
    "                 timeout=1, termination='\\n'):\n",
    "        rm = pyvisa.ResourceManager()\n",
    "        devs = rm.list_resources(addr)\n",
    "        assert len(devs), \"pyvisa didn't find any connected devices matching \" + addr\n",
    "        self.dev = rm.open_resource(devs[0])\n",
    "        self.dev.timeout = 15_000 * timeout\n",
    "        self.dev.read_termination = termination\n",
    "        self.idn = self.dev.query('*IDN?')\n",
    "        self.read = self.dev.read\n",
    "        self.write = self.dev.write\n",
    "        self.query = self.dev.query\n",
    "\n",
    "    def _get_screenshot(self, verbose=False):\n",
    "        if verbose == True:\n",
    "            print('Acquiring screen image...')\n",
    "        return(self.dev.query_binary_values(':DISPlay:DATA? PNG, COLor', datatype='s'))\n",
    "\n",
    "    def save_screenshot(self, filepath, verbose=False, inksaver=False):\n",
    "        if verbose == True:\n",
    "            print('Saving screen image...')\n",
    "        result = self._get_screenshot()\n",
    "\n",
    "        # Keysight scope defaults to inksaving for image save\n",
    "        if inksaver == True:\n",
    "            self.dev.write(':HARDcopy:INKSaver 1')\n",
    "        else: \n",
    "            self.dev.write(':HARDcopy:INKSaver OFF')\n",
    "\n",
    "        with open(f'{filepath}', 'wb+') as ofile:\n",
    "            ofile.write(bytes(result))\n",
    "\n",
    "    def set_time_delay(self, time):\n",
    "        self.write(f':TIMebase:DELay {time}')\n",
    "\n",
    "    def set_time_scale(self, time):\n",
    "        self.write(f':TIMebase:SCALe {time}')\n",
    "\n",
    "my_instrument = KeysightScope()"
   ]
  },
  {
   "cell_type": "markdown",
   "metadata": {},
   "source": [
    "## Set Viewing Params"
   ]
  },
  {
   "cell_type": "code",
   "execution_count": 7,
   "metadata": {},
   "outputs": [
    {
     "data": {
      "text/plain": [
       "27"
      ]
     },
     "execution_count": 7,
     "metadata": {},
     "output_type": "execute_result"
    }
   ],
   "source": [
    "# my_instrument.query('*LRN?')\n",
    "# my_instrument.query('TIMebase:MODE?')\n",
    "my_instrument.write(\":CHANnel1:DISPlay 1\")\n",
    "my_instrument.write(':ChANnel1:SCALe +250E-03')\n",
    "my_instrument.write(':ChANnel1:OFFSet -450E-03')\n",
    "\n",
    "my_instrument.write(\":CHANnel2:DISPlay 1\")\n",
    "my_instrument.write(':ChANnel2:SCALe +1.00E+00')\n",
    "my_instrument.write(':ChANnel2:OFFSet 275E-03')\n",
    "my_instrument.write(\":TRIGger:EDGE:SOURce CHANnel2\")\n",
    "\n",
    "my_instrument.write(\":CHANnel3:DISPlay 1\")\n",
    "my_instrument.write(':ChANnel3:SCALe +1.00E+00')\n",
    "my_instrument.write(':ChANnel3:OFFSet +2.0E+00')\n",
    "\n",
    "my_instrument.write(\":CHANnel4:DISPlay 1\")\n",
    "my_instrument.write(':ChANnel4:SCALe +1.00E+00')\n",
    "my_instrument.write(':ChANnel4:OFFSet +2.0E+00')\n",
    "\n",
    "## ensure Source 1 and Source 2 are the outputs of the PFD on your setup\n",
    "my_instrument.write(':FUNCtion:SOURce1 CHAN3')\n",
    "my_instrument.write(':FUNCtion:SOURce2 CHAN4')\n",
    "my_instrument.write(':FUNCtion:OPERation SUBTract')\n",
    "\n",
    "my_instrument.write(':FUNCtion:OPERation SUBTract')\n",
    "my_instrument.write(':FUNCtion:OFFSet +500E-03')\n",
    "my_instrument.write(':FUNCtion:SCALe +1.00E+00')\n",
    "\n"
   ]
  },
  {
   "cell_type": "markdown",
   "metadata": {},
   "source": [
    "## Manual Testing"
   ]
  },
  {
   "cell_type": "markdown",
   "metadata": {},
   "source": [
    "### Different Freqs\n"
   ]
  },
  {
   "cell_type": "code",
   "execution_count": 8,
   "metadata": {},
   "outputs": [
    {
     "data": {
      "text/plain": [
       "'ok\\n'"
      ]
     },
     "execution_count": 8,
     "metadata": {},
     "output_type": "execute_result"
    }
   ],
   "source": [
    "## source\n",
    "freq0 = 125 * MHZ # source freq > ref freq\n",
    "phase0 = 0\n",
    "amp0 = 1\n",
    "\n",
    "## reference\n",
    "freq1 = 85 * MHZ\n",
    "phase1 = 270\n",
    "amp1 = 1\n",
    "\n",
    "send(f'setfreq 0 {freq0}')\n",
    "send(f'setphase 0 {phase0}')\n",
    "send(f'setamp 0 {amp0}')\n",
    "\n",
    "send(f'setfreq 1 {freq1}')\n",
    "send(f'setphase 1 {phase1}')\n",
    "send(f'setamp 1 {amp1}')"
   ]
  },
  {
   "cell_type": "markdown",
   "metadata": {},
   "source": [
    "### Different Phases\n"
   ]
  },
  {
   "cell_type": "code",
   "execution_count": 9,
   "metadata": {},
   "outputs": [
    {
     "data": {
      "text/plain": [
       "'ok\\n'"
      ]
     },
     "execution_count": 9,
     "metadata": {},
     "output_type": "execute_result"
    }
   ],
   "source": [
    "# send(f\"\"\"\n",
    "#      abort\n",
    "#      mode 0 1\n",
    "#      setchannels 1\n",
    "#      \"\"\")\n",
    "## source\n",
    "freq0 = 100 * MHZ # source freq > ref freq\n",
    "phase0 = 0\n",
    "amp0 = 1\n",
    "\n",
    "## reference\n",
    "freq1 = 100 * MHZ\n",
    "phase1 = 270\n",
    "amp1 = 1\n",
    "\n",
    "send(f'setfreq 0 {freq0}')\n",
    "send(f'setphase 0 {phase0}')\n",
    "send(f'setamp 0 {amp0}')\n",
    "\n",
    "send(f'setfreq 1 {freq1}')\n",
    "send(f'setphase 1 {phase1}')\n",
    "send(f'setamp 1 {amp1}')"
   ]
  },
  {
   "cell_type": "markdown",
   "metadata": {},
   "source": [
    "### seti\n",
    "`seti`\n",
    "Sets the value of instruction number `addr` for channel `channel` (zero indexed). `addr` starts at 0. It looks different depending on what mode the sweeper is in. If `Debug` is set to `on` it will respond with the actual values set for that instruction. `seti` uses integer values (AD9959 units) rather than floating point values. Otherwise, it is the same as `set`.\n",
    "  - Single Stepping (mode 0): `seti <channel:int> <addr:int> <frequency:int> <amplitude:int> <phase:int> (<time:int>)`\n",
    "  - Sweep Mode (modes 1-3): `seti <channel:int> <addr:int> <start_point:int> <end_point:int> <delta:int> <ramp-rate:int> (<time:int>)`\n",
    "\n",
    "    `start_point` is the value the sweep should start from, and `end_point` is where it will stop. `delta` is the amount that the output should change by every cycle of the sweep clock. In the AD9959, the sweep clock runs at one quarter the system clock. `ramp-rate` is an additional divider that can applied to slow down the sweep clock further, must be in the range 1-255. The types of values expected for `start_point`, `end_point`, and `delta` different depending on the type of sweep  \n",
    "      - Amplitude Sweeps (mode 1)  \n",
    "        `start_point` and `end_point` should be integers between 0 and 1023 (inclusive).\n",
    "      - Frequency Sweeps (mode 2)  \n",
    "        `start_point`, `end_point`, and `delta` are integers between 0 and $2^{32} - 1$ in units of system clock rate (typically $500$ MHz) over $2^{32}$.\n",
    "      - Phase Sweeps (mode 3)\n",
    "        `start_point`, `end_point`, and `delta` are between 0 and 65535 (inclusive).\n",
    "\n",
    "  - Sweep and Single Stepping Mode (modes 4-6): `set <channel:int> <addr:int> <start_point:int> <end_point:int> <delta:int> <ramp-rate:int> <secondary1:int> <secondary2:int> (<time:int>)`\n",
    "\n",
    "    These modes perform a linear sweep on one of the parameters, while simulaneously single stepping on the other two parameters.\n",
    "      - Amplitude Sweeps (mode 4)  \n",
    "        `secondary1` is the frequency, and `secondary2` is the phase offset.\n",
    "      - Frequency Sweeps (mode 5)  \n",
    "        `secondary1` is the amplitude scale factor, and `secondary2` is the phase offset.\n",
    "      - Phase Sweeps (mode 6)  \n",
    "        `secondary1` is the amplitude scale factor, and `secondary2` is the frequency."
   ]
  },
  {
   "cell_type": "code",
   "execution_count": 10,
   "metadata": {},
   "outputs": [],
   "source": [
    "\n",
    "# def integer_map(old_units: float, unit_type: str) -> int:\n",
    "\n",
    "#     if \"amp\" in unit_type.lower():\n",
    "#         rise = 1023\n",
    "#         run = 1\n",
    "#     elif \"freq\" in unit_type.lower():\n",
    "#         rise = 2**32 - 1\n",
    "#         run = 500000000\n",
    "#     elif \"phase\" in unit_type.lower():\n",
    "#         rise = 65535\n",
    "#         run = 360\n",
    "#     else:\n",
    "#         print(\"Invalid argument\")\n",
    "\n",
    "#     new_units = old_units * (rise / run)\n",
    "\n",
    "#     # assert type(new_units) == int, \"did not cast to int\"\n",
    "#     return(int(new_units))\n",
    "\n",
    "\n",
    "## slightly different logic than the ad9959.c funcs due to python vs c\n",
    "def get_ftw(freq_out: float, freq_sys: float = 125 * MHZ):\n",
    "\n",
    "    ftw = (freq_out / freq_sys) * 2**32\n",
    "    \n",
    "    return(int(ftw))\n",
    "\n",
    "def get_pow(phase: float):\n",
    "    \n",
    "    pow = round(phase / 360 * (2**14 - 1))\n",
    "\n",
    "    return pow\n",
    "\n",
    "def get_asf(amp: float):\n",
    "    \n",
    "    asf = round(amp * 1024)\n",
    "\n",
    "    return asf"
   ]
  },
  {
   "cell_type": "markdown",
   "metadata": {},
   "source": [
    "### setb\n",
    " `setb<start address:int> <instruction count:int>`:  \n",
    "Bulk setting of instructions in binary. `start address` is the address of the first instruction loaded. `instruction count` instructions will be programmed. If there is not sufficient space for that many instructions, the response will be an error message. Otherwise, the response will be `ready for <byte count:int> bytes`, where `byte count` is the number of bytes the device is expecting. An array of instructions can then be transmitted. Note that all active channels are loaded together. The layout of the instruction array is mode dependent:  \n",
    "   - Single Stepping (mode 0): `<frequency:int 32> <amplitude:int 16> <phase:int 16>`. Total of 8 bytes per channel per instruction.  \n",
    "   - Single Stepping (mode 0) with timing: `<frequency:int 32> <amplitude:int 16> <phase:int 16> <time: int 32>`. Total of 12 bytes per channel per instruction.  \n",
    "   - Amplitude Sweeps (mode 1): `<start amplitude:int 16> <stop amplitude:int 16> <delta:int 16> <rate:int 8>`. Total of 7 bytes per channel per instruction.  \n",
    "   - Amplitude Sweeps (mode 1) with timing: `<start amplitude:int 16> <stop amplitude:int 16> <delta:int 16> <rate:int 8> <time:int 32>`. Total of 11 bytes per channel per instruction.  \n",
    "   - Frequency Sweeps (mode 2): `<start frequency:int 32> <stop frequency:int 32> <delta:int 32> <rate:int 8>`. Total of 13 bytes per channel per instruction.  \n",
    "   - Frequency Sweeps (mode 2) with timing: `<start frequency:int 32> <stop frequency:int 32> <delta:int 32> <rate:int 8> <time:int 32>`. Total of 17 bytes per channel per instruction.  \n",
    "   - Phase Sweeps (mode 1): `<start phase:int 16> <stop phase:int 16> <delta:int 16> <rate:int 8>`. Total of 7 bytes per channel per instruction.  \n",
    "   - Phase Sweeps (mode 1) with timing: `<start phase:int 16> <stop phase:int 16> <delta:int 16> <rate:int 8> <time:int 32>`. Total of 11 bytes per channel per instruction.  \n",
    "   - Amplitude Sweep and Single Stepping (mode 4): `<start amplitude:int 16> <stop amplitude:int 16> <delta:int 16> <rate:int 8> <frequency:int 32> <phase:int 16>`. Total of 13 bytes per channel per instruction.  \n",
    "   - Amplitude Sweep and Single Stepping (mode 4) with timing: `<start amplitude:int 16> <stop amplitude:int 16> <delta:int 16> <rate:int 8> <frequency:int 32> <phase:int 16> <time:int 32>`. Total of 17 bytes per channel per instruction.  \n",
    "   - Frequency Sweep and Single Stepping (mode 5): `<start frequency:int 32> <stop frequency:int 32> <delta:int 32> <rate:int 8> <amplitude:int 16> <phase:int 16>`. Total of 17 bytes per channel per instruction.  \n",
    "   - Frequency Sweep and Single Stepping (mode 5) with timing: `<start frequency:int 32> <stop frequency:int 32> <delta:int 32> <rate:int 8> <amplitude:int 16> <phase:int 16> <time:int 32>`. Total of 21 bytes per channel per instruction.  \n",
    "   - Phase Sweep and Single Stepping (mode 6): `<start phase:int 16> <stop phase:int 16> <delta:int 16> <rate:int 8> <frequency:int 32> <amplitude:int 16>`. Total of 13 bytes per channel per instruction.  \n",
    "   - Phase Sweep and Single Stepping (mode 6) with timing: `<start phase:int 16> <stop phase:int 16> <delta:int 16> <rate:int 8> <frequency:int 32> <amplitude:int 16> <time:int 32>`. Total of 17 bytes per channel per instruction."
   ]
  },
  {
   "cell_type": "code",
   "execution_count": 11,
   "metadata": {},
   "outputs": [],
   "source": [
    "\n"
   ]
  },
  {
   "cell_type": "code",
   "execution_count": 12,
   "metadata": {},
   "outputs": [],
   "source": [
    "# import struct \n",
    "# def create_setb_command(start_address, instruction_count, instructions):\n",
    "\n",
    "#     ## mode 0 parameters to start\n",
    "#     byte_count = instruction_count * 8\n",
    "\n",
    "#     command_str = f\"setb {start_address} {instruction_count}\"\n",
    "\n",
    "#     instruction_in_bytes = b''\n",
    "\n",
    "#     # u32 u16 u16\n",
    "#     for freq, amp, phase in instructions:\n",
    "\n",
    "#         instruction_in_bytes += struct.pack('>IHH', freq, amp, phase)\n",
    "\n",
    "#     return command_str, byte_count, instruction_in_bytes\n",
    "\n",
    "\n",
    "# # (freq, amp, phase)\n",
    "# example_instructions = [\n",
    "#     (100000000, 1, 90),\n",
    "#     (120000000, 1, 90)\n",
    "#     # (120000000, 1, 90),\n",
    "#     # (110000000, 1, 90),\n",
    "#     # (100000000, 1, 90),\n",
    "# ]\n",
    "\n",
    "# start_addr = 4096\n",
    "# num_instructions = 5\n",
    "\n",
    "# command, byte_count, instruction_bytes = create_setb_command(start_addr, num_instructions, example_instructions)\n",
    "\n",
    "# # send(f'setb 4096 ')\n",
    "# # send(f'setb {command}')\n",
    "# print(instruction_bytes)\n",
    "# # instruction_bytes.decode()"
   ]
  },
  {
   "cell_type": "code",
   "execution_count": 444,
   "metadata": {},
   "outputs": [
    {
     "data": {
      "text/plain": [
       "'ok\\n'"
      ]
     },
     "execution_count": 444,
     "metadata": {},
     "output_type": "execute_result"
    }
   ],
   "source": [
    "send('abort')\n",
    "send('reset')\n"
   ]
  },
  {
   "cell_type": "code",
   "execution_count": 460,
   "metadata": {},
   "outputs": [
    {
     "name": "stdout",
     "output_type": "stream",
     "text": [
      "ready for 48 bytes\n",
      "\n",
      "sent 48 bytes\n"
     ]
    },
    {
     "data": {
      "text/plain": [
       "'ok\\n'"
      ]
     },
     "execution_count": 460,
     "metadata": {},
     "output_type": "execute_result"
    }
   ],
   "source": [
    "my_instrument.write(':DISPlay:ANNotation:TEXT \"Testing setb\"')\n",
    "my_instrument.write(':TIMebase:DELay 20.0E-06')\n",
    "my_instrument.write(':TIMebase:SCALe 20.0E-06')\n",
    "\n",
    "\n",
    "dt = np.dtype([('frequency', np.uint32), ('amplitude', np.uint16), ('phase', np.uint16), ('time', np.uint32)])\n",
    "# dt = np.dtype([('frequency', np.uint32), ('amplitude', np.uint16), ('phase', np.uint16)])\n",
    "\n",
    "f1 = get_ftw(freq_out = 100 * MHZ)\n",
    "f2 = get_ftw(freq_out = 120 * MHZ)\n",
    "f3 = get_ftw(freq_out = 110 * MHZ)\n",
    "\n",
    "p1 = get_pow(phase = 90)\n",
    "p2 = get_pow(phase = 180)\n",
    "p3 = get_pow(phase = 270)\n",
    "\n",
    "t = 2000\n",
    "\n",
    "# example_instructions = np.array([\n",
    "#                                 (f1, 1023, p1),\n",
    "#                                 (f2, 800, p2),\n",
    "#                                 (f3, 1023, p3)\n",
    "#                                  ]\n",
    "#                                  , dtype = dt)\n",
    "\n",
    "example_instructions = np.array([\n",
    "                                (f1, 600, p1, t),\n",
    "                                (f1, 800, p1, t),\n",
    "                                (f1, 1023, p1, t),\n",
    "                                (f1, 800, p1, t)\n",
    "                                 ]\n",
    "                                 , dtype = dt)\n",
    "\n",
    "\n",
    "instructions_bytes = example_instructions.tobytes()\n",
    "# instructions_bytes\n",
    "\n",
    "# np.frombuffer(instructions_bytes, dtype = dt)\n",
    "\n",
    "my_instrument.write(':DISPlay:ANNotation:TEXT \"Testing setb\"')\n",
    "num_instructions = example_instructions.size\n",
    "\n",
    "send(\n",
    "f\"\"\"abort\n",
    "mode 0 1\n",
    "setchannels 1\n",
    "\"\"\"\n",
    ")\n",
    "\n",
    "response = send(f'setb 0 %d' % len(example_instructions))\n",
    "print(response)\n",
    "\n",
    "send(f'setb {instructions_bytes}')\n",
    "if not response.startswith('ready'):\n",
    "    print(f'error, got response: {response}')\n",
    "    \n",
    "print(f'sent {example_instructions.nbytes} bytes')\n",
    "\n",
    "send(f'set 4 {len(example_instructions)}')\n",
    "send('start')\n"
   ]
  },
  {
   "cell_type": "code",
   "execution_count": 425,
   "metadata": {},
   "outputs": [],
   "source": [
    "# example_instructions"
   ]
  },
  {
   "cell_type": "code",
   "execution_count": 426,
   "metadata": {},
   "outputs": [],
   "source": [
    "z = np.array(f1, dtype = np.uint32)\n",
    "x = np.array(1023, dtype = np.uint16)\n",
    "y = np.array(90, dtype = np.uint16)\n",
    "\n",
    "# print(z.nbytes)\n",
    "# print(x.nbytes)\n",
    "# print(y.nbytes)\n",
    "# print(len(example_instructions))\n",
    "# print(len(instructions_bytes))\n",
    "# print(example_instructions.nbytes)\n",
    "# print(instructions_bytes)"
   ]
  },
  {
   "cell_type": "code",
   "execution_count": 432,
   "metadata": {},
   "outputs": [
    {
     "data": {
      "text/plain": [
       "''"
      ]
     },
     "execution_count": 432,
     "metadata": {},
     "output_type": "execute_result"
    }
   ],
   "source": [
    "send('reset')"
   ]
  },
  {
   "cell_type": "markdown",
   "metadata": {},
   "source": [
    "### Odd problem"
   ]
  },
  {
   "cell_type": "code",
   "execution_count": 15,
   "metadata": {},
   "outputs": [],
   "source": [
    "# send('reset')\n",
    "# send('mode 0 1')\n",
    "# send('setchannels 1')\n",
    "\n",
    "# print(send('set 0 0 100000000 1 0 500000'))\n",
    "# print(send('set 4 1')) # this works fine\n",
    "\n",
    "# send('reset')\n",
    "# send('mode 0 1')\n",
    "# send('setchannels 1')\n",
    "\n",
    "# print(send('set 4 1'))  # this fails\n",
    "# print(send('set 0 0 100000000 1 0 500000'))"
   ]
  },
  {
   "cell_type": "markdown",
   "metadata": {},
   "source": [
    "## Test Mode 0: Single Stepping Table Mode\n",
    "\n",
    "Program a 2000 step table that single steps from 10 MHz to 100 MHz over the course of 2 seconds.\n",
    "The resulting sweep can easily be seen with a spectrum analyzer. \n",
    "It is then automatically executed and checks that all 2000 triggers were processed successfully."
   ]
  },
  {
   "cell_type": "markdown",
   "metadata": {},
   "source": [
    "### Single Step Frequency"
   ]
  },
  {
   "cell_type": "code",
   "execution_count": 361,
   "metadata": {},
   "outputs": [
    {
     "name": "stdout",
     "output_type": "stream",
     "text": [
      "Table Programmed, Executing\n",
      "Table Executed successfully\n"
     ]
    }
   ],
   "source": [
    "my_instrument.write(':TIMebase:DELay 20.0E-06')\n",
    "my_instrument.write(':TIMebase:SCALe 10.0E-09')\n",
    "my_instrument.write(\":CHANnel2:DISPlay 0\")\n",
    "my_instrument.write(':DISPlay:ANNotation:TEXT \"Testing Mode 0a: Single Stepping Frequency\"')\n",
    "send('reset')\n",
    "\n",
    "startPoint = 10 * MHZ\n",
    "endPoint = 100 * MHZ\n",
    "totalTime = 2 # sec\n",
    "\n",
    "spacing = 1000 * 10**(-6) # us\n",
    "steps = round(totalTime / spacing)\n",
    "delta = (endPoint - startPoint) / steps\n",
    "\n",
    "send('debug off')\n",
    "send('mode 0 1')\n",
    "send('setchannels 1')\n",
    "\n",
    "for i in range(steps):\n",
    "    send(f'set 0 {i} {startPoint + delta * i} 1 0 {spacing * 10**9 / 8}', echo=False)\n",
    "assert send(f'set 4 {i + 1}') == \"ok\\n\"\n",
    "\n",
    "print(\"Table Programmed, Executing\")\n",
    "assert send('start') == 'ok\\n', 'Buffered Execution did not start correctly'\n",
    "\n",
    "if SAVE_IMAGES == True:\n",
    "    time.sleep(totalTime * (1/3))\n",
    "    my_instrument.save_screenshot('mode0a-freqstep-during.png')\n",
    "    time.sleep(totalTime * (2/3))\n",
    "    my_instrument.save_screenshot('mode0a-freqstep-after.png')\n",
    "else:\n",
    "    time.sleep(totalTime)\n",
    "assert send('numtriggers') == f'{steps}\\n', 'Wrong number of triggers processed'\n",
    "print('Table Executed successfully')\n",
    "\n"
   ]
  },
  {
   "cell_type": "markdown",
   "metadata": {},
   "source": [
    "### Single Step Amplitude"
   ]
  },
  {
   "cell_type": "code",
   "execution_count": 17,
   "metadata": {},
   "outputs": [
    {
     "name": "stdout",
     "output_type": "stream",
     "text": [
      "Table Programmed, Executing\n",
      "Table Executed successfully\n"
     ]
    }
   ],
   "source": [
    "my_instrument.write(':DISPlay:ANNotation:TEXT \"Testing Mode 0b: Single Stepping Amplitude\"')\n",
    "\n",
    "startFreq = 100 * MHZ\n",
    "startPhase = 0\n",
    "\n",
    "startPoint = 0\n",
    "endPoint = 1\n",
    "totalTime = 2 # sec\n",
    "\n",
    "spacing = 10000 * 10**(-6) # us\n",
    "steps = round(totalTime / spacing)\n",
    "delta = (endPoint - startPoint) / steps\n",
    "\n",
    "send('debug off')\n",
    "send('mode 0 1')\n",
    "send('setchannels 1')\n",
    "\n",
    "for i in range(steps):\n",
    "    send(f'set 0 {i} {startFreq} {startPoint + delta * i} {startPhase} {spacing * 10**9 / 8}', echo=False)\n",
    "\n",
    "assert send(f'set 4 {i + 1}') == \"ok\\n\"\n",
    "\n",
    "print(\"Table Programmed, Executing\")\n",
    "assert send('start') == 'ok\\n', 'Buffered Execution did not start correctly'\n",
    "if SAVE_IMAGES == True:\n",
    "    time.sleep(totalTime * (1/3))\n",
    "    my_instrument.save_screenshot('mode0b-ampstep-during.png')\n",
    "    time.sleep(totalTime * (2/3))\n",
    "    my_instrument.save_screenshot('mode0b-ampstep-after.png')\n",
    "else:\n",
    "    time.sleep(totalTime)\n",
    "assert send('numtriggers') == f'{steps}\\n', 'Wrong number of triggers processed'\n",
    "print('Table Executed successfully')"
   ]
  },
  {
   "cell_type": "markdown",
   "metadata": {},
   "source": [
    "### Single Step Phase"
   ]
  },
  {
   "cell_type": "code",
   "execution_count": 18,
   "metadata": {},
   "outputs": [
    {
     "name": "stdout",
     "output_type": "stream",
     "text": [
      "Table Programmed, Executing\n",
      "Table Executed successfully\n"
     ]
    }
   ],
   "source": [
    "my_instrument.write(':DISPlay:ANNotation:TEXT \"Testing Mode 0c: Single Stepping Phase\"')\n",
    "\n",
    "startFreq = 100 * MHZ\n",
    "startAmp = 1\n",
    "\n",
    "startPoint = 0\n",
    "endPoint = 360\n",
    "totalTime = 2 # sec\n",
    "\n",
    "spacing = 1000 * 10**(-6) # us\n",
    "steps = round(totalTime / spacing)\n",
    "delta = (endPoint - startPoint) / steps\n",
    "\n",
    "send('debug off')\n",
    "send('mode 0 1')\n",
    "send('setchannels 1')\n",
    "\n",
    "for i in range(steps):\n",
    "    send(f'set 0 {i} {startFreq} {startAmp} {startPoint + delta * i} {spacing * 10**9 / 8}', echo=False)\n",
    "\n",
    "assert send(f'set 4 {i + 1}') == \"ok\\n\"\n",
    "\n",
    "print(\"Table Programmed, Executing\")\n",
    "assert send('start') == 'ok\\n', 'Buffered Execution did not start correctly'\n",
    "if SAVE_IMAGES == True:\n",
    "    time.sleep(totalTime * (1/3))\n",
    "    my_instrument.save_screenshot('mode0c-phasestep-during.png')\n",
    "    time.sleep(totalTime * (2/3))\n",
    "    my_instrument.save_screenshot('mode0c-phasestep-after.png')\n",
    "else:\n",
    "    time.sleep(totalTime)\n",
    "assert send('numtriggers') == f'{steps}\\n', 'Wrong number of triggers processed'\n",
    "print('Table Executed successfully')"
   ]
  },
  {
   "cell_type": "markdown",
   "metadata": {},
   "source": [
    "### Test Non-Volatile Storage\n",
    "Run this test after the previous one to test storing and retrieving table instructions in non-volatile memory that will survive a power cycle."
   ]
  },
  {
   "cell_type": "code",
   "execution_count": 19,
   "metadata": {},
   "outputs": [
    {
     "name": "stdout",
     "output_type": "stream",
     "text": [
      "Table run from non-volatile memory successfully\n"
     ]
    }
   ],
   "source": [
    "my_instrument.write(':DISPlay:ANNotation:TEXT \"Testing Table Save and Load\"')\n",
    "\n",
    "send('save')\n",
    "\n",
    "# # destory current table\n",
    "time.sleep(2)\n",
    "for i in range(steps):\n",
    "    send(f'set 0 {i} 0 0 0 0', echo=False)\n",
    "\n",
    "# load and run table\n",
    "send('load')\n",
    "time.sleep(1)\n",
    "send('mode 0 1')\n",
    "send('setchannels 1')\n",
    "send('start')\n",
    "\n",
    "time.sleep(2)\n",
    "# assert send('numtriggers') == '2000\\n', 'Something went wrong'\n",
    "print('Table run from non-volatile memory successfully')\n",
    "\n",
    "if SAVE_IMAGES == True:\n",
    "    my_instrument.save_screenshot('mode0-recall-last-test.png')"
   ]
  },
  {
   "cell_type": "markdown",
   "metadata": {},
   "source": [
    "## Mode 1: Amplitude Sweep\n",
    "\n",
    "### Pico Start"
   ]
  },
  {
   "cell_type": "code",
   "execution_count": 79,
   "metadata": {},
   "outputs": [
    {
     "name": "stdout",
     "output_type": "stream",
     "text": [
      "Success\n"
     ]
    }
   ],
   "source": [
    "my_instrument.write(':DISPlay:ANNotation:TEXT \"Testing Mode 1\"')\n",
    "my_instrument.write(':TIMebase:DELay 35.0E-06')\n",
    "my_instrument.write(':TIMebase:SCALe 10.0E-06')\n",
    "\n",
    "send('reset')\n",
    "\n",
    "filename = 'mode1-picostart-ampsweep-test.png'\n",
    "\n",
    "send('debug off')\n",
    "send(f\"\"\"mode 1 1\n",
    "setchannels 1\n",
    "setfreq 0 100000000\n",
    "setfreq 1 100000000\n",
    "setfreq 2 100000000\n",
    "setfreq 3 100000000\n",
    "set 0 0 1.0 0.0 0.001 1 2000\n",
    "set 0 1 0.0 0.5 0.001 1 2000\n",
    "set 0 2 0.5 1.0 0.001 1 2000\n",
    "set 0 3 1.0 0.0 0.001 1 2000\n",
    "set 0 4 0.0 1.0 0.001 1 2000\n",
    "set 0 5 1.0 0.5 0.001 1 2000\n",
    "set 0 6 0.5 0.0 0.001 1 2000\n",
    "set 0 7 0.0 1.0 0.001 1 2000\n",
    "set 4 8\n",
    "start\n",
    "\"\"\")\n",
    "\n",
    "assert send('numtriggers') == '8\\n'\n",
    "print('Success')\n",
    "if SAVE_IMAGES == True:\n",
    "    my_instrument.save_screenshot(filename)\n",
    "\n",
    "if SHOW_IMAGES == True:\n",
    "    display(Image(filename))"
   ]
  },
  {
   "cell_type": "markdown",
   "metadata": {},
   "source": [
    "### HWStart"
   ]
  },
  {
   "cell_type": "code",
   "execution_count": 21,
   "metadata": {},
   "outputs": [],
   "source": [
    "filename = 'mode1-hwstart-ampsweep-test.png'\n",
    "\n",
    "send('debug off')\n",
    "send(\"\"\"abort\n",
    "mode 1 1\n",
    "setchannels 1\n",
    "setfreq 0 100000000\n",
    "setfreq 1 100000000\n",
    "setfreq 2 100000000\n",
    "setfreq 3 100000000\n",
    "set 0 0 1.0 0.0 0.001 1 2000\n",
    "set 0 1 0.0 0.5 0.001 1 2000\n",
    "set 0 2 0.5 1.0 0.001 1 2000\n",
    "set 0 3 1.0 0.0 0.001 1 2000\n",
    "set 0 4 0.0 1.0 0.001 1 2000\n",
    "set 0 5 1.0 0.5 0.001 1 2000\n",
    "set 0 6 0.5 0.0 0.001 1 2000\n",
    "set 0 7 0.0 1.0 0.001 1 2000\n",
    "set 4 8\n",
    "hwstart\n",
    "\"\"\")\n",
    "\n",
    "if SAVE_IMAGES == True:\n",
    "    my_instrument.save_screenshot(filename)\n",
    "\n",
    "if SHOW_IMAGES == True:\n",
    "    display(Image(filename))"
   ]
  },
  {
   "attachments": {},
   "cell_type": "markdown",
   "metadata": {},
   "source": [
    "The following is the expected scope trace:  \n",
    "<img src=\"amp-test.png\" alt=\"Amplitude Sweep Test on Oscilloscope\">  \n",
    "$D_1$ is the IO_UPDATE line between the pico and the AD9959.  \n",
    "$D_0$ is the external trigger line into the pico.  \n",
    "The yellow trace is any of the 4 channel outputs from the AD9959"
   ]
  },
  {
   "cell_type": "markdown",
   "metadata": {},
   "source": [
    "## Mode 2: Frequency Sweep"
   ]
  },
  {
   "cell_type": "markdown",
   "metadata": {},
   "source": [
    "### `set`"
   ]
  },
  {
   "cell_type": "code",
   "execution_count": 22,
   "metadata": {},
   "outputs": [
    {
     "name": "stdout",
     "output_type": "stream",
     "text": [
      "Success\n"
     ]
    }
   ],
   "source": [
    "my_instrument.write(':DISPlay:ANNotation:TEXT \"Testing Mode 2: Frequency Sweep\"')\n",
    "my_instrument.write(':TIMebase:DELay 40.0E-06')\n",
    "my_instrument.write(':TIMebase:SCALe 10.0E-06')\n",
    "send('reset')\n",
    "\n",
    "filename = 'mode2-freqsweep-test.png'\n",
    "\n",
    "# f112 = 112e6\n",
    "# f115 = 115e6\n",
    "# f118 = 118e6\n",
    "\n",
    "f1 = 120e6\n",
    "f2 = 90e6\n",
    "f3 = 130e6\n",
    "\n",
    "d = 2000\n",
    "t = 3000\n",
    "\n",
    "send(\n",
    "f\"\"\"abort\n",
    "mode 2 1\n",
    "setchannels 1\n",
    "set 0 0 {f1} {f3} {d * 1} 1 {t * 1}\n",
    "set 0 1 {f3} {f2} {d / 4} 1 {t * 2}\n",
    "set 0 2 {f2} {f1} {d * 1} 1 {t / 2}\n",
    "set 0 3 {f1} {f1} {d * 0} 1 {t * 1}\n",
    "set 0 4 {f2} {f2} {d * 0} 1 {t * 1}\n",
    "set 0 5 {f3} {f3} {d * 0} 1 {t * 1}\n",
    "set 0 6 {f3} {f1} {d * 0} 1 {t * 1}\n",
    "set 0 7 {f1} {f2} {d / 4} 1 {t * 2}\n",
    "set 0 8 {f2} {f3} {d * 0} 1 {t * 10}\n",
    "set 0 9 {f1} {f1} {d * 0} 1 1\n",
    "set 4 10\n",
    "start\n",
    "\"\"\"\n",
    ")\n",
    "\n",
    "assert send('numtriggers') == '10\\n'\n",
    "print('Success')\n",
    "\n",
    "if SAVE_IMAGES == True:\n",
    "    my_instrument.save_screenshot(filename)\n",
    "\n",
    "if SHOW_IMAGES == True:\n",
    "    display(Image(filename))"
   ]
  },
  {
   "attachments": {},
   "cell_type": "markdown",
   "metadata": {},
   "source": [
    "The following is the expected scope trace:  \n",
    "<img src=\"freq-test.png\" alt=\"Frequency Sweep Example on oscilloscope\">  \n",
    "$D_1$ is the IO_UPDATE line between the pico and the AD9959.  \n",
    "$D_0$ is the external trigger line into the pico.  \n",
    "The yellow trace is any of the 4 channel outputs from the AD9959  \n",
    "The green trace is the output from an interferometer\n",
    "\n",
    "\n",
    "\n",
    "The following code is for the same trace, but with an external trigger:"
   ]
  },
  {
   "cell_type": "code",
   "execution_count": 23,
   "metadata": {},
   "outputs": [
    {
     "data": {
      "text/plain": [
       "'ok\\nok\\nok\\n6\\nok\\n6\\nok\\n6\\nok\\n6\\nok\\n6\\nok\\n6\\nok\\n2\\nok\\nok\\n'"
      ]
     },
     "execution_count": 23,
     "metadata": {},
     "output_type": "execute_result"
    }
   ],
   "source": [
    "send(\n",
    "f\"\"\"abort\n",
    "mode 2 0\n",
    "setchannels 1\n",
    "set 0 0 {f1} {f3} {d} 1 {t}\n",
    "set 0 1 {f3} {f2} {d} 1 {t}\n",
    "set 0 2 {f2} {f1} {d} 1 {t}\n",
    "set 0 3 {f1} {f2} {d} 1 {t}\n",
    "set 0 4 {f2} {f3} {d} 1 {t}\n",
    "set 0 5 {f3} {f1} {d} 1 {t}\n",
    "set 5 6\n",
    "hwstart\n",
    "\"\"\"\n",
    ")"
   ]
  },
  {
   "cell_type": "markdown",
   "metadata": {},
   "source": [
    "## Mode 3: Phase Sweep"
   ]
  },
  {
   "cell_type": "markdown",
   "metadata": {},
   "source": [
    "### `set`"
   ]
  },
  {
   "cell_type": "code",
   "execution_count": 24,
   "metadata": {},
   "outputs": [
    {
     "name": "stdout",
     "output_type": "stream",
     "text": [
      "Success\n"
     ]
    }
   ],
   "source": [
    "my_instrument.write(':DISPlay:ANNotation:TEXT \"Testing Mode 3: Phase Sweep\"')\n",
    "my_instrument.write(':TIMebase:DELay 35.0E-06')\n",
    "my_instrument.write(':TIMebase:SCALe 10.0E-06')\n",
    "\n",
    "my_instrument.write(':FUNCtion:OFFSet +650E-03')\n",
    "my_instrument.write(':FUNCtion:SCALe +500E-03')\n",
    "send('reset')\n",
    "\n",
    "filename = 'mode3-phasesweep-test.png'\n",
    "\n",
    "t = 2000\n",
    "d = 0.2\n",
    "\n",
    "send(f\"\"\"abort\n",
    "debug off\n",
    "setfreq 0 100000000\n",
    "setfreq 1 100000000\n",
    "setfreq 2 100000000\n",
    "setfreq 3 100000000\n",
    "setphase 0 0\n",
    "setphase 1 0\n",
    "setphase 2 0\n",
    "setphase 3 0\n",
    "mode 3 1\n",
    "setchannels 2\n",
    "set 0 0 0 0 0 0 {t}\n",
    "set 0 1 0 0 0 0 {t}\n",
    "set 0 2 0 0 0 0 {t}\n",
    "set 0 3 0 0 0 0 {t}\n",
    "set 0 4 0 0 0 0 {t}\n",
    "set 0 5 0 0 0 0 {t}\n",
    "set 1 0 0 180 {d} 1 {t}\n",
    "set 1 1 180 90 {d} 1 {t}\n",
    "set 1 2 90 0 {d} 1 {t}\n",
    "set 1 3 0 90 {d} 1 {t}\n",
    "set 1 4 90 180 {d} 1 {t}\n",
    "set 1 5 180 0 {d} 1 {t}\n",
    "set 4 6\n",
    "start\n",
    "\"\"\")\n",
    "\n",
    "assert send('numtriggers') == '6\\n'\n",
    "print('Success')\n",
    "\n",
    "time.sleep(1)\n",
    "if SAVE_IMAGES == True:\n",
    "    my_instrument.save_screenshot(filename)\n",
    "\n",
    "if SHOW_IMAGES == True:\n",
    "    display(Image(filename))"
   ]
  },
  {
   "cell_type": "markdown",
   "metadata": {},
   "source": [
    "### `seti`"
   ]
  },
  {
   "cell_type": "code",
   "execution_count": 25,
   "metadata": {},
   "outputs": [],
   "source": [
    "my_instrument.write(':DISPlay:ANNotation:TEXT \"Testing seti Mode 3: Phase Sweep\"')\n",
    "my_instrument.write(':FUNCtion:OFFSet 1.60E-00')\n",
    "my_instrument.write(':FUNCtion:SCALe +100E-03')\n",
    "send('reset')\n",
    "\n",
    "filename = 'mode3-seti-phasesweep-test.png'\n",
    "\n",
    "t = 2\n",
    "d = 1\n",
    "\n",
    "# send(f\"\"\"abort\n",
    "# debug off\n",
    "# setfreq 0 100000000\n",
    "# setfreq 1 100000000\n",
    "# setfreq 2 100000000\n",
    "# setfreq 3 100000000\n",
    "# mode 3 1\n",
    "# setchannels 2\n",
    "# seti 0 0 0 0 0 0 {t}\n",
    "# seti 0 1 0 0 0 0 {t}\n",
    "# seti 0 2 0 0 0 0 {t}\n",
    "# seti 0 3 0 0 0 0 {t}\n",
    "# seti 0 4 0 0 0 0 {t}\n",
    "# seti 0 5 0 0 0 0 {t}\n",
    "# seti 1 0 0 8192 {d} 1023 {t}\n",
    "# seti 1 1 8192 4096 {d} 1023 {t}\n",
    "# seti 1 2 4096 0 {d} 1023 {t}\n",
    "# seti 1 3 0 4096 {d} 1023 {t}\n",
    "# seti 1 4 4096 8192 {d} 1023 {t}\n",
    "# seti 1 5 8192 0 {d} 1023 {t}\n",
    "# seti 4 6\n",
    "# start\n",
    "# \"\"\")\n",
    "\n",
    "### Why does this work but above doesn't? Does seti not properly bypass POW calculation for phasesweeps?\n",
    "send(f\"\"\"abort\n",
    "debug off\n",
    "setfreq 0 10000000\n",
    "setfreq 1 10000000\n",
    "setfreq 2 10000000\n",
    "setfreq 3 10000000\n",
    "setphase 0 0\n",
    "setphase 1 0\n",
    "setphase 2 0\n",
    "setphase 3 0\n",
    "mode 3 1\n",
    "setchannels 2\n",
    "seti 0 0 0 0 0 0 {t}\n",
    "seti 0 1 0 0 0 0 {t}\n",
    "seti 0 2 0 0 0 0 {t}\n",
    "seti 0 3 0 0 0 0 {t}\n",
    "seti 0 4 0 0 0 0 {t}\n",
    "seti 0 5 0 0 0 0 {t}\n",
    "seti 1 0 0 180 {d} 1 {t}\n",
    "seti 1 1 180 90 {d} 1 {t}\n",
    "seti 1 2 90 0 {d} 1 {t}\n",
    "seti 1 3 0 90 {d} 1 {t}\n",
    "seti 1 4 90 180 {d} 1 {t}\n",
    "seti 1 5 180 0 {d} 1 {t}\n",
    "seti 4 6\n",
    "start\n",
    "\"\"\")\n",
    "\n",
    "time.sleep(1) # for some reason the math doesn't draw until slightly after\n",
    "if SAVE_IMAGES == True:\n",
    "    my_instrument.save_screenshot(filename)\n",
    "\n",
    "if SHOW_IMAGES == True:\n",
    "    display(Image(filename))"
   ]
  },
  {
   "attachments": {},
   "cell_type": "markdown",
   "metadata": {},
   "source": [
    "This produces the following scope trace:    \n",
    "<img src=\"phase-test.png\" alt=\"Phase Sweep Test on Oscilloscope\">  \n",
    "$D_1$ is the IO_UPDATE line between the pico and the AD9959.  \n",
    "$D_0$ is the external trigger line into the pico.  \n",
    "The yellow trace is channel 1 from the AD9959  \n",
    "The pink trace is the output of a phase frequency detector between channels 0 and 1 of the AD9959"
   ]
  },
  {
   "cell_type": "markdown",
   "metadata": {},
   "source": [
    "## Mode 4: Amplitude Sweep and Single Step Freq, Phase"
   ]
  },
  {
   "cell_type": "code",
   "execution_count": 26,
   "metadata": {},
   "outputs": [
    {
     "name": "stdout",
     "output_type": "stream",
     "text": [
      "Success\n"
     ]
    }
   ],
   "source": [
    "my_instrument.write(':DISPlay:ANNotation:TEXT \"Testing set Mode 4: Amplitude Sweep, Single Step Freq, Phase\"')\n",
    "my_instrument.write(':TIMebase:DELay 35.0E-06')\n",
    "my_instrument.write(':TIMebase:SCALe 10.0E-06')\n",
    "\n",
    "f0 = 150 * MHZ\n",
    "\n",
    "d = 0.001\n",
    "t = 2000\n",
    "\n",
    "filename = 'mode4-ampsweep2-test.png'\n",
    "\n",
    "# ## set Chan Addr Start Stop Delta Rate Freq Phase Time\n",
    "# send(\n",
    "# f\"\"\"abort\n",
    "# mode 4 1\n",
    "# setchannels 2\n",
    "# set 0 0 1.0 0.0 {d * 1} 1 {f0} 0 {t}\n",
    "# set 0 1 0.0 0.5 {d * 1} 1 {f0} 0 {t}\n",
    "# set 0 2 0.5 1.0 {d * 1} 1 {f0} 0 {t}\n",
    "# set 0 3 1.0 0.0 {d * 1} 1 {f0} 0 {t}\n",
    "# set 0 4 0.0 1.0 {d * 1} 1 {f0} 0 {t}\n",
    "# set 0 5 1.0 0.5 {d * 1} 1 {f0} 0 {t}\n",
    "# set 0 6 0.5 0.0 {d * 1} 1 {f0} 0 {t}\n",
    "# set 0 7 0.0 1.0 {d * 1} 1 {f0} 0 {t}\n",
    "# set 0 8 1.0 0.0 {d * 1} 1 {f0} 0 {t}\n",
    "# set 0 9 1.0 1.0 {d * 0} 1 {f0} 0 {t}\n",
    "# set 1 0 1.0 0.0 {d * 0} 1 {f0} 0 {t}\n",
    "# set 1 1 0.0 0.5 {d * 0} 1 {f0} 0 {t}\n",
    "# set 1 2 0.5 1.0 {d * 1} 1 {f0} 0 {t}\n",
    "# set 1 3 1.0 0.0 {d * 1} 1 {f0} 0 {t}\n",
    "# set 1 4 0.0 1.0 {d * 1} 1 {f0} 0 {t}\n",
    "# set 1 5 1.0 0.5 {d * 1} 1 {f0} 0 {t}\n",
    "# set 1 6 0.5 0.0 {d * 1} 1 {f0} 0 {t}\n",
    "# set 1 7 0.0 1.0 {d * 1} 1 {f0} 0 {t}\n",
    "# set 1 8 1.0 1.0 {d * 0} 1 {f0} 0 {t}\n",
    "# set 1 9 1.0 1.0 {d * 0} 1 {f0} 0 {t}\n",
    "# set 4 10\n",
    "# start\n",
    "# \"\"\"\n",
    "# )\n",
    "\n",
    "send(\n",
    "f\"\"\"abort\n",
    "mode 4 1\n",
    "setchannels 2\n",
    "set 0 0 0.1 0.9 {d * 1} 1 {f0} 90 {t}\n",
    "set 0 1 0.9 0.1 {d * 1} 1 {f0} 90 {t}\n",
    "set 0 2 0.9 0.9 {d * 0} 1 {f0} 90 {t}\n",
    "set 1 0 1.0 1.0 {d * 0} 1 {f0} 270 {t}\n",
    "set 1 1 1.0 1.0 {d * 0} 1 {f0} 270 {t}\n",
    "set 1 2 1.0 1.0 {d * 0} 1 {f0} 270 {t}\n",
    "set 4 3\n",
    "start\n",
    "\"\"\"\n",
    ")\n",
    "\n",
    "# assert send('numtriggers') == '4\\n'\n",
    "print('Success')\n",
    "\n",
    "if SAVE_IMAGES == True:\n",
    "    my_instrument.save_screenshot(filename)\n",
    "\n",
    "if SHOW_IMAGES == True:\n",
    "    display(Image(filename))"
   ]
  },
  {
   "cell_type": "code",
   "execution_count": 27,
   "metadata": {},
   "outputs": [],
   "source": [
    "# send('reset')\n",
    "f2 = get_ftw(freq_out = 100 * MHZ,\n",
    "             freq_sys = 125 * MHZ)\n",
    "\n",
    "p2 = get_pow(phase = 270)\n",
    "\n",
    "d = 1\n",
    "t = 2\n",
    "\n",
    "filename = 'mode4-seti-ampsweep2-test.png'\n",
    "\n",
    "send(\n",
    "f\"\"\"abort\n",
    "mode 4 1\n",
    "setchannels 2\n",
    "seti 0 0 700 1023 {d * 1} 1 {f2} {p2} {t}\n",
    "seti 0 1 1023 700 {d * 1} 1 {f2} {p2} {t}\n",
    "seti 0 2 1023 1023 {d * 0} 1 {f2} {p2} {t}\n",
    "seti 0 3 1023 700 {d * 1} 1 {f2} {p2} {t}\n",
    "seti 1 0 1023 1023 {d * 1} 1 {f2} {p2} {t}\n",
    "seti 1 1 1023 1023 {d * 1} 1 {f2} {p2} {t}\n",
    "seti 1 2 1023 1023 {d * 0} 1 {f2} {p2} {t}\n",
    "seti 1 3 1023 1023 {d * 1} 1 {f2} {p2} {t}\n",
    "seti 4 4\n",
    "start\n",
    "\"\"\"\n",
    ")\n",
    "\n",
    "time.sleep(1)\n",
    "if SAVE_IMAGES == True:\n",
    "    my_instrument.save_screenshot(filename)\n",
    "\n",
    "if SHOW_IMAGES == True:\n",
    "    display(Image(filename))"
   ]
  },
  {
   "attachments": {},
   "cell_type": "markdown",
   "metadata": {},
   "source": [
    "## Mode 5: Frequency Sweep and Single Step Amp, Phase"
   ]
  },
  {
   "cell_type": "markdown",
   "metadata": {},
   "source": [
    "### `set`"
   ]
  },
  {
   "cell_type": "code",
   "execution_count": 34,
   "metadata": {},
   "outputs": [
    {
     "name": "stdout",
     "output_type": "stream",
     "text": [
      "Success\n"
     ]
    }
   ],
   "source": [
    "my_instrument.write(':DISPlay:ANNotation:TEXT \"Testing Mode 5: Frequency Sweep, Single Step Amp, Phase\"')\n",
    "my_instrument.write(':FUNCtion:OFFSet +0.50E-00')\n",
    "my_instrument.write(':FUNCtion:SCALe +1.00E-00')\n",
    "send('reset')\n",
    "\n",
    "# f1 = 112e6\n",
    "# f2 = 115e6\n",
    "# f3 = 118e6\n",
    "\n",
    "f1 = 120e6\n",
    "f2 = 90e6\n",
    "f3 = 130e6\n",
    "\n",
    "d = .001\n",
    "t = 2000\n",
    "\n",
    "filename = 'mode5-freqsweep2-test.png'\n",
    "\n",
    "# set Chan Addr Start Stop Delta Rate Amp Phase Time\n",
    "\n",
    "# send(\n",
    "# f\"\"\"abort\n",
    "# mode 5 1\n",
    "# setchannels 2\n",
    "# set 0 0 {f112} {f118} {d}   1 1 0 {t}\n",
    "# set 0 1 {f118} {f115} {d/4} 1 1 0 {t*2}\n",
    "# set 0 2 {f115} {f112} {d}   1 1 0 {t/2}\n",
    "# set 0 3 {f112} {f112} {0}   1 1 0 {t}\n",
    "# set 0 4 {f115} {f115} {0}   1 1 0 {t}\n",
    "# set 0 5 {f118} {f118} {0}   1 1 0 {t}\n",
    "# set 0 6 {f118} {f112} {d}   1 1 0 {t}\n",
    "# set 0 7 {f112} {f115} {d/4} 1 1 0 {t*2}\n",
    "# set 0 8 {f115} {f118} {d}   1 1 0 {t*10}\n",
    "# set 0 9 {f112} {f112}  0    1 1 0 1\n",
    "# set 1 0 {f112} {f118} {d}   1 0.75 90 {t}\n",
    "# set 1 1 {f118} {f115} {d/4} 1 0.5  180 {t*2}\n",
    "# set 1 2 {f115} {f112} {d}   1 0.9  90 {t/2}\n",
    "# set 1 3 {f112} {f112} {0}   1 1.0  00 {t}\n",
    "# set 1 4 {f115} {f115} {0}   1 0.9  90 {t}\n",
    "# set 1 5 {f118} {f118} {0}   1 0.8  180 {t}\n",
    "# set 1 6 {f118} {f112} {d}   1 0.9  90 {t}\n",
    "# set 1 7 {f112} {f115} {d/4} 1 1.0  00 {t*2}\n",
    "# set 1 8 {f115} {f118} {d}   1 0.9  90 {t*10}\n",
    "# set 1 9 {f112} {f112}  0    1 1.0  90 1\n",
    "# set 4 10\n",
    "# start\n",
    "# \"\"\"\n",
    "# )\n",
    "\n",
    "send(\n",
    "f\"\"\"abort\n",
    "mode 5 1\n",
    "setchannels 2\n",
    "set 0 0 {f1} {f3} {d}   1 0.75 90 {t}\n",
    "set 0 1 {f3} {f2} {d/4} 1 0.5  180 {t*2}\n",
    "set 0 2 {f2} {f1} {d}   1 0.9  90 {t/2}\n",
    "set 0 3 {f1} {f1} {0}   1 1.0  00 {t}\n",
    "set 0 4 {f2} {f2} {0}   1 0.9  90 {t}\n",
    "set 0 5 {f3} {f3} {0}   1 0.8  180 {t}\n",
    "set 0 6 {f3} {f1} {d}   1 0.9  90 {t}\n",
    "set 0 7 {f1} {f2} {d/4} 1 1.0  00 {t*2}\n",
    "set 0 8 {f2} {f3} {d}   1 0.9  90 {t*10}\n",
    "set 0 9 {f1} {f1}  0    1 1.0  90 1\n",
    "set 1 0 {f1} {f3} {d}   1 1 0 {t}\n",
    "set 1 1 {f3} {f2} {d/4} 1 1 0 {t*2}\n",
    "set 1 2 {f2} {f1} {d}   1 1 0 {t/2}\n",
    "set 1 3 {f1} {f1} {0}   1 1 0 {t}\n",
    "set 1 4 {f2} {f2} {0}   1 1 0 {t}\n",
    "set 1 5 {f3} {f3} {0}   1 1 0 {t}\n",
    "set 1 6 {f3} {f1} {d}   1 1 0 {t}\n",
    "set 1 7 {f1} {f2} {d/4} 1 1 0 {t*2}\n",
    "set 1 8 {f2} {f3} {d}   1 1 0 {t*10}\n",
    "set 1 9 {f1} {f1}  0    1 1 0 1\n",
    "set 4 10\n",
    "start\n",
    "\"\"\"\n",
    ")\n",
    "\n",
    "assert send('numtriggers') == '10\\n'\n",
    "print('Success')\n",
    "\n",
    "time.sleep(1)\n",
    "if SAVE_IMAGES == True:\n",
    "    my_instrument.save_screenshot(filename)\n",
    "\n",
    "if SHOW_IMAGES == True:\n",
    "    display(Image(filename))"
   ]
  },
  {
   "cell_type": "markdown",
   "metadata": {},
   "source": [
    "### `seti`"
   ]
  },
  {
   "cell_type": "code",
   "execution_count": 35,
   "metadata": {},
   "outputs": [],
   "source": [
    "my_instrument.write(':DISPlay:ANNotation:TEXT \"Testing seti Mode 5: Frequency Sweep, Single Step Amp, Phase\"')\n",
    "\n",
    "f1 = get_ftw(freq_out = 112 * MHZ, freq_sys = 125 * MHZ)\n",
    "f2 = get_ftw(freq_out = 115 * MHZ, freq_sys = 125 * MHZ)\n",
    "f3 = get_ftw(freq_out = 118 * MHZ, freq_sys = 125 * MHZ)\n",
    "\n",
    "d = 1\n",
    "t = 2\n",
    "\n",
    "filename = 'mode5-seti-freqsweep2-test.png'\n",
    "\n",
    "send(\n",
    "f\"\"\"abort\n",
    "mode 5 1\n",
    "setichannels 2\n",
    "seti 0 0 {f1} {f3} {d}   1 780 90 {t}\n",
    "seti 0 1 {f3} {f2} {d/4} 1 500  180 {t*2}\n",
    "seti 0 2 {f2} {f1} {d}   1 900  90 {t/2}\n",
    "seti 0 3 {f1} {f1} {0}   1 1023  00 {t}\n",
    "seti 0 4 {f2} {f2} {0}   1 900  90 {t}\n",
    "seti 0 5 {f3} {f3} {0}   1 800  180 {t}\n",
    "seti 0 6 {f3} {f1} {d}   1 900  90 {t}\n",
    "seti 0 7 {f1} {f2} {d/4} 1 1023  00 {t*2}\n",
    "seti 0 8 {f2} {f3} {d}   1 900  90 {t*10}\n",
    "seti 0 9 {f1} {f1}  0    1 1023  90 1\n",
    "seti 1 0 {f1} {f3} {d}   1 1023 0 {t}\n",
    "seti 1 1 {f3} {f2} {d/4} 1 1023 0 {t*2}\n",
    "seti 1 2 {f2} {f1} {d}   1 1023 0 {t/2}\n",
    "seti 1 3 {f1} {f1} {0}   1 1023 0 {t}\n",
    "seti 1 4 {f2} {f2} {0}   1 1023 0 {t}\n",
    "seti 1 5 {f3} {f3} {0}   1 1023 0 {t}\n",
    "seti 1 6 {f3} {f1} {d}   1 1023 0 {t}\n",
    "seti 1 7 {f1} {f2} {d/4} 1 1023 0 {t*2}\n",
    "seti 1 8 {f2} {f3} {d}   1 1023 0 {t*10}\n",
    "seti 1 9 {f1} {f1}  0    1 1023 0 1\n",
    "seti 4 10\n",
    "start\n",
    "\"\"\"\n",
    ")\n",
    "\n",
    "time.sleep(1)\n",
    "if SAVE_IMAGES == True:\n",
    "    my_instrument.save_screenshot(filename)\n",
    "\n",
    "if SHOW_IMAGES == True:\n",
    "    display(Image(filename))"
   ]
  },
  {
   "attachments": {},
   "cell_type": "markdown",
   "metadata": {},
   "source": [
    "This produces the following scope trace:    \n",
    "<img src=\"all_sweep.png\" alt=\"Phase Sweep Test on Oscilloscope\">  \n",
    "$D_1$ is the IO_UPDATE line between the pico and the AD9959.  \n",
    "$D_0$ is the external trigger line into the pico.  \n",
    "The yellow trace is channel 1 from the AD9959  \n",
    "The pink trace is the output of a phase frequency detector between channels 0 and 1 of the AD9959\n",
    "The green trace is the interferometer"
   ]
  },
  {
   "cell_type": "markdown",
   "metadata": {},
   "source": [
    "## Mode 6: Phase Sweep and Single Step Amp, Freq"
   ]
  },
  {
   "cell_type": "markdown",
   "metadata": {},
   "source": [
    "### `set`"
   ]
  },
  {
   "cell_type": "code",
   "execution_count": 36,
   "metadata": {},
   "outputs": [],
   "source": [
    "my_instrument.write(':DISPlay:ANNotation:TEXT \"Testing Mode 6: Phase Sweep, Single Step Amp, Freq\"')\n",
    "my_instrument.write(':TIMebase:DELay 60.0E-06')\n",
    "my_instrument.write(':TIMebase:SCALe 20.0E-06')\n",
    "# send('reset')\n",
    "\n",
    "f112 = 112e6\n",
    "f115 = 115e6\n",
    "f118 = 118e6\n",
    "f125 = 125 * MHZ\n",
    "d = 0.1\n",
    "t = 2000\n",
    "\n",
    "filename = 'mode6-phasesweep2-test.png'\n",
    "\n",
    "## set Channel Address Start Stop Delta Rate Amp Freq Time\n",
    "send(\n",
    "f\"\"\"abort\n",
    "mode 6 1\n",
    "setchannels 2\n",
    "set 0 0 0 0 {d} 1 1.00 {f125} {t * 2}\n",
    "set 0 1 0 0 {d} 1 0.90 {f125} {t * 2}\n",
    "set 0 2 0 0 {d} 1 0.75 {f125} {t * 2}\n",
    "set 0 3 0 0 {d} 1 1.00 {f125} {t * 2}\n",
    "set 0 4 0 0 {d} 1 1.00 {f125} {t * 2}\n",
    "set 0 5 0 0 {d} 1 1.00 {f125} {t * 2}\n",
    "set 0 6 0 0 {d} 1 1.00 {f125} {t * 2}\n",
    "set 0 7 0 0 {d} 1 1.00 {f125} {t * 2}\n",
    "set 0 8 0 0 {d} 1 1.00 {f125} {t * 2}\n",
    "set 0 9 0 0 {d} 1 1.00 {f125} {t * 10}\n",
    "set 1 0 90 {d} 1 1.00 {f125} {t * 2}\n",
    "set 1 1 90 180 {d} 1 1.00 {f125} {t * 2}\n",
    "set 1 2 180 270 {d} 1 1.00 {f125} {t * 2}\n",
    "set 1 3 270 360 {d} 1 1.00 {f125} {t * 2}\n",
    "set 1 4 360 270 {d} 1 1.00 {f125} {t * 2}\n",
    "set 1 5 270 180 {d} 1 1.00 {f125} {t * 2}\n",
    "set 1 6 180 270 {d} 1 1.00 {f125} {t * 2}\n",
    "set 1 7 270 180 {d} 1 1.00 {f125} {t * 2}\n",
    "set 1 8 180 90 {d} 1 1.00 {f125} {t * 2}\n",
    "set 1 9 90 0 {d} 1 1.00 {f125} {t * 10}\n",
    "set 4 10\n",
    "start\n",
    "\"\"\"\n",
    ")\n",
    "\n",
    "\n",
    "### simple test -- still can't seem to get amplitude working\n",
    "# set chan addr phase_start phase_stop delta rate amp freq (time)\n",
    "# freq = 100 * MHZ\n",
    "# send(\n",
    "# f\"\"\"abort\n",
    "# mode 6 1\n",
    "# setchannels 2\n",
    "# set 0 0 0 90 {d} 1 1 {freq} {t * 2}\n",
    "# set 0 1 90 180 {d} 1 1 {freq} {t * 2}\n",
    "# set 0 2 180 270 {d} 1 1 {freq} {t * 2}\n",
    "# set 1 0 90 180 {d} 1 1 {freq} {t * 2}\n",
    "# set 1 1 180 270 {d} 1 1 {freq} {t * 2}\n",
    "# set 1 2 270 360 {d} 1 1 {freq} {t * 2}\n",
    "# set 4 3\n",
    "# start\n",
    "# \"\"\"\n",
    "# )\n",
    "\n",
    "# print('Success')\n",
    "\n",
    "time.sleep(1)\n",
    "if SAVE_IMAGES == True:\n",
    "    my_instrument.save_screenshot(filename)\n",
    "\n",
    "if SHOW_IMAGES == True:\n",
    "    display(Image(filename))"
   ]
  },
  {
   "cell_type": "markdown",
   "metadata": {},
   "source": [
    "### `seti`"
   ]
  },
  {
   "cell_type": "code",
   "execution_count": 31,
   "metadata": {},
   "outputs": [
    {
     "name": "stdout",
     "output_type": "stream",
     "text": [
      "4096\n",
      "8192\n",
      "12287\n",
      "16383\n",
      "4294967296\n"
     ]
    }
   ],
   "source": [
    "\n",
    "print(get_ftw(freq_out=125*MHZ))"
   ]
  },
  {
   "cell_type": "code",
   "execution_count": 309,
   "metadata": {},
   "outputs": [
    {
     "data": {
      "text/plain": [
       "'ok\\nok\\n9\\nok\\n9\\nok\\n9\\nok\\n9\\nok\\n9\\nok\\n9\\nok\\n9\\nok\\n9\\nok\\n2\\nok\\nok\\n'"
      ]
     },
     "execution_count": 309,
     "metadata": {},
     "output_type": "execute_result"
    }
   ],
   "source": [
    "# my_instrument.write(':DISPlay:ANNotation:TEXT \"Testing seti Mode 6: Phase Sweep, Single Step Amp, Freq\"')\n",
    "# my_instrument.write(':TIMebase:DELay 35.0E-06')\n",
    "# my_instrument.write(':TIMebase:SCALe 10.0E-06')\n",
    "# my_instrument.write(':FUNCtion:OFFSet +1.00E-00')\n",
    "# my_instrument.write(':FUNCtion:SCALe +500E-03')\n",
    "# send('reset')\n",
    "\n",
    "f125 = get_ftw(freq_out = 125 * MHZ)\n",
    "d = 1\n",
    "t = 1\n",
    "\n",
    "p90 = get_pow(90)\n",
    "p180 = get_pow(180)\n",
    "p270 = get_pow(270)\n",
    "# p360 = print(get_pow(360))\n",
    "\n",
    "filename = 'mode6-seti-phasesweep2-test.png'\n",
    "\n",
    "\n",
    "# ## sweep on channel 1\n",
    "# send(\n",
    "# f\"\"\"abort\n",
    "# mode 6 1\n",
    "# seti 0 0 0 0 {d} 1 1023 {f125} {t} \n",
    "# seti 0 1 0 0 {d} 1 1023 {f125} {t} \n",
    "# seti 0 2 0 0 {d} 1 1023 {f125} {t} \n",
    "# seti 0 3 0 0 {d} 1 1023 {f125} {t} \n",
    "# seti 1 0 0 {p90} {d} 1 1023 {f125} {t}\n",
    "# seti 1 1 {p90} {p180} {d} 1 1023 {f125} {t}\n",
    "# seti 1 2 {p180} {p270} {d} 1 1023 {f125} {t}\n",
    "# seti 1 3 {p270} {p180} {d} 1 1023 {f125} {t}\n",
    "# seti 4 4\n",
    "# start\n",
    "# \"\"\"\n",
    "# )\n",
    "\n",
    "\n",
    "## sweep on channel 2\n",
    "send(\n",
    "f\"\"\"abort\n",
    "mode 6 1\n",
    "seti 0 0 0 {p90} {d} 1 1023 {f125} {t}\n",
    "seti 0 1 {p90} {p180} {d} 1 1023 {f125} {t}\n",
    "seti 0 2 {p180} {p270} {d} 1 1023 {f125} {t}\n",
    "seti 0 3 {p270} {p180} {d} 1 1023 {f125} {t}\n",
    "seti 1 0 0 0 {d} 1 1023 {f125} {t} \n",
    "seti 1 1 0 0 {d} 1 1023 {f125} {t} \n",
    "seti 1 2 0 0 {d} 1 1023 {f125} {t} \n",
    "seti 1 3 0 0 {d} 1 1023 {f125} {t} \n",
    "seti 4 4\n",
    "start\n",
    "\"\"\"\n",
    ")\n",
    "\n",
    "## neither seem to do what I expect"
   ]
  },
  {
   "cell_type": "code",
   "execution_count": 33,
   "metadata": {},
   "outputs": [],
   "source": [
    "# my_instrument.write(':DISPlay:ANNotation:TEXT \"Testing finished\"')"
   ]
  }
 ],
 "metadata": {
  "kernelspec": {
   "display_name": ".venv",
   "language": "python",
   "name": "python3"
  },
  "language_info": {
   "codemirror_mode": {
    "name": "ipython",
    "version": 3
   },
   "file_extension": ".py",
   "mimetype": "text/x-python",
   "name": "python",
   "nbconvert_exporter": "python",
   "pygments_lexer": "ipython3",
   "version": "3.11.11"
  }
 },
 "nbformat": 4,
 "nbformat_minor": 4
}
