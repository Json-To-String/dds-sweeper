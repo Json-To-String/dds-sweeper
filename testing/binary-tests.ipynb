{
 "cells": [
  {
   "cell_type": "code",
   "execution_count": 1,
   "metadata": {},
   "outputs": [],
   "source": [
    "import serial\n",
    "import time\n",
    "import pyvisa \n",
    "import numpy as np\n",
    "from IPython.display import Image, display\n",
    "from KeysightScope import KeysightScope\n",
    "\n",
    "# You will have to change this to whatever COM port the pico is assigned when\n",
    "# you plug it in.\n",
    "# On Windows you can open device manager and look at the 'Ports (COM & LPT)' dropdown\n",
    "# the pico will show up as 'USB Serial Device'\n",
    "PICO_PORT = 'COM3'\n",
    "\n",
    "MHZ = 1000000\n",
    "\n",
    "conn = None\n",
    "conn = serial.Serial(PICO_PORT, baudrate = 152000, timeout = 0.1)\n"
   ]
  },
  {
   "cell_type": "markdown",
   "metadata": {},
   "source": [
    "## Helpers"
   ]
  },
  {
   "cell_type": "code",
   "execution_count": 2,
   "metadata": {},
   "outputs": [],
   "source": [
    "my_instrument = KeysightScope()"
   ]
  },
  {
   "cell_type": "code",
   "execution_count": null,
   "metadata": {},
   "outputs": [],
   "source": [
    "class BinaryRoutines():\n",
    "    def __init__(self):\n",
    "        self.mirror_channels = False\n",
    "\n",
    "    def catch_response(self):\n",
    "        resp = conn.readline().decode().strip()\n",
    "        return resp\n",
    "    \n",
    "    def assert_OK(self):\n",
    "        resp = conn.readline().decode().strip()\n",
    "        assert resp == 'ok', 'Expected \"ok\", received \"%s\"' % resp\n",
    "\n",
    "    def debug_on(self):\n",
    "        conn.write(b'debug on\\n')\n",
    "        self.assert_OK()\n",
    "\n",
    "    def set_mode(self, sweep_mode: int, timing_mode: int, num_channels: int):\n",
    "        conn.write(b'reset\\n')\n",
    "        self.assert_OK()\n",
    "        conn.write(b'mode %d %d \\n' % (sweep_mode, timing_mode))\n",
    "        self.assert_OK()\n",
    "        conn.write(b'setchannels %d\\n' % num_channels)\n",
    "        self.assert_OK()\n",
    "        print('sending commands to %d channels' % num_channels)\n",
    "\n",
    "    def allocate(self, start_address: int, instructions: np.ndarray):\n",
    "        conn.write(b'setb %d %d\\n' % (start_address, len(instructions)))\n",
    "        response = conn.readline().decode()\n",
    "        if not response.startswith('ready'):\n",
    "            response += ''.join([r.decode() for r in conn.readlines()])\n",
    "            raise Exception(f'setb command failed, response: {repr(response)}')\n",
    "        print(f'Got response: {response}')\n",
    "\n",
    "    def table_to_memory(self, instructions: np.ndarray):\n",
    "        conn.write(instructions.tobytes())\n",
    "        self.assert_OK(), 'table not written correctly'\n",
    "        print('table written to memory')\n",
    "\n",
    "    def end_table(self, instructions: np.ndarray):\n",
    "        conn.write(b'set 4 %d\\n' % len(instructions))\n",
    "        self.assert_OK(), 'table not stopped correctly'\n",
    "        print('table end command sent')\n",
    "\n",
    "    def start_routine(self):\n",
    "        conn.write(b'start\\n')\n",
    "        self.assert_OK(), 'table did not start'\n",
    "        print('table executed')\n",
    "\n",
    "    def get_memory_layout(self):\n",
    "        conn.write(b'getmode\\n')\n",
    "        mode = self.catch_response()\n",
    "        channels = self.catch_response()\n",
    "        memory_layout = self.catch_response()\n",
    "        print(f\"mode {mode}\")\n",
    "        print(channels)\n",
    "        print(memory_layout)\n",
    "\n",
    "binary_routine_test = BinaryRoutines()"
   ]
  },
  {
   "cell_type": "code",
   "execution_count": 4,
   "metadata": {},
   "outputs": [],
   "source": [
    "## slightly different logic than the ad9959.c funcs due to python vs c\n",
    "def get_ftw(freq_out: float, freq_sys: float = 500 * MHZ):\n",
    "\n",
    "    ftw = (freq_out / freq_sys) * 2**32\n",
    "    \n",
    "    return(int(ftw))\n",
    "\n",
    "def get_pow(phase: float):\n",
    "    \n",
    "    pow = round(phase / 360 * (2**14 - 1))\n",
    "\n",
    "    return pow\n",
    "\n",
    "def get_asf(amp: float):\n",
    "    \n",
    "    asf = round(amp * 1024)\n",
    "\n",
    "    return asf"
   ]
  },
  {
   "cell_type": "markdown",
   "metadata": {},
   "source": [
    "## Single Stepping Mode"
   ]
  },
  {
   "cell_type": "markdown",
   "metadata": {},
   "source": [
    "Single Stepping (mode 0) with timing: `<frequency:int 32> <amplitude:int 16> <phase:int 16> <time: int 32>`. Total of 12 bytes per channel per instruction."
   ]
  },
  {
   "cell_type": "code",
   "execution_count": 5,
   "metadata": {},
   "outputs": [],
   "source": [
    "dt = np.dtype([('frequency', np.uint32), ('amplitude', np.uint16), ('phase', np.uint16), ('time', np.uint32)])\n",
    "\n",
    "f1 = get_ftw(freq_out = 100 * MHZ)\n",
    "f2 = get_ftw(freq_out = 120 * MHZ)\n",
    "f3 = get_ftw(freq_out = 110 * MHZ)\n",
    "\n",
    "p1 = get_pow(phase = 90)\n",
    "p2 = get_pow(phase = 180)\n",
    "p3 = get_pow(phase = 270)\n",
    "\n",
    "t = 1\n",
    "\n",
    "step_instructions = np.array([\n",
    "                                (f2, 1023, p1, t),\n",
    "                                (f2, 800, p1, t),\n",
    "                                (f2, 1023, p1, t),\n",
    "                                (f2, 200, p1, t),\n",
    "                                (f2, 800, p1, t),\n",
    "                                (f2, 1023, p1, t),\n",
    "                                (f2, 200, p1, t),\n",
    "                                (f2, 800, p1, t),\n",
    "                                (f2, 1023, p1, t),\n",
    "                                (f2, 800, p1, t)\n",
    "                                 ]\n",
    "                                 , dtype = dt)\n"
   ]
  },
  {
   "cell_type": "code",
   "execution_count": 6,
   "metadata": {},
   "outputs": [],
   "source": [
    "single_step_test = BinaryRoutines()"
   ]
  },
  {
   "cell_type": "code",
   "execution_count": 11,
   "metadata": {},
   "outputs": [
    {
     "name": "stdout",
     "output_type": "stream",
     "text": [
      "sending commands to 1 channels\n",
      "Got response: ready for 120 bytes\n",
      "\n",
      "table written to memory\n",
      "table end command sent\n",
      "table executed\n"
     ]
    }
   ],
   "source": [
    "single_step_test.set_mode(sweep_mode=0, timing_mode=1, num_channels=1)\n",
    "single_step_test.allocate(start_address=0, instructions=step_instructions)\n",
    "single_step_test.table_to_memory(instructions=step_instructions)\n",
    "single_step_test.end_table(instructions=step_instructions)\n",
    "single_step_test.start_routine()"
   ]
  },
  {
   "cell_type": "markdown",
   "metadata": {},
   "source": [
    "## Frequency Sweeps"
   ]
  },
  {
   "cell_type": "markdown",
   "metadata": {},
   "source": [
    "Frequency Sweeps (mode 2) with timing: `<start frequency:int 32> <stop frequency:int 32> <delta:int 32> <rate:int 8> <time:int 32>`. Total of 17 bytes per channel per instruction."
   ]
  },
  {
   "cell_type": "code",
   "execution_count": 12,
   "metadata": {},
   "outputs": [],
   "source": [
    "dt = np.dtype([('start frequency', np.uint32), \n",
    "               ('stop frequency', np.uint32), \n",
    "               ('delta', np.uint32), \n",
    "               ('rate', np.uint8), \n",
    "               ('time', np.uint32)])\n",
    "\n",
    "f1 = get_ftw(freq_out = 100 * MHZ)\n",
    "f2 = get_ftw(freq_out = 120 * MHZ)\n",
    "f3 = get_ftw(freq_out = 110 * MHZ)\n",
    "\n",
    "d = 100\n",
    "r = 1\n",
    "t = 1\n",
    "\n",
    "freq_sweep_table = np.array([\n",
    "                            (f1, f3, d, r, t),\n",
    "                            (f3, f2, d, r, t),\n",
    "                            (f2, f1, d, r, t),\n",
    "                            (f1, f1, d, r, t),\n",
    "                            (f2, f2, d, r, t),\n",
    "                            (f3, f3, d, r, t),\n",
    "                            (f3, f1, d, r, t),\n",
    "                            (f1, f2, d, r, t),\n",
    "                            (f2, f3, d, r, t),\n",
    "                            (f1, f1, d, r, t),\n",
    "                                 ]\n",
    "                                 , dtype = dt)\n"
   ]
  },
  {
   "cell_type": "code",
   "execution_count": 13,
   "metadata": {},
   "outputs": [
    {
     "name": "stdout",
     "output_type": "stream",
     "text": [
      "sending commands to 1 channels\n",
      "Got response: ready for 170 bytes\n",
      "\n",
      "table written to memory\n",
      "table end command sent\n",
      "table executed\n"
     ]
    }
   ],
   "source": [
    "freq_sweep_test = BinaryRoutines()\n",
    "freq_sweep_test.set_mode(sweep_mode=2, timing_mode=1, num_channels=1)\n",
    "freq_sweep_test.allocate(start_address=0, instructions=freq_sweep_table)\n",
    "freq_sweep_test.table_to_memory(instructions=freq_sweep_table)\n",
    "freq_sweep_test.end_table(instructions=freq_sweep_table)\n",
    "freq_sweep_test.start_routine()"
   ]
  },
  {
   "cell_type": "code",
   "execution_count": 14,
   "metadata": {},
   "outputs": [
    {
     "data": {
      "text/plain": [
       "''"
      ]
     },
     "execution_count": 14,
     "metadata": {},
     "output_type": "execute_result"
    }
   ],
   "source": [
    "binary_routine_test.catch_response()"
   ]
  }
 ],
 "metadata": {
  "kernelspec": {
   "display_name": ".venv",
   "language": "python",
   "name": "python3"
  },
  "language_info": {
   "codemirror_mode": {
    "name": "ipython",
    "version": 3
   },
   "file_extension": ".py",
   "mimetype": "text/x-python",
   "name": "python",
   "nbconvert_exporter": "python",
   "pygments_lexer": "ipython3",
   "version": "3.11.11"
  }
 },
 "nbformat": 4,
 "nbformat_minor": 2
}
