{
 "cells": [
  {
   "cell_type": "code",
   "execution_count": 1,
   "metadata": {},
   "outputs": [],
   "source": [
    "import serial\n",
    "import time\n",
    "import pyvisa \n",
    "import numpy as np\n",
    "from IPython.display import Image, display\n",
    "\n",
    "# You will have to change this to whatever COM port the pico is assigned when\n",
    "# you plug it in.\n",
    "# On Windows you can open device manager and look at the 'Ports (COM & LPT)' dropdown\n",
    "# the pico will show up as 'USB Serial Device'\n",
    "PICO_PORT = 'COM3'\n",
    "\n",
    "MHZ = 1000000\n",
    "\n",
    "conn = None\n",
    "conn = serial.Serial(PICO_PORT, baudrate = 152000, timeout = 0.1)\n"
   ]
  },
  {
   "cell_type": "markdown",
   "metadata": {},
   "source": [
    "## Helpers"
   ]
  },
  {
   "cell_type": "code",
   "execution_count": 2,
   "metadata": {},
   "outputs": [],
   "source": [
    "# conn.write(b'program\\n')"
   ]
  },
  {
   "cell_type": "code",
   "execution_count": 3,
   "metadata": {},
   "outputs": [],
   "source": [
    "class KeysightScope:\n",
    "    \"\"\"\n",
    "    Helper class using pyvisa for a USB connected Keysight Oscilloscope \n",
    "    \"\"\"\n",
    "    def __init__(self, \n",
    "                 addr='USB?*::INSTR',\n",
    "                 timeout=1, \n",
    "                 termination='\\n'\n",
    "                 ):\n",
    "        rm = pyvisa.ResourceManager()\n",
    "        devs = rm.list_resources(addr)\n",
    "        assert len(devs), \"pyvisa didn't find any connected devices matching \" + addr\n",
    "        self.dev = rm.open_resource(devs[0])\n",
    "        self.dev.timeout = 15_000 * timeout\n",
    "        self.dev.read_termination = termination\n",
    "        self.idn = self.dev.query('*IDN?')\n",
    "        self.read = self.dev.read\n",
    "        self.write = self.dev.write\n",
    "        self.query = self.dev.query\n",
    "\n",
    "    def _get_screenshot(self, verbose=False):\n",
    "        if verbose == True:\n",
    "            print('Acquiring screen image...')\n",
    "        return(self.dev.query_binary_values(':DISPlay:DATA? PNG, COLor', datatype='s'))\n",
    "\n",
    "    def save_screenshot(self, filepath, verbose=False, inksaver=False):\n",
    "        if verbose == True:\n",
    "            print('Saving screen image...')\n",
    "        result = self._get_screenshot()\n",
    "\n",
    "        # Keysight scope defaults to inksaving for image save\n",
    "        if inksaver == True:\n",
    "            self.dev.write(':HARDcopy:INKSaver 1')\n",
    "        else: \n",
    "            self.dev.write(':HARDcopy:INKSaver OFF')\n",
    "\n",
    "        with open(f'{filepath}', 'wb+') as ofile:\n",
    "            ofile.write(bytes(result))\n",
    "\n",
    "    def set_time_delay(self, time):\n",
    "        self.write(f':TIMebase:DELay {time}')\n",
    "\n",
    "    def set_time_scale(self, time):\n",
    "        self.write(f':TIMebase:SCALe {time}')\n",
    "\n",
    "my_instrument = KeysightScope()"
   ]
  },
  {
   "cell_type": "code",
   "execution_count": 4,
   "metadata": {},
   "outputs": [],
   "source": [
    "def insert_string(original_string, string_to_insert, index):\n",
    "\n",
    "    return original_string[:index] + string_to_insert + original_string[index:]\n"
   ]
  },
  {
   "cell_type": "code",
   "execution_count": 5,
   "metadata": {},
   "outputs": [],
   "source": [
    "class Binary_Routines():\n",
    "    \"\"\"\n",
    "    Class handler for `setb` command to send binary tables to the dds-sweeper\n",
    "    \"\"\"\n",
    "\n",
    "    def __init__(self):\n",
    "        self.mirror_channels = False\n",
    "        self.debug_run = True\n",
    "        self.MAX_SIZE = 256\n",
    "\n",
    "    def catch_response(self):\n",
    "        resp = conn.readline().decode().strip()\n",
    "        return resp\n",
    "\n",
    "    def assert_OK(self):\n",
    "        resp = conn.readline().decode().strip()\n",
    "        assert resp == 'ok', 'Expected \"ok\", received \"%s\"' % resp\n",
    "\n",
    "    def debug_on(self):\n",
    "        conn.write(b'debug on\\n')\n",
    "        self.assert_OK()\n",
    "\n",
    "    def debug_off(self):\n",
    "        conn.write(b'debug off\\n')\n",
    "        self.assert_OK()\n",
    "\n",
    "    def set_mode(self, sweep_mode: int, timing_mode: int, num_channels: int):\n",
    "        conn.write(b'reset\\n')\n",
    "        self.assert_OK()\n",
    "        conn.write(b'mode %d %d \\n' % (sweep_mode, timing_mode))\n",
    "        self.assert_OK()\n",
    "        conn.write(b'setchannels %d\\n' % num_channels)\n",
    "        self.assert_OK()\n",
    "        if self.debug_run == True:\n",
    "            print('sending commands to %d channels' % num_channels)\n",
    "\n",
    "    def allocate(self, start_address: int, instructions: np.ndarray):\n",
    "        conn.write(b'setb %d %d\\n' % (start_address, len(instructions)))\n",
    "        response = conn.readline().decode()\n",
    "        if not response.startswith('ready'):\n",
    "            response += ''.join([r.decode() for r in conn.readlines()])\n",
    "            raise Exception(f'setb command failed, response: {repr(response)}')\n",
    "        if self.debug_run == True:\n",
    "            print(f'Got response: {response}')\n",
    "\n",
    "    def table_to_memory(self, instructions: np.ndarray):\n",
    "        conn.write(instructions.tobytes())\n",
    "        self.assert_OK(), 'table not written correctly'\n",
    "        if self.debug_run == True:\n",
    "            print('table written to memory')\n",
    "\n",
    "    def end_table(self, instructions: np.ndarray):\n",
    "        conn.write(b'set 4 %d\\n' % len(instructions))\n",
    "        self.assert_OK(), 'table not stopped correctly'\n",
    "        if self.debug_run == True:\n",
    "            print('table end command sent')\n",
    "\n",
    "    def start_routine(self):\n",
    "        conn.write(b'start\\n')\n",
    "        self.assert_OK(), 'table did not start'\n",
    "        if self.debug_run == True:\n",
    "            print('table executed')\n",
    "\n",
    "    def read_table(self, indices = None):\n",
    "        conn.write(b'readtable\\n')\n",
    "        for _ in range(self.MAX_SIZE):\n",
    "            resp = self.catch_response()\n",
    "\n",
    "            ## No readability hint or end of response\n",
    "            if indices == None or \"End\" in resp:\n",
    "                print(resp)\n",
    "            else:\n",
    "                line = resp.split(\":\")\n",
    "                str_of_bytes = line[-1]\n",
    "                for ind in indices:\n",
    "                    str_of_bytes = insert_string(str_of_bytes, \"|\", ind * 2)\n",
    "                line[-1] = str_of_bytes\n",
    "                print(''.join(line))\n",
    "\n",
    "            ## termination conditions\n",
    "            if \"End of\" in resp:\n",
    "                break\n",
    "            elif \"Cannot\" in resp:\n",
    "                break\n",
    "            elif len(resp) == 0:\n",
    "                break\n",
    "        # self.assert_OK, 'something went wrong reading table'\n",
    "\n",
    "    def get_memory_layout(self):\n",
    "        conn.write(b'getmode\\n')\n",
    "        # self.assert_OK, \n",
    "        # self.assert_OK, 'something went wrong getting memory layout'\n",
    "        mode = self.catch_response()\n",
    "        channels = self.catch_response()\n",
    "        memory_layout = self.catch_response()\n",
    "        print(f\"mode {mode}\")\n",
    "        print(channels)\n",
    "        print(memory_layout)\n",
    "        # self.assert_OK, 'something went wrong getting memory layout'\n",
    "        \n",
    "Binary_Routine_Test = Binary_Routines()"
   ]
  },
  {
   "cell_type": "code",
   "execution_count": 6,
   "metadata": {},
   "outputs": [],
   "source": [
    "## slightly different logic than the ad9959.c funcs due to python vs c\n",
    "def get_ftw(freq_out: float, freq_sys: float = 500 * MHZ):\n",
    "\n",
    "    ftw = (freq_out / freq_sys) * 2**32\n",
    "    \n",
    "    return(int(ftw))\n",
    "\n",
    "def get_pow(phase: float):\n",
    "    \n",
    "    pow = round(phase / 360 * (2**14 - 1))\n",
    "\n",
    "    return pow\n",
    "\n",
    "def get_asf(amp: float):\n",
    "    \n",
    "    asf = round(amp * 1024)\n",
    "\n",
    "    return asf"
   ]
  },
  {
   "cell_type": "markdown",
   "metadata": {},
   "source": [
    "## Single Stepping Mode"
   ]
  },
  {
   "cell_type": "markdown",
   "metadata": {},
   "source": [
    "Single Stepping (mode 0) with timing: `<frequency:int 32> <amplitude:int 16> <phase:int 16> <time: int 32>`. Total of 12 bytes per channel per instruction."
   ]
  },
  {
   "cell_type": "code",
   "execution_count": 7,
   "metadata": {},
   "outputs": [],
   "source": [
    "dt = np.dtype([('frequency', np.uint32), \n",
    "               ('amplitude', np.uint16), \n",
    "               ('phase', np.uint16), \n",
    "               ('time', np.uint32)])\n",
    "\n",
    "f1 = get_ftw(freq_out = 100 * MHZ)\n",
    "f2 = get_ftw(freq_out = 120 * MHZ)\n",
    "f3 = get_ftw(freq_out = 110 * MHZ)\n",
    "\n",
    "a1 = 1023\n",
    "a2 = 500\n",
    "\n",
    "p1 = get_pow(phase = 90)\n",
    "p2 = get_pow(phase = 180)\n",
    "p3 = get_pow(phase = 270)\n",
    "\n",
    "t = 2\n",
    "\n",
    "step_instructions = np.array([\n",
    "                                (f2, a1, p1, t),\n",
    "                                (f3, a2, p1, t),\n",
    "                                (f1, a1, p1, t),\n",
    "                                (f3, a1, p1, t),\n",
    "                                 ]\n",
    "                                 , dtype = dt)"
   ]
  },
  {
   "cell_type": "code",
   "execution_count": 8,
   "metadata": {},
   "outputs": [],
   "source": [
    "single_step_test = Binary_Routines()"
   ]
  },
  {
   "cell_type": "code",
   "execution_count": 9,
   "metadata": {},
   "outputs": [
    {
     "name": "stdout",
     "output_type": "stream",
     "text": [
      "sending commands to 1 channels\n",
      "Got response: ready for 48 bytes\n",
      "\n",
      "table written to memory\n",
      "table end command sent\n",
      "table executed\n"
     ]
    }
   ],
   "source": [
    "single_step_test.set_mode(sweep_mode=0, timing_mode=1, num_channels=1)\n",
    "single_step_test.allocate(start_address=0, instructions=step_instructions)\n",
    "single_step_test.table_to_memory(instructions=step_instructions)\n",
    "single_step_test.end_table(instructions=step_instructions)\n",
    "\n",
    "single_step_test.start_routine()"
   ]
  },
  {
   "cell_type": "code",
   "execution_count": 10,
   "metadata": {},
   "outputs": [
    {
     "name": "stdout",
     "output_type": "stream",
     "text": [
      "Instruction Table Dump||||\n",
      "Offset is 0 | Raw bytes for instruction 0| 7F 00 |F2 04 3D |70 A3| D7 05 10 00 06 00 13 FF\n",
      "Offset is 15 | Raw bytes for instruction 1| 01 00 |F2 04 38 |51 EB| 85 05 10 00 06 00 11 F4\n",
      "Offset is 30 | Raw bytes for instruction 2| 05 00 |F2 04 33 |33 33| 33 05 10 00 06 00 13 FF\n",
      "Offset is 45 | Raw bytes for instruction 3| 01 00 |F2 04 38 |51 EB| 85 05 10 00 06 00 13 FF\n",
      "End of Instruction Table\n"
     ]
    }
   ],
   "source": [
    "single_step_test.read_table(indices=[0, 4, 9, 12])"
   ]
  },
  {
   "cell_type": "code",
   "execution_count": 11,
   "metadata": {},
   "outputs": [
    {
     "name": "stdout",
     "output_type": "stream",
     "text": [
      "mode Mode 0 - Single Steps\n",
      "Active channels: 1\n",
      "datatypes = np.dtype([('frequency', np.uint32), ('amplitude', np.uint16), ('phase', np.uint16), ('time', np.uint32)])\n"
     ]
    }
   ],
   "source": [
    "single_step_test.get_memory_layout()"
   ]
  },
  {
   "cell_type": "code",
   "execution_count": 12,
   "metadata": {},
   "outputs": [
    {
     "data": {
      "text/plain": [
       "''"
      ]
     },
     "execution_count": 12,
     "metadata": {},
     "output_type": "execute_result"
    }
   ],
   "source": [
    "single_step_test.catch_response()"
   ]
  },
  {
   "cell_type": "markdown",
   "metadata": {},
   "source": [
    "## Frequency Sweeps"
   ]
  },
  {
   "cell_type": "markdown",
   "metadata": {},
   "source": [
    "Frequency Sweeps (mode 2) with timing: `<start frequency:int 32> <stop frequency:int 32> <delta:int 32> <rate:int 8> <time:int 32>`. Total of 17 bytes per channel per instruction."
   ]
  },
  {
   "cell_type": "code",
   "execution_count": 13,
   "metadata": {},
   "outputs": [],
   "source": [
    "dt = np.dtype([('start frequency', np.uint32), \n",
    "               ('stop frequency', np.uint32), \n",
    "               ('delta', np.uint32), \n",
    "               ('rate', np.uint8), \n",
    "               ('time', np.uint32)])\n",
    "\n",
    "f1 = get_ftw(freq_out = 100 * MHZ)\n",
    "f2 = get_ftw(freq_out = 120 * MHZ)\n",
    "f3 = get_ftw(freq_out = 110 * MHZ)\n",
    "\n",
    "d = 100\n",
    "r = 1\n",
    "t = 2\n",
    "\n",
    "freq_sweep_table = np.array([\n",
    "                            (f1, f3, d, r, t),\n",
    "                            (f3, f2, d, r, t),\n",
    "                            (f2, f1, d, r, t),\n",
    "                            (f1, f1, d, r, t),\n",
    "                            (f2, f2, d, r, t),\n",
    "                            (f3, f3, d, r, t),\n",
    "                            (f3, f1, d, r, t),\n",
    "                            (f1, f2, d, r, t),\n",
    "                            (f2, f3, d, r, t),\n",
    "                            (f1, f1, d, r, t),\n",
    "                                 ]\n",
    "                                 , dtype = dt)"
   ]
  },
  {
   "cell_type": "code",
   "execution_count": 14,
   "metadata": {},
   "outputs": [
    {
     "name": "stdout",
     "output_type": "stream",
     "text": [
      "sending commands to 1 channels\n",
      "Got response: ready for 170 bytes\n",
      "\n",
      "table written to memory\n",
      "table end command sent\n",
      "table executed\n"
     ]
    }
   ],
   "source": [
    "freq_sweep_test = Binary_Routines()\n",
    "freq_sweep_test.set_mode(sweep_mode=2, timing_mode=1, num_channels=1)\n",
    "freq_sweep_test.allocate(start_address=0, instructions=freq_sweep_table)\n",
    "freq_sweep_test.table_to_memory(instructions=freq_sweep_table)\n",
    "freq_sweep_test.end_table(instructions=freq_sweep_table)\n",
    "freq_sweep_test.start_routine()"
   ]
  },
  {
   "cell_type": "code",
   "execution_count": 15,
   "metadata": {},
   "outputs": [
    {
     "name": "stdout",
     "output_type": "stream",
     "text": [
      "Instruction Table Dump||||\n",
      "Offset is 0 | Raw bytes for instruction 0| FF 00 F2 04 |33 33 33 33| 07 01 |01 08 00 00 00 64 09 00 00 00 00 0A 38 51 EB 85 03 80 43 10\n",
      "Offset is 30 | Raw bytes for instruction 1| FF 00 F2 04 |38 51 EB 85| 07 01 |01 08 00 00 00 64 09 00 00 00 00 0A 3D 70 A3 D7 03 80 43 10\n",
      "Offset is 60 | Raw bytes for instruction 2| 0F 00 F2 04 |33 33 33 33| 07 01 |01 08 FF FF FF FF 09 00 00 00 64 0A 3D 70 A3 D7 03 80 43 10\n",
      "Offset is 90 | Raw bytes for instruction 3| 0F 00 F2 04 |33 33 33 33| 07 01 |01 08 00 00 00 64 09 00 00 00 00 0A 33 33 33 33 03 80 43 10\n",
      "Offset is 120 | Raw bytes for instruction 4| 0F 00 F2 04 |3D 70 A3 D7| 07 01 |01 08 00 00 00 64 09 00 00 00 00 0A 3D 70 A3 D7 03 80 43 10\n",
      "Offset is 150 | Raw bytes for instruction 5| 0F 00 F2 04 |38 51 EB 85| 07 01 |01 08 00 00 00 64 09 00 00 00 00 0A 38 51 EB 85 03 80 43 10\n",
      "Offset is 180 | Raw bytes for instruction 6| 0F 00 F2 04 |33 33 33 33| 07 01 |01 08 FF FF FF FF 09 00 00 00 64 0A 38 51 EB 85 03 80 43 10\n",
      "Offset is 210 | Raw bytes for instruction 7| FF 00 F2 04 |33 33 33 33| 07 01 |01 08 00 00 00 64 09 00 00 00 00 0A 3D 70 A3 D7 03 80 43 10\n",
      "Offset is 240 | Raw bytes for instruction 8| 0F 00 F2 04 |38 51 EB 85| 07 01 |01 08 FF FF FF FF 09 00 00 00 64 0A 3D 70 A3 D7 03 80 43 10\n",
      "Offset is 270 | Raw bytes for instruction 9| 0F 00 F2 04 |33 33 33 33| 07 01 |01 08 00 00 00 64 09 00 00 00 00 0A 33 33 33 33 03 80 43 10\n",
      "End of Instruction Table\n"
     ]
    }
   ],
   "source": [
    "freq_sweep_test.read_table(indices=[0, 7, 13, 17])"
   ]
  },
  {
   "cell_type": "code",
   "execution_count": 16,
   "metadata": {},
   "outputs": [
    {
     "name": "stdout",
     "output_type": "stream",
     "text": [
      "mode Mode 2 - Frequency Sweeps\n",
      "Active channels: 1\n",
      "datatypes = np.dtype([('start frequency', np.uint32), ('stop frequency', np.uint32), ('delta', np.uint32), ('rate', np.uint8),\n"
     ]
    }
   ],
   "source": [
    "freq_sweep_test.get_memory_layout()"
   ]
  },
  {
   "cell_type": "markdown",
   "metadata": {},
   "source": [
    "## Phase Sweeps"
   ]
  },
  {
   "cell_type": "markdown",
   "metadata": {},
   "source": [
    "Phase Sweeps (mode 3) with timing: `<start phase:int 16> <stop phase:int 16> <delta:int 16> <rate:int 8> <time:int 32>`. Total of 11 bytes per channel per instruction."
   ]
  },
  {
   "cell_type": "code",
   "execution_count": 17,
   "metadata": {},
   "outputs": [],
   "source": [
    "for i in range(4):\n",
    "    conn.write(b'setfreq %d 100000000\\n' % i)\n",
    "    Binary_Routine_Test.catch_response()\n",
    "\n",
    "    conn.write(b'setphase %d 0\\n' % i)\n",
    "    Binary_Routine_Test.catch_response()\n",
    "\n",
    "    conn.write(b'setamp %d 1023\\n' % i)\n",
    "    Binary_Routine_Test.catch_response()\n",
    "\n",
    "dt = np.dtype([('start phase0', np.uint16), \n",
    "               ('stop phase0', np.uint16), \n",
    "               ('delta0', np.uint16), \n",
    "               ('rate0', np.uint8),\n",
    "               ('time0', np.uint32),\n",
    "               ('start phase1', np.uint16), \n",
    "               ('stop phase1', np.uint16), \n",
    "               ('delta1', np.uint16), \n",
    "               ('rate1', np.uint8), \n",
    "               ('time1', np.uint32)])\n",
    "\n",
    "p0 = get_pow(phase = 0)\n",
    "p1 = get_pow(phase = 90)\n",
    "p2 = get_pow(phase = 180)\n",
    "p3 = get_pow(phase = 270)\n",
    "p4 = get_pow(phase = 360)\n",
    "\n",
    "d = 1\n",
    "r = 1\n",
    "t = 2\n",
    "\n",
    "\n",
    "phase_sweep_instructions = np.array([\n",
    "                                    (0, 0, d, r, t, p0, p2, d, r, t),\n",
    "                                    (0, 0, d, r, t, p2, p1, d, r, t),\n",
    "                                    (0, 0, d, r, t, p1, p0, d, r, t),\n",
    "                                    # (0, 0, d, r, t, p0, p1, d, r, t),\n",
    "                                    # (0, 0, d, r, t, p1, p2, d, r, t),\n",
    "                                    # (0, 0, d, r, t, p2, p0, d, r, t),\n",
    "                                 ]\n",
    "                                 , dtype = dt)"
   ]
  },
  {
   "cell_type": "code",
   "execution_count": 18,
   "metadata": {},
   "outputs": [
    {
     "data": {
      "text/plain": [
       "''"
      ]
     },
     "execution_count": 18,
     "metadata": {},
     "output_type": "execute_result"
    }
   ],
   "source": [
    "Binary_Routine_Test.catch_response()"
   ]
  },
  {
   "cell_type": "code",
   "execution_count": 19,
   "metadata": {},
   "outputs": [
    {
     "name": "stdout",
     "output_type": "stream",
     "text": [
      "sending commands to 2 channels\n",
      "Got response: ready for 66 bytes\n",
      "\n",
      "table written to memory\n",
      "table end command sent\n",
      "table executed\n"
     ]
    }
   ],
   "source": [
    "phase_sweep_test = Binary_Routines()\n",
    "phase_sweep_test.debug_off()\n",
    "phase_sweep_test.set_mode(sweep_mode=3, timing_mode=1, num_channels=2)\n",
    "\n",
    "phase_sweep_test.allocate(start_address=0, instructions=phase_sweep_instructions)\n",
    "phase_sweep_test.table_to_memory(instructions=phase_sweep_instructions)\n",
    "\n",
    "phase_sweep_test.end_table(instructions=phase_sweep_instructions)\n",
    "phase_sweep_test.start_routine()"
   ]
  },
  {
   "cell_type": "code",
   "execution_count": 20,
   "metadata": {},
   "outputs": [
    {
     "name": "stdout",
     "output_type": "stream",
     "text": [
      "mode Mode 3 - Phase Sweeps\n",
      "Active channels: 2\n",
      "datatypes = np.dtype([('start phase', np.uint16), ('stop phase', np.uint16), ('delta', np.uint16), ('rate', np.uint8), ('time',\n"
     ]
    }
   ],
   "source": [
    "phase_sweep_test.get_memory_layout()"
   ]
  },
  {
   "cell_type": "code",
   "execution_count": 21,
   "metadata": {},
   "outputs": [
    {
     "name": "stdout",
     "output_type": "stream",
     "text": [
      "Instruction Table Dump:\n",
      "Offset is: 0 | Raw bytes for instruction 0: 7F 00 12 05 00 00 07 01 01 08 00 04 00 00 09 00 00 00 00 0A 00 00 00 00 03 C0 43 10 00 22 05 00 00 07 01 01 08 00 04 00 00 09 00 00 00 00 0A 80 00 00 00 03 C0 43 10\n",
      "Offset is: 55 | Raw bytes for instruction 1: 1F 00 12 05 00 00 07 01 01 08 00 04 00 00 09 00 00 00 00 0A 00 00 00 00 03 C0 43 10 00 22 05 10 00 07 01 01 08 FF FF FF FF 09 00 04 00 00 0A 80 00 00 00 03 C0 43 10\n",
      "Offset is: 110 | Raw bytes for instruction 2: 0C 00 12 05 00 00 07 01 01 08 00 04 00 00 09 00 00 00 00 0A 00 00 00 00 03 C0 43 10 00 22 05 00 00 07 01 01 08 FF FF FF FF 09 00 04 00 00 0A 40 00 00 00 03 C0 43 10\n",
      "End of Instruction Table\n"
     ]
    }
   ],
   "source": [
    "phase_sweep_test.read_table()"
   ]
  },
  {
   "cell_type": "code",
   "execution_count": 22,
   "metadata": {},
   "outputs": [
    {
     "name": "stdout",
     "output_type": "stream",
     "text": [
      "0 0x0\n",
      "4096 0x1000\n",
      "8192 0x2000\n"
     ]
    }
   ],
   "source": [
    "print(p0, hex(p0))\n",
    "print(p1, hex(p1))\n",
    "print(p2, hex(p2))\n"
   ]
  },
  {
   "cell_type": "code",
   "execution_count": null,
   "metadata": {},
   "outputs": [],
   "source": [
    "# #### not always necessary, just if you want to move back to tests.ipynb\n",
    "# conn.close()"
   ]
  },
  {
   "cell_type": "code",
   "execution_count": 24,
   "metadata": {},
   "outputs": [],
   "source": [
    "# conn.write(b'program\\n')"
   ]
  },
  {
   "cell_type": "code",
   "execution_count": 25,
   "metadata": {},
   "outputs": [],
   "source": [
    "# for i in range(4):\n",
    "#     conn.write(b'setfreq %d 100000000\\n' % i)\n",
    "#     Binary_Routine_Test.catch_response()\n",
    "\n",
    "#     conn.write(b'setphase %d 0\\n' % i)\n",
    "#     Binary_Routine_Test.catch_response()\n",
    "\n",
    "#     conn.write(b'setamp %d 1023\\n' % i)\n",
    "#     Binary_Routine_Test.catch_response()\n",
    "\n",
    "# dt = np.dtype([('start amp0', np.uint16), \n",
    "#                ('stop amp0', np.uint16), \n",
    "#                ('delta0', np.uint16), \n",
    "#                ('rate0', np.uint8),\n",
    "#                ('time0', np.uint32),\n",
    "#                ('start amp1', np.uint16), \n",
    "#                ('stop amp1', np.uint16), \n",
    "#                ('delta1', np.uint16), \n",
    "#                ('rate1', np.uint8), \n",
    "#                ('time1', np.uint32)])\n",
    "\n",
    "# p0 = get_pow(phase = 0)\n",
    "# p1 = get_pow(phase = 90)\n",
    "# p2 = get_pow(phase = 180)\n",
    "# p3 = get_pow(phase = 270)\n",
    "# p4 = get_pow(phase = 360)\n",
    "\n",
    "# d = 1\n",
    "# r = 1\n",
    "# t = 2\n",
    "\n",
    "\n",
    "# phase_sweep_instructions = np.array([\n",
    "#                                     (0, 0, d, r, t, p0, p2, d, r, t),\n",
    "#                                     (0, 0, d, r, t, p2, p1, d, r, t),\n",
    "#                                     (0, 0, d, r, t, p1, p0, d, r, t),\n",
    "#                                     (0, 0, d, r, t, p0, p1, d, r, t),\n",
    "#                                     (0, 0, d, r, t, p1, p2, d, r, t),\n",
    "#                                     (0, 0, d, r, t, p2, p0, d, r, t),\n",
    "#                                  ]\n",
    "#                                  , dtype = dt)"
   ]
  }
 ],
 "metadata": {
  "kernelspec": {
   "display_name": ".venv",
   "language": "python",
   "name": "python3"
  },
  "language_info": {
   "codemirror_mode": {
    "name": "ipython",
    "version": 3
   },
   "file_extension": ".py",
   "mimetype": "text/x-python",
   "name": "python",
   "nbconvert_exporter": "python",
   "pygments_lexer": "ipython3",
   "version": "3.11.11"
  }
 },
 "nbformat": 4,
 "nbformat_minor": 2
}
