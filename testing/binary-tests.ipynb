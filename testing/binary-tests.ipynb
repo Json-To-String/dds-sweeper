{
 "cells": [
  {
   "cell_type": "code",
   "execution_count": 1,
   "metadata": {},
   "outputs": [],
   "source": [
    "import serial\n",
    "import time\n",
    "import pyvisa \n",
    "import numpy as np\n",
    "from IPython.display import Image, display\n",
    "\n",
    "# You will have to change this to whatever COM port the pico is assigned when\n",
    "# you plug it in.\n",
    "# On Windows you can open device manager and look at the 'Ports (COM & LPT)' dropdown\n",
    "# the pico will show up as 'USB Serial Device'\n",
    "PICO_PORT = 'COM3'\n",
    "\n",
    "MHZ = 1000000"
   ]
  },
  {
   "cell_type": "code",
   "execution_count": 2,
   "metadata": {},
   "outputs": [],
   "source": [
    "# helper for sending serial commands\n",
    "# expects a string with the command (they dont have to be escaped with \\r or \\n at the end)\n",
    "# if echo is set to false, that means not to worry about the response from the\n",
    "# pico it signifigantly reduces communication time when sending many\n",
    "# instructions, but you lose out on the debugging info from the pico\n",
    "# def send(command: str, echo = True) -> str:\n",
    "#     # pico is expecting a newline to end every command\n",
    "#     if command[-1] != '\\n':\n",
    "#         command += '\\n'\n",
    "\n",
    "#     resp = ''\n",
    "#     conn = None\n",
    "#     try:\n",
    "#         conn = serial.Serial(PICO_PORT, baudrate = 152000, timeout = 0.1)\n",
    "#         conn.write(command.encode())\n",
    "#         if echo:\n",
    "#             resp = conn.readlines()\n",
    "#             resp = \"\".join([s.decode() for s in resp])\n",
    "\n",
    "#     except Exception as e:\n",
    "#         print(\"Encountered Error: \", e)\n",
    "\n",
    "#     finally:\n",
    "#         conn.close()\n",
    "\n",
    "#     return resp\n",
    "\n",
    "conn = None\n",
    "conn = serial.Serial(PICO_PORT, baudrate = 152000, timeout = 0.1)\n",
    "\n",
    "def assert_OK():\n",
    "    resp = conn.readline().decode().strip()\n",
    "    assert resp == 'ok', 'Expected \"ok\", received \"%s\"' % resp\n",
    "\n",
    "def sendb(instructions: np.ndarray, echo = True) -> str:\n",
    "\n",
    "    resp = ''\n",
    "\n",
    "    try:\n",
    "\n",
    "        ## tell setb how many instructions to expect \n",
    "        conn.write(b'setb 0 %d\\n' % len(instructions))\n",
    "        # assert_OK(), 'something wrong with instructions'\n",
    "\n",
    "        response = conn.readline().decode()\n",
    "        if not response.startswith('ready'):\n",
    "            response += ''.join([r.decode() for r in conn.readlines()])\n",
    "            raise Exception(f'setb command failed, got response {repr(response)}')\n",
    "        # print(f'table ready, got response: {response}')\n",
    "\n",
    "        conn.write(instructions.tobytes())\n",
    "        assert_OK(), 'table not written correctly'\n",
    "        print('table written')\n",
    "        \n",
    "        conn.write(b'set 4 %d\\n' % len(instructions))\n",
    "        assert_OK(), 'table not stopped correctly'\n",
    "        print('table finished')\n",
    "\n",
    "        # conn.write(b'start\\n')\n",
    "        # print('start sent')\n",
    "\n",
    "    except Exception as e:\n",
    "        raise e\n",
    "\n",
    "    # finally:\n",
    "    #     conn.close()\n",
    "\n",
    "    return resp"
   ]
  },
  {
   "cell_type": "code",
   "execution_count": 3,
   "metadata": {},
   "outputs": [],
   "source": [
    "## slightly different logic than the ad9959.c funcs due to python vs c\n",
    "def get_ftw(freq_out: float, freq_sys: float = 500 * MHZ):\n",
    "\n",
    "    ftw = (freq_out / freq_sys) * 2**32\n",
    "    \n",
    "    return(int(ftw))\n",
    "\n",
    "def get_pow(phase: float):\n",
    "    \n",
    "    pow = round(phase / 360 * (2**14 - 1))\n",
    "\n",
    "    return pow\n",
    "\n",
    "def get_asf(amp: float):\n",
    "    \n",
    "    asf = round(amp * 1024)\n",
    "\n",
    "    return asf"
   ]
  },
  {
   "cell_type": "markdown",
   "metadata": {},
   "source": [
    "## Single Stepping Mode"
   ]
  },
  {
   "cell_type": "code",
   "execution_count": 4,
   "metadata": {},
   "outputs": [],
   "source": [
    "dt = np.dtype([('frequency', np.uint32), ('amplitude', np.uint16), ('phase', np.uint16), ('time', np.uint32)])\n",
    "\n",
    "f1 = get_ftw(freq_out = 100 * MHZ)\n",
    "f2 = get_ftw(freq_out = 120 * MHZ)\n",
    "f3 = get_ftw(freq_out = 110 * MHZ)\n",
    "\n",
    "p1 = get_pow(phase = 90)\n",
    "p2 = get_pow(phase = 180)\n",
    "p3 = get_pow(phase = 270)\n",
    "\n",
    "t = 1\n",
    "\n",
    "example_instructions = np.array([\n",
    "                                (f2, 600, p1, t),\n",
    "                                (f2, 800, p1, t),\n",
    "                                (f2, 1023, p1, t),\n",
    "                                (f2, 800, p1, t),\n",
    "                                (f2, 800, p1, t),\n",
    "                                (f2, 1023, p1, t),\n",
    "                                (f2, 800, p1, t),\n",
    "                                (f2, 800, p1, t),\n",
    "                                (f2, 1023, p1, t),\n",
    "                                (f2, 800, p1, t)\n",
    "                                 ]\n",
    "                                 , dtype = dt)\n",
    "\n",
    "conn.write(b'reset\\n')\n",
    "assert_OK()\n",
    "conn.write(b'mode 0 1\\n')\n",
    "assert_OK()\n",
    "conn.write(b'setchannels 1\\n')\n",
    "assert_OK()"
   ]
  },
  {
   "cell_type": "code",
   "execution_count": 5,
   "metadata": {},
   "outputs": [
    {
     "name": "stdout",
     "output_type": "stream",
     "text": [
      "table written\n",
      "table finished\n"
     ]
    },
    {
     "data": {
      "text/plain": [
       "''"
      ]
     },
     "execution_count": 5,
     "metadata": {},
     "output_type": "execute_result"
    }
   ],
   "source": [
    "sendb(example_instructions)"
   ]
  },
  {
   "cell_type": "code",
   "execution_count": 6,
   "metadata": {},
   "outputs": [
    {
     "data": {
      "text/plain": [
       "6"
      ]
     },
     "execution_count": 6,
     "metadata": {},
     "output_type": "execute_result"
    }
   ],
   "source": [
    "conn.write(b'start\\n')"
   ]
  },
  {
   "cell_type": "code",
   "execution_count": 7,
   "metadata": {},
   "outputs": [],
   "source": [
    "assert_OK()"
   ]
  },
  {
   "cell_type": "markdown",
   "metadata": {},
   "source": [
    "## Frequency Sweeps"
   ]
  },
  {
   "cell_type": "markdown",
   "metadata": {},
   "source": [
    "Frequency Sweeps (mode 2) with timing: `<start frequency:int 32> <stop frequency:int 32> <delta:int 32> <rate:int 8> <time:int 32>`. Total of 17 bytes per channel per instruction."
   ]
  },
  {
   "cell_type": "code",
   "execution_count": 8,
   "metadata": {},
   "outputs": [],
   "source": [
    "dt = np.dtype([('start frequency', np.uint32), \n",
    "               ('stop frequency', np.uint32), \n",
    "               ('delta', np.uint32), \n",
    "               ('rate', np.uint8), \n",
    "               ('time', np.uint32)])\n",
    "\n",
    "f1 = get_ftw(freq_out = 100 * MHZ)\n",
    "f2 = get_ftw(freq_out = 120 * MHZ)\n",
    "f3 = get_ftw(freq_out = 110 * MHZ)\n",
    "\n",
    "d = 100\n",
    "r = 1\n",
    "t = 1\n",
    "\n",
    "example_instructions = np.array([\n",
    "                                (f2, f1, d, r, t),\n",
    "                                (f1, f3, d, r, t),\n",
    "                                (f3, f2, d, r, t),\n",
    "                                (f2, f1, d, r, t),\n",
    "                                (f1, f3, d, r, t)\n",
    "                                 ]\n",
    "                                 , dtype = dt)\n",
    "\n",
    "conn.write(b'reset\\n')\n",
    "assert_OK()\n",
    "conn.write(b'mode 2 1\\n')\n",
    "assert_OK()\n",
    "conn.write(b'setchannels 1\\n')\n",
    "assert_OK()\n",
    "\n"
   ]
  },
  {
   "cell_type": "code",
   "execution_count": 9,
   "metadata": {},
   "outputs": [
    {
     "name": "stdout",
     "output_type": "stream",
     "text": [
      "table written\n",
      "table finished\n"
     ]
    },
    {
     "data": {
      "text/plain": [
       "''"
      ]
     },
     "execution_count": 9,
     "metadata": {},
     "output_type": "execute_result"
    }
   ],
   "source": [
    "sendb(example_instructions)"
   ]
  },
  {
   "cell_type": "code",
   "execution_count": 10,
   "metadata": {},
   "outputs": [
    {
     "data": {
      "text/plain": [
       "6"
      ]
     },
     "execution_count": 10,
     "metadata": {},
     "output_type": "execute_result"
    }
   ],
   "source": [
    "conn.write(b'start\\n')\n"
   ]
  },
  {
   "cell_type": "code",
   "execution_count": 11,
   "metadata": {},
   "outputs": [],
   "source": [
    "assert_OK()\n"
   ]
  }
 ],
 "metadata": {
  "kernelspec": {
   "display_name": ".venv",
   "language": "python",
   "name": "python3"
  },
  "language_info": {
   "codemirror_mode": {
    "name": "ipython",
    "version": 3
   },
   "file_extension": ".py",
   "mimetype": "text/x-python",
   "name": "python",
   "nbconvert_exporter": "python",
   "pygments_lexer": "ipython3",
   "version": "3.11.11"
  }
 },
 "nbformat": 4,
 "nbformat_minor": 2
}
