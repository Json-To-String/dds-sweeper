{
 "cells": [
  {
   "cell_type": "code",
   "execution_count": 1,
   "metadata": {},
   "outputs": [],
   "source": [
    "import serial\n",
    "import time\n",
    "import pyvisa \n",
    "import numpy as np\n",
    "from IPython.display import Image, display\n",
    "\n",
    "# You will have to change this to whatever COM port the pico is assigned when\n",
    "# you plug it in.\n",
    "# On Windows you can open device manager and look at the 'Ports (COM & LPT)' dropdown\n",
    "# the pico will show up as 'USB Serial Device'\n",
    "PICO_PORT = 'COM3'\n",
    "\n",
    "MHZ = 1000000\n",
    "\n",
    "conn = None\n",
    "conn = serial.Serial(PICO_PORT, baudrate = 152000, timeout = 0.1)\n"
   ]
  },
  {
   "cell_type": "markdown",
   "metadata": {},
   "source": [
    "## Helpers"
   ]
  },
  {
   "cell_type": "code",
   "execution_count": 2,
   "metadata": {},
   "outputs": [],
   "source": [
    "class KeysightScope:\n",
    "    \"\"\"\n",
    "    Helper class using pyvisa for a USB connected Keysight Oscilloscope \n",
    "    \"\"\"\n",
    "    def __init__(self, \n",
    "                 addr='USB?*::INSTR',\n",
    "                 timeout=1, \n",
    "                 termination='\\n'\n",
    "                 ):\n",
    "        rm = pyvisa.ResourceManager()\n",
    "        devs = rm.list_resources(addr)\n",
    "        assert len(devs), \"pyvisa didn't find any connected devices matching \" + addr\n",
    "        self.dev = rm.open_resource(devs[0])\n",
    "        self.dev.timeout = 15_000 * timeout\n",
    "        self.dev.read_termination = termination\n",
    "        self.idn = self.dev.query('*IDN?')\n",
    "        self.read = self.dev.read\n",
    "        self.write = self.dev.write\n",
    "        self.query = self.dev.query\n",
    "\n",
    "    def _get_screenshot(self, verbose=False):\n",
    "        if verbose == True:\n",
    "            print('Acquiring screen image...')\n",
    "        return(self.dev.query_binary_values(':DISPlay:DATA? PNG, COLor', datatype='s'))\n",
    "\n",
    "    def save_screenshot(self, filepath, verbose=False, inksaver=False):\n",
    "        if verbose == True:\n",
    "            print('Saving screen image...')\n",
    "        result = self._get_screenshot()\n",
    "\n",
    "        # Keysight scope defaults to inksaving for image save\n",
    "        if inksaver == True:\n",
    "            self.dev.write(':HARDcopy:INKSaver 1')\n",
    "        else: \n",
    "            self.dev.write(':HARDcopy:INKSaver OFF')\n",
    "\n",
    "        with open(f'{filepath}', 'wb+') as ofile:\n",
    "            ofile.write(bytes(result))\n",
    "\n",
    "    def set_time_delay(self, time):\n",
    "        self.write(f':TIMebase:DELay {time}')\n",
    "\n",
    "    def set_time_scale(self, time):\n",
    "        self.write(f':TIMebase:SCALe {time}')\n",
    "\n",
    "my_instrument = KeysightScope()"
   ]
  },
  {
   "cell_type": "code",
   "execution_count": 3,
   "metadata": {},
   "outputs": [],
   "source": [
    "class Binary_Routines():\n",
    "    def __init__(self):\n",
    "        self.mirror_channels = False\n",
    "\n",
    "    def assert_OK(self):\n",
    "        resp = conn.readline().decode().strip()\n",
    "        assert resp == 'ok', 'Expected \"ok\", received \"%s\"' % resp\n",
    "\n",
    "    def debug_on(self):\n",
    "        conn.write(b'debug on\\n')\n",
    "        self.assert_OK()\n",
    "\n",
    "    def set_mode(self, sweep_mode: int, timing_mode: int, num_channels: int):\n",
    "        conn.write(b'reset\\n')\n",
    "        self.assert_OK()\n",
    "        conn.write(b'mode %d %d \\n' % (sweep_mode, timing_mode))\n",
    "        self.assert_OK()\n",
    "        conn.write(b'setchannels %d\\n' % num_channels)\n",
    "        self.assert_OK()\n",
    "        print('sending commands to %d channels' % num_channels)\n",
    "\n",
    "    def allocate(self, start_address: int, instructions: np.ndarray):\n",
    "        conn.write(b'setb %d %d\\n' % (start_address, len(instructions)))\n",
    "        response = conn.readline().decode()\n",
    "        if not response.startswith('ready'):\n",
    "            response += ''.join([r.decode() for r in conn.readlines()])\n",
    "            raise Exception(f'setb command failed, response: {repr(response)}')\n",
    "        print(f'Got response: {response}')\n",
    "\n",
    "    def table_to_memory(self, instructions: np.ndarray):\n",
    "        conn.write(instructions.tobytes())\n",
    "        self.assert_OK(), 'table not written correctly'\n",
    "        print('table written to memory')\n",
    "\n",
    "    def end_table(self, instructions: np.ndarray):\n",
    "        conn.write(b'set 4 %d\\n' % len(instructions))\n",
    "        self.assert_OK(), 'table not stopped correctly'\n",
    "        print('table end command sent')\n",
    "\n",
    "    def start_routine(self):\n",
    "        conn.write(b'start\\n')\n",
    "        self.assert_OK(), 'table did not start'\n",
    "        print('table executed')\n",
    "\n",
    "Binary_Routine_Test = Binary_Routines()"
   ]
  },
  {
   "cell_type": "code",
   "execution_count": 4,
   "metadata": {},
   "outputs": [],
   "source": [
    "# def assert_OK():\n",
    "#     resp = conn.readline().decode().strip()\n",
    "#     assert resp == 'ok', 'Expected \"ok\", received \"%s\"' % resp\n",
    "\n",
    "# def allocate_sendb(instructions, channel):\n",
    "#     ## tell setb how many instructions to expect \n",
    "#     conn.write(b'setb %d %d\\n' % (channel, len(instructions)))\n",
    "#     response = conn.readline().decode()\n",
    "#     if not response.startswith('ready'):\n",
    "#         response += ''.join([r.decode() for r in conn.readlines()])\n",
    "#         raise Exception(f'setb command failed, response: {repr(response)}')\n",
    "#     print(f'Got response: {response}')\n",
    "\n",
    "# def stop_sendb(instructions):\n",
    "#     conn.write(b'set 4 %d\\n' % len(instructions))\n",
    "#     assert_OK(), 'table not stopped correctly'\n",
    "#     print('table finished')\n",
    "\n",
    "# # def write_sendb(instructions, channel):\n",
    "\n",
    "# def sendb(instructions: np.ndarray, channel: int = 0, multi_channel = False) -> str:\n",
    "#     \"\"\"Sends a table of instructions to the sweeper to be read in binary mode `setb`.\n",
    "\n",
    "#     Parameters\n",
    "#     ----------\n",
    "#     instructions : np.ndarray \n",
    "#         the table of instructions to be processed.\n",
    "\n",
    "#     channel : int  \n",
    "#         instruction channel, defaults to 0.\n",
    "\n",
    "#     multi_channel : bool \n",
    "#         bool option to send commands to more than one channel and handle channel mirroring, defaults to False.\n",
    "\n",
    "#     \"\"\"\n",
    "\n",
    "#     try:\n",
    "\n",
    "#         allocate_sendb(instructions, channel)\n",
    "\n",
    "#         conn.write(instructions.tobytes())\n",
    "#         assert_OK(), 'table not written correctly'\n",
    "#         print('table written')\n",
    "        \n",
    "#         # conn.write(b'set 4 %d\\n' % len(instructions))\n",
    "#         # assert_OK(), 'table not stopped correctly'\n",
    "#         # print('table finished')\n",
    "\n",
    "#         # stop_sendb(instructions)\n",
    "\n",
    "#     except Exception as e:\n",
    "#         raise e\n"
   ]
  },
  {
   "cell_type": "code",
   "execution_count": 5,
   "metadata": {},
   "outputs": [],
   "source": [
    "## slightly different logic than the ad9959.c funcs due to python vs c\n",
    "def get_ftw(freq_out: float, freq_sys: float = 500 * MHZ):\n",
    "\n",
    "    ftw = (freq_out / freq_sys) * 2**32\n",
    "    \n",
    "    return(int(ftw))\n",
    "\n",
    "def get_pow(phase: float):\n",
    "    \n",
    "    pow = round(phase / 360 * (2**14 - 1))\n",
    "\n",
    "    return pow\n",
    "\n",
    "def get_asf(amp: float):\n",
    "    \n",
    "    asf = round(amp * 1024)\n",
    "\n",
    "    return asf"
   ]
  },
  {
   "cell_type": "markdown",
   "metadata": {},
   "source": [
    "## Single Stepping Mode"
   ]
  },
  {
   "cell_type": "markdown",
   "metadata": {},
   "source": [
    "Single Stepping (mode 0) with timing: `<frequency:int 32> <amplitude:int 16> <phase:int 16> <time: int 32>`. Total of 12 bytes per channel per instruction."
   ]
  },
  {
   "cell_type": "code",
   "execution_count": 6,
   "metadata": {},
   "outputs": [],
   "source": [
    "dt = np.dtype([('frequency', np.uint32), ('amplitude', np.uint16), ('phase', np.uint16), ('time', np.uint32)])\n",
    "\n",
    "f1 = get_ftw(freq_out = 100 * MHZ)\n",
    "f2 = get_ftw(freq_out = 120 * MHZ)\n",
    "f3 = get_ftw(freq_out = 110 * MHZ)\n",
    "\n",
    "p1 = get_pow(phase = 90)\n",
    "p2 = get_pow(phase = 180)\n",
    "p3 = get_pow(phase = 270)\n",
    "\n",
    "t = 1\n",
    "\n",
    "step_instructions = np.array([\n",
    "                                (f2, 1023, p1, t),\n",
    "                                (f2, 800, p1, t),\n",
    "                                (f2, 1023, p1, t),\n",
    "                                (f2, 200, p1, t),\n",
    "                                (f2, 800, p1, t),\n",
    "                                (f2, 1023, p1, t),\n",
    "                                (f2, 200, p1, t),\n",
    "                                (f2, 800, p1, t),\n",
    "                                (f2, 1023, p1, t),\n",
    "                                (f2, 800, p1, t)\n",
    "                                 ]\n",
    "                                 , dtype = dt)\n"
   ]
  },
  {
   "cell_type": "code",
   "execution_count": 7,
   "metadata": {},
   "outputs": [],
   "source": [
    "single_step_test = Binary_Routines()"
   ]
  },
  {
   "cell_type": "code",
   "execution_count": 8,
   "metadata": {},
   "outputs": [
    {
     "name": "stdout",
     "output_type": "stream",
     "text": [
      "sending commands to 1 channels\n",
      "Got response: ready for 120 bytes\n",
      "\n",
      "table written to memory\n",
      "table end command sent\n",
      "table executed\n"
     ]
    }
   ],
   "source": [
    "single_step_test.set_mode(sweep_mode=0, timing_mode=1, num_channels=1)\n",
    "single_step_test.allocate(start_address=0, instructions=step_instructions)\n",
    "single_step_test.table_to_memory(instructions=step_instructions)\n",
    "single_step_test.end_table(instructions=step_instructions)\n",
    "single_step_test.start_routine()\n"
   ]
  },
  {
   "cell_type": "markdown",
   "metadata": {},
   "source": [
    "## Frequency Sweeps"
   ]
  },
  {
   "cell_type": "markdown",
   "metadata": {},
   "source": [
    "Frequency Sweeps (mode 2) with timing: `<start frequency:int 32> <stop frequency:int 32> <delta:int 32> <rate:int 8> <time:int 32>`. Total of 17 bytes per channel per instruction."
   ]
  },
  {
   "cell_type": "code",
   "execution_count": 9,
   "metadata": {},
   "outputs": [],
   "source": [
    "dt = np.dtype([('start frequency', np.uint32), \n",
    "               ('stop frequency', np.uint32), \n",
    "               ('delta', np.uint32), \n",
    "               ('rate', np.uint8), \n",
    "               ('time', np.uint32)])\n",
    "\n",
    "f1 = get_ftw(freq_out = 100 * MHZ)\n",
    "f2 = get_ftw(freq_out = 120 * MHZ)\n",
    "f3 = get_ftw(freq_out = 110 * MHZ)\n",
    "\n",
    "d = 100\n",
    "r = 1\n",
    "t = 1\n",
    "\n",
    "freq_sweep_table = np.array([\n",
    "                            (f1, f3, d, r, t),\n",
    "                            (f3, f2, d, r, t),\n",
    "                            (f2, f1, d, r, t),\n",
    "                            (f1, f1, d, r, t),\n",
    "                            (f2, f2, d, r, t),\n",
    "                            (f3, f3, d, r, t),\n",
    "                            (f3, f1, d, r, t),\n",
    "                            (f1, f2, d, r, t),\n",
    "                            (f2, f3, d, r, t),\n",
    "                            (f1, f1, d, r, t),\n",
    "                                 ]\n",
    "                                 , dtype = dt)\n"
   ]
  },
  {
   "cell_type": "code",
   "execution_count": 10,
   "metadata": {},
   "outputs": [
    {
     "name": "stdout",
     "output_type": "stream",
     "text": [
      "sending commands to 1 channels\n",
      "Got response: ready for 170 bytes\n",
      "\n",
      "table written to memory\n",
      "table end command sent\n",
      "table executed\n"
     ]
    }
   ],
   "source": [
    "freq_sweep_test = Binary_Routines()\n",
    "freq_sweep_test.set_mode(sweep_mode=2, timing_mode=1, num_channels=1)\n",
    "freq_sweep_test.allocate(start_address=0, instructions=freq_sweep_table)\n",
    "freq_sweep_test.table_to_memory(instructions=freq_sweep_table)\n",
    "freq_sweep_test.end_table(instructions=freq_sweep_table)\n",
    "freq_sweep_test.start_routine()"
   ]
  },
  {
   "cell_type": "markdown",
   "metadata": {},
   "source": [
    "## Phase Sweeps"
   ]
  },
  {
   "cell_type": "markdown",
   "metadata": {},
   "source": [
    "Phase Sweeps (mode 3) with timing: `<start phase:int 16> <stop phase:int 16> <delta:int 16> <rate:int 8> <time:int 32>`. Total of 11 bytes per channel per instruction."
   ]
  },
  {
   "cell_type": "code",
   "execution_count": 20,
   "metadata": {},
   "outputs": [],
   "source": [
    "dt = np.dtype([('start phase', np.uint16), \n",
    "               ('stop phase', np.uint16), \n",
    "               ('delta', np.uint16), \n",
    "               ('rate', np.uint8), \n",
    "               ('time', np.uint32)])\n",
    "\n",
    "p0 = get_pow(phase = 0)\n",
    "p1 = get_pow(phase = 90)\n",
    "p2 = get_pow(phase = 180)\n",
    "p3 = get_pow(phase = 270)\n",
    "p4 = get_pow(phase = 360)\n",
    "\n",
    "d = 1\n",
    "r = 1\n",
    "t = 2\n",
    "\n",
    "\n",
    "channel0_instructions = np.array([\n",
    "                                # (0, 0, d, r, t),\n",
    "                                # (0, 0, d, r, t),\n",
    "                                # (0, 0, d, r, t),\n",
    "                                # (0, 0, d, r, t),\n",
    "                                # (0, 0, d, r, t),\n",
    "                                # (0, 0, d, r, t)\n",
    "                                (p0, p2, d, r, t),\n",
    "                                (p2, p1, d, r, t),\n",
    "                                (p1, p0, d, r, t),\n",
    "                                (p0, p1, d, r, t),\n",
    "                                (p1, p2, d, r, t),\n",
    "                                (p2, p0, d, r, t)\n",
    "                                 ]\n",
    "                                 , dtype = dt)\n",
    "\n",
    "channel1_instructions = np.array([\n",
    "                                # (0, 180, d, r, t),\n",
    "                                # (180, 90, d, r, t),\n",
    "                                # (90, 0, d, r, t),\n",
    "                                # (0, 90, d, r, t),\n",
    "                                # (90, 180, d, r, t),\n",
    "                                # (180, p0, d, r, t)\n",
    "                                (p0, p2, d, r, t),\n",
    "                                (p2, p1, d, r, t),\n",
    "                                (p1, p0, d, r, t),\n",
    "                                (p0, p1, d, r, t),\n",
    "                                (p1, p2, d, r, t),\n",
    "                                (p2, p0, d, r, t)\n",
    "                                 ]\n",
    "                                 , dtype = dt)\n",
    "\n",
    "\n",
    "phase_sweep_instructions = np.concatenate((channel0_instructions, channel1_instructions))"
   ]
  },
  {
   "cell_type": "code",
   "execution_count": 21,
   "metadata": {},
   "outputs": [
    {
     "name": "stdout",
     "output_type": "stream",
     "text": [
      "sending commands to 2 channels\n",
      "Got response: ready for 132 bytes\n",
      "\n",
      "table written to memory\n",
      "table end command sent\n",
      "table executed\n"
     ]
    }
   ],
   "source": [
    "phase_sweep_test = Binary_Routines()\n",
    "phase_sweep_test.debug_on()\n",
    "phase_sweep_test.set_mode(sweep_mode=3, timing_mode=1, num_channels=2)\n",
    "\n",
    "phase_sweep_test.allocate(start_address=0, instructions=channel0_instructions)\n",
    "phase_sweep_test.table_to_memory(instructions=phase_sweep_instructions)\n",
    "\n",
    "# phase_sweep_test.allocate(channel=1, instructions=channel1_instructions)\n",
    "# phase_sweep_test.table_to_memory(instructions=channel1_instructions)\n",
    "\n",
    "phase_sweep_test.end_table(instructions=channel0_instructions)\n",
    "phase_sweep_test.start_routine()"
   ]
  },
  {
   "cell_type": "code",
   "execution_count": 22,
   "metadata": {},
   "outputs": [],
   "source": [
    "# #### not always necessary, just if you want to move back to tests.ipynb\n",
    "# conn.close()"
   ]
  },
  {
   "cell_type": "code",
   "execution_count": 23,
   "metadata": {},
   "outputs": [
    {
     "name": "stdout",
     "output_type": "stream",
     "text": [
      "sending commands to 0 channels\n",
      "Got response: ready for 66 bytes\n",
      "\n",
      "table written to memory\n",
      "table end command sent\n",
      "table executed\n"
     ]
    }
   ],
   "source": [
    "phase_sweep_test = Binary_Routines()\n",
    "phase_sweep_test.debug_on()\n",
    "phase_sweep_test.set_mode(sweep_mode=3, timing_mode=1, num_channels=0)\n",
    "\n",
    "phase_sweep_test.allocate(start_address=0, instructions=channel0_instructions)\n",
    "phase_sweep_test.table_to_memory(instructions=channel0_instructions)\n",
    "\n",
    "# phase_sweep_test.allocate(channel=1, instructions=channel1_instructions)\n",
    "# phase_sweep_test.table_to_memory(instructions=channel1_instructions)\n",
    "\n",
    "phase_sweep_test.end_table(instructions=channel0_instructions)\n",
    "phase_sweep_test.start_routine()"
   ]
  },
  {
   "cell_type": "code",
   "execution_count": null,
   "metadata": {},
   "outputs": [],
   "source": []
  }
 ],
 "metadata": {
  "kernelspec": {
   "display_name": ".venv",
   "language": "python",
   "name": "python3"
  },
  "language_info": {
   "codemirror_mode": {
    "name": "ipython",
    "version": 3
   },
   "file_extension": ".py",
   "mimetype": "text/x-python",
   "name": "python",
   "nbconvert_exporter": "python",
   "pygments_lexer": "ipython3",
   "version": "3.11.11"
  }
 },
 "nbformat": 4,
 "nbformat_minor": 2
}
