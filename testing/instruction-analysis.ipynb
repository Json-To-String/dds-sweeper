{
 "cells": [
  {
   "cell_type": "markdown",
   "metadata": {},
   "source": [
    "# Instruction Plotting"
   ]
  },
  {
   "cell_type": "code",
   "execution_count": 1,
   "metadata": {},
   "outputs": [],
   "source": [
    "import pandas as pd\n",
    "import numpy as np\n",
    "\n",
    "import matplotlib.pyplot as plt"
   ]
  },
  {
   "cell_type": "code",
   "execution_count": 2,
   "metadata": {},
   "outputs": [],
   "source": [
    "BYTES_PER_INS = {\n",
    "    \"Step\" : 8,\n",
    "    \"Amplitude\" : 7,\n",
    "    \"Frequency\" : 13,\n",
    "    \"Phase\" : 7,\n",
    "    \"Amplitude2\" : 13,\n",
    "    \"Frequency2\" : 17,\n",
    "    \"Phase2\" : 13\n",
    "    }\n",
    "\n",
    "INS_SIZES = {\n",
    "    \"Step\" : 14,\n",
    "    \"Amplitude\" : 28,\n",
    "    \"Frequency\" : 29,\n",
    "    \"Phase\" : 27,\n",
    "    \"Amplitude2\" : 36,\n",
    "    \"Frequency2\" : 36,\n",
    "    \"Phase2\" : 36\n",
    "    }"
   ]
  },
  {
   "cell_type": "code",
   "execution_count": 3,
   "metadata": {},
   "outputs": [],
   "source": [
    "chans = np.array([1,2,3,4])\n",
    "\n",
    "## Maximum values that fit in memory\n",
    "max_vals = {\n",
    "    \"Step Mode Ins (Ext)\" : [16383, 8473, 5714, 4311],\n",
    "    \"Sweep Mode Ins (Ext)\": [8472, 4311, 2890, 2174],\n",
    "    \"Step Mode Bytes (Ext)\" : np.array([16383, 8473, 5714, 4311]) * (INS_SIZES[\"Step\"] * chans + 1),\n",
    "    \"Sweep Mode Bytes (Ext)\": np.array([8472, 4311, 2890, 2174]) * (INS_SIZES[\"Amplitude\"] * chans + 1),\n",
    "    }\n",
    "max_df = pd.DataFrame(max_vals, index=[f\"{i+1} Channels\" for i in range(4)])\n",
    "\n",
    "## Actual amount of values that would be processed\n",
    "actual_vals = {\n",
    "    \"Step Mode Ins (Ext)\" : [16352, 8464, 5710, 4311],\n",
    "    \"Sweep Mode Ins (Ext)\": [8464, 4302, 2880, 2169],\n",
    "    \"Step Mode Bytes (Ext)\" : np.array([16352, 8464, 5710, 4311]) * (INS_SIZES[\"Step\"] * chans + 1),\n",
    "    \"Sweep Mode Bytes (Ext)\": np.array([8464, 4302, 2880, 2169]) * (INS_SIZES[\"Amplitude\"] * chans + 1)\n",
    "    }\n",
    "actual_df = pd.DataFrame(actual_vals, index=[f\"{i+1} Channels\" for i in range(4)])\n",
    "\n",
    "## Values we expected to get \n",
    "expected_vals = {\n",
    "    \"Step Mode Ins (Ext)\" : [16656, 8615, 5810, 4383],\n",
    "    \"Sweep Mode Ins (Ext)\": [8327, 4234, 2838, 2135],\n",
    "    \"Step Mode Ins (Int)\" : [5000, 5000, 5000, 4032],\n",
    "    \"Sweep Mode Ins (Int)\": [5000, 3895, 2611, 1964],\n",
    "}\n",
    "expected_df = pd.DataFrame(expected_vals, index=[f\"{i+1} Channels\" for i in range(4)])\n",
    "# expected_df[\"Step Mode Bytes (Ext)\"] = np.array(expected_df[\"Step Mode Ins (Ext)\"]) * (INS_SIZES[\"Step\"] * chans + 1)\n",
    "# expected_df[\"Sweep Mode Bytes (Ext)\"] = np.array(expected_df[\"Sweep Mode Ins (Ext)\"]) * (INS_SIZES[\"Amplitude\"] * chans + 1)\n",
    "# expected_df[\"Step Mode Bytes (Int)\"] = np.array(expected_df[\"Step Mode Ins (Int)\"]) * (INS_SIZES[\"Step\"] * chans + 1)\n",
    "# expected_df[\"Sweep Mode Bytes (Int)\"] = np.array(expected_df[\"Sweep Mode Ins (Int)\"]) * (INS_SIZES[\"Amplitude\"] * chans + 1)\n",
    "\n",
    "## Process the difference\n",
    "missing_ext = pd.DataFrame() # currently only for external timing\n",
    "\n",
    "missing_ext[\"Sweep Mode Bytes\"] = max_df[\"Sweep Mode Bytes (Ext)\"] - actual_df[\"Sweep Mode Bytes (Ext)\"]\n",
    "missing_ext[\"Step Mode Bytes\"] = max_df[\"Step Mode Bytes (Ext)\"] - actual_df[\"Step Mode Bytes (Ext)\"]\n",
    "missing_ext[\"Sweep Mode Ins\"] = max_df[\"Sweep Mode Ins (Ext)\"] - actual_df[\"Sweep Mode Ins (Ext)\"]\n",
    "missing_ext[\"Step Mode Ins\"] = max_df[\"Step Mode Ins (Ext)\"] - actual_df[\"Step Mode Ins (Ext)\"]\n",
    "\n",
    "int_vals = {\n",
    "    \"Step Mode Ins (Int)\" : [4998, 4998, 4998, 3960],\n",
    "    \"Sweep Mode Ins (Int)\": [4998, 3960, 2653, 1995],\n",
    "    \"Step Mode Bytes (Int)\" : np.array([4998, 4998, 4998, 3960]) * (INS_SIZES[\"Step\"] * chans + 1),\n",
    "    \"Sweep Mode Bytes (Int)\": np.array([4998, 3960, 2653, 1995]) * (INS_SIZES[\"Amplitude\"] * chans + 1)\n",
    "    }\n",
    "\n",
    "int_df = pd.DataFrame(int_vals, index=[f\"{i+1} Channels\" for i in range(4)])"
   ]
  },
  {
   "cell_type": "code",
   "execution_count": 4,
   "metadata": {},
   "outputs": [
    {
     "data": {
      "text/html": [
       "<div>\n",
       "<style scoped>\n",
       "    .dataframe tbody tr th:only-of-type {\n",
       "        vertical-align: middle;\n",
       "    }\n",
       "\n",
       "    .dataframe tbody tr th {\n",
       "        vertical-align: top;\n",
       "    }\n",
       "\n",
       "    .dataframe thead th {\n",
       "        text-align: right;\n",
       "    }\n",
       "</style>\n",
       "<table border=\"1\" class=\"dataframe\">\n",
       "  <thead>\n",
       "    <tr style=\"text-align: right;\">\n",
       "      <th></th>\n",
       "      <th>Step Mode Ins (Ext)</th>\n",
       "      <th>Sweep Mode Ins (Ext)</th>\n",
       "      <th>Step Mode Bytes (Ext)</th>\n",
       "      <th>Sweep Mode Bytes (Ext)</th>\n",
       "    </tr>\n",
       "  </thead>\n",
       "  <tbody>\n",
       "    <tr>\n",
       "      <th>1 Channels</th>\n",
       "      <td>16383</td>\n",
       "      <td>8472</td>\n",
       "      <td>245745</td>\n",
       "      <td>245688</td>\n",
       "    </tr>\n",
       "    <tr>\n",
       "      <th>2 Channels</th>\n",
       "      <td>8473</td>\n",
       "      <td>4311</td>\n",
       "      <td>245717</td>\n",
       "      <td>245727</td>\n",
       "    </tr>\n",
       "    <tr>\n",
       "      <th>3 Channels</th>\n",
       "      <td>5714</td>\n",
       "      <td>2890</td>\n",
       "      <td>245702</td>\n",
       "      <td>245650</td>\n",
       "    </tr>\n",
       "    <tr>\n",
       "      <th>4 Channels</th>\n",
       "      <td>4311</td>\n",
       "      <td>2174</td>\n",
       "      <td>245727</td>\n",
       "      <td>245662</td>\n",
       "    </tr>\n",
       "  </tbody>\n",
       "</table>\n",
       "</div>"
      ],
      "text/plain": [
       "            Step Mode Ins (Ext)  Sweep Mode Ins (Ext)  Step Mode Bytes (Ext)  \\\n",
       "1 Channels                16383                  8472                 245745   \n",
       "2 Channels                 8473                  4311                 245717   \n",
       "3 Channels                 5714                  2890                 245702   \n",
       "4 Channels                 4311                  2174                 245727   \n",
       "\n",
       "            Sweep Mode Bytes (Ext)  \n",
       "1 Channels                  245688  \n",
       "2 Channels                  245727  \n",
       "3 Channels                  245650  \n",
       "4 Channels                  245662  "
      ]
     },
     "execution_count": 4,
     "metadata": {},
     "output_type": "execute_result"
    }
   ],
   "source": [
    "max_df"
   ]
  },
  {
   "cell_type": "code",
   "execution_count": 5,
   "metadata": {},
   "outputs": [
    {
     "data": {
      "text/html": [
       "<div>\n",
       "<style scoped>\n",
       "    .dataframe tbody tr th:only-of-type {\n",
       "        vertical-align: middle;\n",
       "    }\n",
       "\n",
       "    .dataframe tbody tr th {\n",
       "        vertical-align: top;\n",
       "    }\n",
       "\n",
       "    .dataframe thead th {\n",
       "        text-align: right;\n",
       "    }\n",
       "</style>\n",
       "<table border=\"1\" class=\"dataframe\">\n",
       "  <thead>\n",
       "    <tr style=\"text-align: right;\">\n",
       "      <th></th>\n",
       "      <th>Step Mode Ins (Ext)</th>\n",
       "      <th>Sweep Mode Ins (Ext)</th>\n",
       "      <th>Step Mode Bytes (Ext)</th>\n",
       "      <th>Sweep Mode Bytes (Ext)</th>\n",
       "    </tr>\n",
       "  </thead>\n",
       "  <tbody>\n",
       "    <tr>\n",
       "      <th>1 Channels</th>\n",
       "      <td>16352</td>\n",
       "      <td>8464</td>\n",
       "      <td>245280</td>\n",
       "      <td>245456</td>\n",
       "    </tr>\n",
       "    <tr>\n",
       "      <th>2 Channels</th>\n",
       "      <td>8464</td>\n",
       "      <td>4302</td>\n",
       "      <td>245456</td>\n",
       "      <td>245214</td>\n",
       "    </tr>\n",
       "    <tr>\n",
       "      <th>3 Channels</th>\n",
       "      <td>5710</td>\n",
       "      <td>2880</td>\n",
       "      <td>245530</td>\n",
       "      <td>244800</td>\n",
       "    </tr>\n",
       "    <tr>\n",
       "      <th>4 Channels</th>\n",
       "      <td>4311</td>\n",
       "      <td>2169</td>\n",
       "      <td>245727</td>\n",
       "      <td>245097</td>\n",
       "    </tr>\n",
       "  </tbody>\n",
       "</table>\n",
       "</div>"
      ],
      "text/plain": [
       "            Step Mode Ins (Ext)  Sweep Mode Ins (Ext)  Step Mode Bytes (Ext)  \\\n",
       "1 Channels                16352                  8464                 245280   \n",
       "2 Channels                 8464                  4302                 245456   \n",
       "3 Channels                 5710                  2880                 245530   \n",
       "4 Channels                 4311                  2169                 245727   \n",
       "\n",
       "            Sweep Mode Bytes (Ext)  \n",
       "1 Channels                  245456  \n",
       "2 Channels                  245214  \n",
       "3 Channels                  244800  \n",
       "4 Channels                  245097  "
      ]
     },
     "execution_count": 5,
     "metadata": {},
     "output_type": "execute_result"
    }
   ],
   "source": [
    "actual_df"
   ]
  },
  {
   "cell_type": "code",
   "execution_count": 6,
   "metadata": {},
   "outputs": [
    {
     "data": {
      "text/html": [
       "<div>\n",
       "<style scoped>\n",
       "    .dataframe tbody tr th:only-of-type {\n",
       "        vertical-align: middle;\n",
       "    }\n",
       "\n",
       "    .dataframe tbody tr th {\n",
       "        vertical-align: top;\n",
       "    }\n",
       "\n",
       "    .dataframe thead th {\n",
       "        text-align: right;\n",
       "    }\n",
       "</style>\n",
       "<table border=\"1\" class=\"dataframe\">\n",
       "  <thead>\n",
       "    <tr style=\"text-align: right;\">\n",
       "      <th></th>\n",
       "      <th>Step Mode Ins (Ext)</th>\n",
       "      <th>Sweep Mode Ins (Ext)</th>\n",
       "      <th>Step Mode Ins (Int)</th>\n",
       "      <th>Sweep Mode Ins (Int)</th>\n",
       "    </tr>\n",
       "  </thead>\n",
       "  <tbody>\n",
       "    <tr>\n",
       "      <th>1 Channels</th>\n",
       "      <td>16656</td>\n",
       "      <td>8327</td>\n",
       "      <td>5000</td>\n",
       "      <td>5000</td>\n",
       "    </tr>\n",
       "    <tr>\n",
       "      <th>2 Channels</th>\n",
       "      <td>8615</td>\n",
       "      <td>4234</td>\n",
       "      <td>5000</td>\n",
       "      <td>3895</td>\n",
       "    </tr>\n",
       "    <tr>\n",
       "      <th>3 Channels</th>\n",
       "      <td>5810</td>\n",
       "      <td>2838</td>\n",
       "      <td>5000</td>\n",
       "      <td>2611</td>\n",
       "    </tr>\n",
       "    <tr>\n",
       "      <th>4 Channels</th>\n",
       "      <td>4383</td>\n",
       "      <td>2135</td>\n",
       "      <td>4032</td>\n",
       "      <td>1964</td>\n",
       "    </tr>\n",
       "  </tbody>\n",
       "</table>\n",
       "</div>"
      ],
      "text/plain": [
       "            Step Mode Ins (Ext)  Sweep Mode Ins (Ext)  Step Mode Ins (Int)  \\\n",
       "1 Channels                16656                  8327                 5000   \n",
       "2 Channels                 8615                  4234                 5000   \n",
       "3 Channels                 5810                  2838                 5000   \n",
       "4 Channels                 4383                  2135                 4032   \n",
       "\n",
       "            Sweep Mode Ins (Int)  \n",
       "1 Channels                  5000  \n",
       "2 Channels                  3895  \n",
       "3 Channels                  2611  \n",
       "4 Channels                  1964  "
      ]
     },
     "execution_count": 6,
     "metadata": {},
     "output_type": "execute_result"
    }
   ],
   "source": [
    "expected_df"
   ]
  },
  {
   "cell_type": "code",
   "execution_count": 7,
   "metadata": {},
   "outputs": [
    {
     "data": {
      "text/html": [
       "<div>\n",
       "<style scoped>\n",
       "    .dataframe tbody tr th:only-of-type {\n",
       "        vertical-align: middle;\n",
       "    }\n",
       "\n",
       "    .dataframe tbody tr th {\n",
       "        vertical-align: top;\n",
       "    }\n",
       "\n",
       "    .dataframe thead th {\n",
       "        text-align: right;\n",
       "    }\n",
       "</style>\n",
       "<table border=\"1\" class=\"dataframe\">\n",
       "  <thead>\n",
       "    <tr style=\"text-align: right;\">\n",
       "      <th></th>\n",
       "      <th>Sweep Mode Bytes</th>\n",
       "      <th>Step Mode Bytes</th>\n",
       "      <th>Sweep Mode Ins</th>\n",
       "      <th>Step Mode Ins</th>\n",
       "    </tr>\n",
       "  </thead>\n",
       "  <tbody>\n",
       "    <tr>\n",
       "      <th>1 Channels</th>\n",
       "      <td>232</td>\n",
       "      <td>465</td>\n",
       "      <td>8</td>\n",
       "      <td>31</td>\n",
       "    </tr>\n",
       "    <tr>\n",
       "      <th>2 Channels</th>\n",
       "      <td>513</td>\n",
       "      <td>261</td>\n",
       "      <td>9</td>\n",
       "      <td>9</td>\n",
       "    </tr>\n",
       "    <tr>\n",
       "      <th>3 Channels</th>\n",
       "      <td>850</td>\n",
       "      <td>172</td>\n",
       "      <td>10</td>\n",
       "      <td>4</td>\n",
       "    </tr>\n",
       "    <tr>\n",
       "      <th>4 Channels</th>\n",
       "      <td>565</td>\n",
       "      <td>0</td>\n",
       "      <td>5</td>\n",
       "      <td>0</td>\n",
       "    </tr>\n",
       "  </tbody>\n",
       "</table>\n",
       "</div>"
      ],
      "text/plain": [
       "            Sweep Mode Bytes  Step Mode Bytes  Sweep Mode Ins  Step Mode Ins\n",
       "1 Channels               232              465               8             31\n",
       "2 Channels               513              261               9              9\n",
       "3 Channels               850              172              10              4\n",
       "4 Channels               565                0               5              0"
      ]
     },
     "execution_count": 7,
     "metadata": {},
     "output_type": "execute_result"
    }
   ],
   "source": [
    "missing_ext\n"
   ]
  },
  {
   "cell_type": "code",
   "execution_count": 8,
   "metadata": {},
   "outputs": [
    {
     "data": {
      "text/html": [
       "<div>\n",
       "<style scoped>\n",
       "    .dataframe tbody tr th:only-of-type {\n",
       "        vertical-align: middle;\n",
       "    }\n",
       "\n",
       "    .dataframe tbody tr th {\n",
       "        vertical-align: top;\n",
       "    }\n",
       "\n",
       "    .dataframe thead th {\n",
       "        text-align: right;\n",
       "    }\n",
       "</style>\n",
       "<table border=\"1\" class=\"dataframe\">\n",
       "  <thead>\n",
       "    <tr style=\"text-align: right;\">\n",
       "      <th></th>\n",
       "      <th>Step Mode Ins (Int)</th>\n",
       "      <th>Sweep Mode Ins (Int)</th>\n",
       "      <th>Step Mode Bytes (Int)</th>\n",
       "      <th>Sweep Mode Bytes (Int)</th>\n",
       "    </tr>\n",
       "  </thead>\n",
       "  <tbody>\n",
       "    <tr>\n",
       "      <th>1 Channels</th>\n",
       "      <td>4998</td>\n",
       "      <td>4998</td>\n",
       "      <td>74970</td>\n",
       "      <td>144942</td>\n",
       "    </tr>\n",
       "    <tr>\n",
       "      <th>2 Channels</th>\n",
       "      <td>4998</td>\n",
       "      <td>3960</td>\n",
       "      <td>144942</td>\n",
       "      <td>225720</td>\n",
       "    </tr>\n",
       "    <tr>\n",
       "      <th>3 Channels</th>\n",
       "      <td>4998</td>\n",
       "      <td>2653</td>\n",
       "      <td>214914</td>\n",
       "      <td>225505</td>\n",
       "    </tr>\n",
       "    <tr>\n",
       "      <th>4 Channels</th>\n",
       "      <td>3960</td>\n",
       "      <td>1995</td>\n",
       "      <td>225720</td>\n",
       "      <td>225435</td>\n",
       "    </tr>\n",
       "  </tbody>\n",
       "</table>\n",
       "</div>"
      ],
      "text/plain": [
       "            Step Mode Ins (Int)  Sweep Mode Ins (Int)  Step Mode Bytes (Int)  \\\n",
       "1 Channels                 4998                  4998                  74970   \n",
       "2 Channels                 4998                  3960                 144942   \n",
       "3 Channels                 4998                  2653                 214914   \n",
       "4 Channels                 3960                  1995                 225720   \n",
       "\n",
       "            Sweep Mode Bytes (Int)  \n",
       "1 Channels                  144942  \n",
       "2 Channels                  225720  \n",
       "3 Channels                  225505  \n",
       "4 Channels                  225435  "
      ]
     },
     "execution_count": 8,
     "metadata": {},
     "output_type": "execute_result"
    }
   ],
   "source": [
    "int_df"
   ]
  },
  {
   "cell_type": "code",
   "execution_count": 9,
   "metadata": {},
   "outputs": [
    {
     "data": {
      "text/plain": [
       "1 Channels    35.165591\n",
       "2 Channels    32.429119\n",
       "3 Channels    33.197674\n",
       "4 Channels          inf\n",
       "dtype: float64"
      ]
     },
     "execution_count": 9,
     "metadata": {},
     "output_type": "execute_result"
    }
   ],
   "source": [
    "actual_df['Step Mode Ins (Ext)']/missing_ext[\"Step Mode Bytes\"]"
   ]
  },
  {
   "cell_type": "code",
   "execution_count": 10,
   "metadata": {},
   "outputs": [
    {
     "data": {
      "text/plain": [
       "1 Channels    36.482759\n",
       "2 Channels     8.385965\n",
       "3 Channels     3.388235\n",
       "4 Channels     3.838938\n",
       "dtype: float64"
      ]
     },
     "execution_count": 10,
     "metadata": {},
     "output_type": "execute_result"
    }
   ],
   "source": [
    "actual_df[\"Sweep Mode Ins (Ext)\"]/missing_ext[\"Sweep Mode Bytes\"]"
   ]
  },
  {
   "cell_type": "markdown",
   "metadata": {},
   "source": [
    "Missing = (Max - Actual)  \n",
    "It seems like with more channels, you seem to lose fewer"
   ]
  },
  {
   "cell_type": "markdown",
   "metadata": {},
   "source": []
  }
 ],
 "metadata": {
  "kernelspec": {
   "display_name": ".venv",
   "language": "python",
   "name": "python3"
  },
  "language_info": {
   "codemirror_mode": {
    "name": "ipython",
    "version": 3
   },
   "file_extension": ".py",
   "mimetype": "text/x-python",
   "name": "python",
   "nbconvert_exporter": "python",
   "pygments_lexer": "ipython3",
   "version": "3.11.11"
  }
 },
 "nbformat": 4,
 "nbformat_minor": 2
}
