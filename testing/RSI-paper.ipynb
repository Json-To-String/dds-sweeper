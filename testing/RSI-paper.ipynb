{
 "cells": [
  {
   "cell_type": "code",
   "execution_count": 2,
   "id": "4314af25-40b8-4eb8-8e2c-48b7926cf52b",
   "metadata": {},
   "outputs": [],
   "source": [
    "import serial\n",
    "import time\n",
    "\n",
    "# You will have to change this to whatever COM port the pico is assigned when\n",
    "# you plug it in.\n",
    "# On Windows you can open device manager and look at the 'Ports (COM & LPT)' dropdown\n",
    "# the pico will show up as 'USB Serial Device'\n",
    "PICO_PORT = 'COM6'\n",
    "\n",
    "MHZ = 1000000\n",
    "\n",
    "# helper for sending serial commands\n",
    "# expects a string with the command\n",
    "# if echo is set to false, that means not to worry about the response from the\n",
    "# pico it signifigantly reduces communication time when sending many\n",
    "# instructions, but you lose out on the debugging info from the pico\n",
    "def send(command: str, echo = True) -> str:\n",
    "    # pico is expecting a newline to end every command\n",
    "    if command[-1] != '\\n':\n",
    "        command += '\\n'\n",
    "\n",
    "    resp = ''\n",
    "    try:\n",
    "        conn = serial.Serial(PICO_PORT, baudrate = 152000, timeout = 0.1)\n",
    "        conn.write(command.encode())\n",
    "        if echo:\n",
    "            resp = conn.readlines()\n",
    "            resp = \"\".join([s.decode() for s in resp])\n",
    "\n",
    "    except Exception as e:\n",
    "        print(\"Encountered Error: \", e)\n",
    "\n",
    "    finally:\n",
    "        conn.close()\n",
    "\n",
    "    return resp\n",
    "\n"
   ]
  },
  {
   "cell_type": "markdown",
   "id": "447a946c-4d87-46cf-ace1-2c855c84623c",
   "metadata": {},
   "source": [
    "## Single Stepping Freq Sweep"
   ]
  },
  {
   "cell_type": "code",
   "execution_count": 21,
   "id": "6a504a94-33f8-4a79-8420-0a97ec6e88cd",
   "metadata": {},
   "outputs": [
    {
     "data": {
      "text/plain": [
       "10.0"
      ]
     },
     "execution_count": 21,
     "metadata": {},
     "output_type": "execute_result"
    }
   ],
   "source": [
    "s0 = 53 * MHZ\n",
    "e0 = 59 * MHZ\n",
    "\n",
    "t = 5000\n",
    "\n",
    "dt = 1000\n",
    "pow = 0\n",
    "asf = 1\n",
    "\n",
    "send(f\"\"\"mode 0 1\n",
    "setchannels 1\n",
    "\"\"\"\n",
    ")\n",
    "\n",
    "dt = 500\n",
    "steps = t / dt\n",
    "df = (e0 - s0) / steps\n",
    "for i in range(int(steps)):\n",
    "    send(f'set 0 {i} {s0 + i * df} {asf} {pow} {dt}', echo=False)\n",
    "    \n",
    "send(f'set 0 {i+1} {s0} {asf} {pow} {dt}', echo=False)\n",
    "send(f'set 4 {i + 2}')\n",
    "send('start')\n",
    "    \n",
    "steps"
   ]
  },
  {
   "cell_type": "markdown",
   "id": "9f72d4a4-ac3d-4ab5-8d3b-5e1badb6ce31",
   "metadata": {},
   "source": [
    "### Same thing but as a sweep"
   ]
  },
  {
   "cell_type": "code",
   "execution_count": 22,
   "id": "152f5aef-491d-4c93-9154-a1f932a65684",
   "metadata": {},
   "outputs": [
    {
     "data": {
      "text/plain": [
       "'ok\\r\\nok\\r\\nSet ins #0 for channel 0 from 52999999.956228 Hz to 59000000.008382 Hz with delta 1200.009137 Hz and rate of 1\\r\\nok\\r\\nSet ins #1 for channel 0 from 52999999.956228 Hz to 52999999.956228 Hz with delta 0.000000 Hz and rate of 0\\r\\nok\\r\\nok\\r\\nok\\r\\n'"
      ]
     },
     "execution_count": 22,
     "metadata": {},
     "output_type": "execute_result"
    }
   ],
   "source": [
    "sd = (e0 - s0) / (t)\n",
    "\n",
    "send(f\"\"\"mode 2 1\n",
    "setchannels 1\n",
    "set 0 0 {s0} {e0} {sd} {1} {t}\n",
    "set 0 1 {s0} {s0} 0 0 {dt}\n",
    "set 4 2\n",
    "start\n",
    "\"\"\"\n",
    ")"
   ]
  },
  {
   "cell_type": "markdown",
   "id": "345dd3c8-e440-4c16-8b23-13c2d774211e",
   "metadata": {},
   "source": [
    "## Looking closely at downward sweeps"
   ]
  },
  {
   "cell_type": "code",
   "execution_count": 18,
   "id": "c0b2fc81-d370-443a-ac1a-a3fd2e0061d2",
   "metadata": {},
   "outputs": [
    {
     "name": "stdout",
     "output_type": "stream",
     "text": [
      "ok\n",
      "ok\n",
      "Set ins #0 for channel 0 from 52999999.956228 Hz to 55999999.982305 Hz with delta 7999.944501 Hz and rate of 1\n",
      "ok\n",
      "Set ins #1 for channel 0 from 55999999.982305 Hz to 52999999.956228 Hz with delta 2000.015229 Hz and rate of 1\n",
      "ok\n",
      "ok\n",
      "ok\n",
      "\n"
     ]
    }
   ],
   "source": [
    "f53 = 53000000\n",
    "f56 = 56000000\n",
    "f59 = 59000000\n",
    "\n",
    "t = 0\n",
    "\n",
    "print(send(\n",
    "f\"\"\"mode 2 1\n",
    "setchannels 1\n",
    "set 0 0 {f53} {f56} {8000} 1 {t}\n",
    "set 0 1 {f56} {f53} {2000} 1 {t}\n",
    "set 4 2\n",
    "start\n",
    "\"\"\"\n",
    "))"
   ]
  },
  {
   "cell_type": "markdown",
   "id": "06b38a9a-8c44-4f37-aed8-922fc3cea05c",
   "metadata": {},
   "source": [
    "## Sawish Tooth"
   ]
  },
  {
   "cell_type": "code",
   "execution_count": 143,
   "id": "93e4f43d-43da-403e-aaff-6bb0a0643320",
   "metadata": {},
   "outputs": [
    {
     "name": "stdout",
     "output_type": "stream",
     "text": [
      "ok\n",
      "ok\n",
      "set freq: 81744999.974035\n",
      "ok\n",
      "set freq: 81744999.974035\n",
      "ok\n",
      "set freq: 81744999.974035\n",
      "ok\n",
      "set freq: 81744999.974035\n",
      "ok\n",
      "ok\n",
      "ok\n",
      "\n",
      "1.0\n",
      "2.0\n",
      "6.0\n",
      "0.5000000000000001\n",
      "1.0000000000000002\n",
      "3.0\n",
      "5.0\n",
      "10.0\n",
      "30.0\n",
      "50.0\n",
      "100.0\n",
      "300.0\n",
      "Ready\n"
     ]
    }
   ],
   "source": [
    "sweepRange = 60 * MHZ / 16\n",
    "center = 83.62 * MHZ\n",
    "startPoint = center - sweepRange / 2\n",
    "endPoint = center + sweepRange / 2\n",
    "\n",
    "dwellTime = 100e-6\n",
    "cycleTime = 1 / (125 * MHZ)\n",
    "dwellCycles = dwellTime / cycleTime\n",
    "\n",
    "print(send(f\"\"\"abort\n",
    "mode 0 1\n",
    "setfreq 0 {startPoint}\n",
    "setfreq 1 {startPoint}\n",
    "setfreq 2 {startPoint}\n",
    "setfreq 3 {startPoint}\n",
    "mode 2 1\n",
    "setchannels 1\n",
    "\"\"\"))\n",
    "\n",
    "i = 0\n",
    "for decade in range(1, 5):\n",
    "    if decade == 1:\n",
    "        div = 20\n",
    "    else:\n",
    "        div = 1\n",
    "    for l in [6, 3, 1]:\n",
    "        sweepTime = l * 10**(-decade)\n",
    "        sweepCycles = sweepTime / cycleTime\n",
    "        delta = sweepRange / sweepCycles * div\n",
    "        send(f'set 0 {i} {startPoint} {endPoint} {delta} {div} {sweepCycles}', echo=False)\n",
    "        send(f'set 0 {i + 1} {startPoint} {startPoint} 0 {1} {dwellCycles}', echo=False)\n",
    "        i += 2\n",
    "        \n",
    "send(f'set 4 {i}', echo=False)\n",
    "print('Ready')\n",
    "        "
   ]
  },
  {
   "cell_type": "code",
   "execution_count": 144,
   "id": "a595c333-0020-42b2-a0f6-84bc51e78a53",
   "metadata": {},
   "outputs": [
    {
     "data": {
      "text/plain": [
       "'ok\\r\\n'"
      ]
     },
     "execution_count": 144,
     "metadata": {},
     "output_type": "execute_result"
    }
   ],
   "source": [
    "send('start')"
   ]
  }
 ],
 "metadata": {
  "kernelspec": {
   "display_name": "Python 3 (ipykernel)",
   "language": "python",
   "name": "python3"
  },
  "language_info": {
   "codemirror_mode": {
    "name": "ipython",
    "version": 3
   },
   "file_extension": ".py",
   "mimetype": "text/x-python",
   "name": "python",
   "nbconvert_exporter": "python",
   "pygments_lexer": "ipython3",
   "version": "3.8.15"
  }
 },
 "nbformat": 4,
 "nbformat_minor": 5
}
