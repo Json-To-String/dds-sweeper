{
 "cells": [
  {
   "cell_type": "markdown",
   "metadata": {},
   "source": [
    "# Instruction Tests"
   ]
  },
  {
   "cell_type": "code",
   "execution_count": 1,
   "metadata": {},
   "outputs": [],
   "source": [
    "import serial\n",
    "import time\n",
    "import pyvisa \n",
    "import numpy as np\n",
    "from IPython.display import Image, display\n",
    "from KeysightScope import KeysightScope\n",
    "\n",
    "# You will have to change this to whatever COM port the pico is assigned when\n",
    "# you plug it in.\n",
    "# On Windows you can open device manager and look at the 'Ports (COM & LPT)' dropdown\n",
    "# the pico will show up as 'USB Serial Device'\n",
    "SWEEP_PORT = 'COM3'\n",
    "PRAWN_PORT = 'COM7'\n",
    "\n",
    "MHZ = 1000000\n",
    "\n",
    "# sweep_conn = None\n",
    "sweep_conn = serial.Serial(SWEEP_PORT, baudrate = 152000, timeout = 0.1)\n",
    "\n",
    "# prawn_conn = None\n",
    "prawn_conn = serial.Serial(PRAWN_PORT, baudrate = 152000, timeout = 0.1)"
   ]
  },
  {
   "cell_type": "markdown",
   "metadata": {},
   "source": [
    "## Helpers"
   ]
  },
  {
   "cell_type": "code",
   "execution_count": 2,
   "metadata": {},
   "outputs": [],
   "source": [
    "class BinaryRoutines():\n",
    "    \"\"\"\n",
    "    Class handler for `setb` command to send binary tables to the dds-sweeper\n",
    "    \"\"\"\n",
    "\n",
    "    def __init__(self, conn):\n",
    "        self.conn = conn\n",
    "        self.mirror_channels = False\n",
    "        self.debug_run = True\n",
    "        self.MAX_SIZE = 256\n",
    "        self.instructions = None\n",
    "        self.timing_mode = None\n",
    "\n",
    "    def send(self, command: str, echo = True):\n",
    "        if command[-1] != '\\n':\n",
    "            command += '\\n'\n",
    "\n",
    "        self.conn.write(command.encode())\n",
    "        if echo:\n",
    "            print(self.catch_response())\n",
    "\n",
    "    def catch_response(self):\n",
    "        resp = self.conn.readline().decode().strip()\n",
    "        return resp\n",
    "\n",
    "    def assert_OK(self):\n",
    "        resp = self.conn.readline().decode().strip()\n",
    "        assert resp == 'ok', 'Expected \"ok\", received \"%s\"' % resp\n",
    "\n",
    "    def debug_on(self):\n",
    "        self.conn.write(b'debug on\\n')\n",
    "        self.assert_OK()\n",
    "\n",
    "    def debug_off(self):\n",
    "        self.conn.write(b'debug off\\n')\n",
    "        self.assert_OK()\n",
    "\n",
    "    def set_mode(self, sweep_mode: int, timing_mode: int, num_channels: int):\n",
    "        self.conn.write(b'reset\\n')\n",
    "        self.assert_OK()\n",
    "\n",
    "        self.timing_mode = timing_mode\n",
    "        self.conn.write(b'mode %d %d \\n' % (sweep_mode, timing_mode))\n",
    "        self.assert_OK()\n",
    "        self.conn.write(b'setchannels %d\\n' % num_channels)\n",
    "        self.assert_OK()\n",
    "        if self.debug_run == True:\n",
    "            print('sending commands to %d channels' % num_channels)\n",
    "\n",
    "    def allocate(self, start_address: int, instructions: np.ndarray):\n",
    "        self.conn.write(b'setb %d %d\\n' % (start_address, len(instructions)))\n",
    "        response = self.conn.readline().decode()\n",
    "        if not response.startswith('ready'):\n",
    "            response += ''.join([r.decode() for r in self.conn.readlines()])\n",
    "            raise Exception(f'setb command failed, response: {repr(response)}')\n",
    "        if self.debug_run == True:\n",
    "            print(f'Got response: {response}')\n",
    "\n",
    "    def table_to_memory(self, instructions: np.ndarray):\n",
    "        self.conn.write(instructions.tobytes())\n",
    "        self.assert_OK(), 'table not written correctly'\n",
    "        if self.debug_run == True:\n",
    "            print('table written to memory')\n",
    "\n",
    "    def end_table(self, instructions: np.ndarray):\n",
    "        self.conn.write(b'set 4 %d\\n' % len(instructions))\n",
    "        self.assert_OK(), 'table not stopped correctly'\n",
    "        self.instructions = instructions\n",
    "        if self.debug_run == True:\n",
    "            print('table end command sent')\n",
    "\n",
    "    def start_routine(self, hwstart = False):\n",
    "\n",
    "        if hwstart:\n",
    "            self.conn.write(b'hwstart\\n')\n",
    "        else:\n",
    "            self.conn.write(b'start\\n')\n",
    "        self.assert_OK(), 'table did not start'\n",
    "        if self.debug_run == True:\n",
    "            print('table executed')\n",
    "\n",
    "    def read_table(self, indices = None):\n",
    "        self.conn.write(b'readtable\\n')\n",
    "        for i in range(self.instructions.size + 2): # plus two to catch header and footer\n",
    "            resp = self.catch_response()\n",
    "            print(resp)\n",
    "\n",
    "            if \"End of\" in resp:\n",
    "                break\n",
    "            elif \"Cannot\" in resp:\n",
    "                break\n",
    "            elif len(resp) == 0:\n",
    "                break\n",
    "            \n",
    "    def get_memory_layout(self):\n",
    "        self.conn.write(b'getmode\\n')\n",
    "        # self.assert_OK, \n",
    "        # self.assert_OK, 'something went wrong getting memory layout'\n",
    "        mode = self.catch_response()\n",
    "        channels = self.catch_response()\n",
    "        memory_layout = self.catch_response()\n",
    "        print(f\"mode {mode}\")\n",
    "        print(channels)\n",
    "        print(memory_layout)\n",
    "        # self.assert_OK, 'something went wrong getting memory layout'"
   ]
  },
  {
   "cell_type": "code",
   "execution_count": 3,
   "metadata": {},
   "outputs": [],
   "source": [
    "def sendp(command: str, echo = True) -> str:\n",
    "    # pico is expecting a newline to end every command\n",
    "    if command[-1] != '\\n':\n",
    "        command += '\\n'\n",
    "\n",
    "    resp = ''\n",
    "    try:\n",
    "        prawn_conn.write(command.encode())\n",
    "        if echo:\n",
    "            resp = prawn_conn.readlines()\n",
    "            resp = \"\".join([s.decode() for s in resp])\n",
    "\n",
    "    except Exception as e:\n",
    "        print(\"Encountered Error: \", e)\n",
    "\n",
    "    return resp"
   ]
  },
  {
   "cell_type": "code",
   "execution_count": 4,
   "metadata": {},
   "outputs": [],
   "source": [
    "## slightly different logic than the ad9959.c funcs due to python vs c\n",
    "def get_ftw(freq_out: float, freq_sys: float = 500 * MHZ):\n",
    "\n",
    "    ftw = (freq_out / freq_sys) * 2**32\n",
    "    \n",
    "    return(int(ftw))\n",
    "\n",
    "def get_pow(phase: float):\n",
    "    \n",
    "    pow = round(phase / 360 * (2**14 - 1))\n",
    "\n",
    "    return pow\n",
    "\n",
    "def get_asf(amp: float):\n",
    "    \n",
    "    asf = round(amp * 1024)\n",
    "\n",
    "    return asf"
   ]
  },
  {
   "cell_type": "code",
   "execution_count": 5,
   "metadata": {},
   "outputs": [],
   "source": [
    "\n",
    "\n",
    "f1 = get_ftw(freq_out = 100 * MHZ)\n",
    "f2 = get_ftw(freq_out = 120 * MHZ)\n",
    "f3 = get_ftw(freq_out = 110 * MHZ)\n",
    "\n",
    "a1 = 1023\n",
    "a2 = 500\n",
    "\n",
    "p0 = 0\n",
    "p1 = get_pow(phase = 90)\n",
    "p2 = get_pow(phase = 180)\n",
    "p3 = get_pow(phase = 270)\n",
    "\n",
    "t = 2"
   ]
  },
  {
   "cell_type": "markdown",
   "metadata": {},
   "source": [
    "## Step Mode, External Time, One Channel"
   ]
  },
  {
   "cell_type": "code",
   "execution_count": null,
   "metadata": {},
   "outputs": [],
   "source": []
  },
  {
   "cell_type": "code",
   "execution_count": null,
   "metadata": {},
   "outputs": [],
   "source": [
    "\n",
    "dt = np.dtype([('frequency', '<u4'), \n",
    "               ('amplitude', '<u2'), \n",
    "               ('phase', '<u2')])\n",
    "\n",
    "# n = 16352 // 2 # want to send n instructions, but 2 distinct\n",
    "n = 20 // 2 # want to send n instructions, but 2 distinct\n",
    "\n",
    "arr = [(f2, a1, p1), (f3, a2, p1)] * n # repeat these 2 instructions n times\n",
    "step_instructions = np.array(arr, dtype = dt)"
   ]
  },
  {
   "cell_type": "code",
   "execution_count": null,
   "metadata": {},
   "outputs": [],
   "source": [
    "single_step_test = BinaryRoutines(sweep_conn)"
   ]
  },
  {
   "cell_type": "code",
   "execution_count": null,
   "metadata": {},
   "outputs": [],
   "source": [
    "single_step_test.catch_response()"
   ]
  },
  {
   "cell_type": "code",
   "execution_count": null,
   "metadata": {},
   "outputs": [],
   "source": [
    "single_step_test.set_mode(sweep_mode=0, timing_mode=0, num_channels=1)\n",
    "single_step_test.allocate(start_address=0, instructions=step_instructions)\n",
    "single_step_test.table_to_memory(instructions=step_instructions)\n",
    "single_step_test.end_table(instructions=step_instructions)\n",
    "\n",
    "single_step_test.start_routine(hwstart=True)"
   ]
  },
  {
   "cell_type": "code",
   "execution_count": null,
   "metadata": {},
   "outputs": [],
   "source": [
    "sendp(f'set 0 0 4000 {2*n}\\r\\n')\n",
    "print(sendp('start\\r\\n', echo=True))"
   ]
  },
  {
   "cell_type": "code",
   "execution_count": null,
   "metadata": {},
   "outputs": [],
   "source": [
    "print(sendp('status\\r\\n', echo=True))"
   ]
  },
  {
   "cell_type": "code",
   "execution_count": null,
   "metadata": {},
   "outputs": [],
   "source": [
    "single_step_test.send('numtriggers')\n"
   ]
  },
  {
   "cell_type": "code",
   "execution_count": null,
   "metadata": {},
   "outputs": [],
   "source": [
    "# single_step_test.read_table()"
   ]
  },
  {
   "cell_type": "code",
   "execution_count": null,
   "metadata": {},
   "outputs": [],
   "source": [
    "single_step_test.send('numtriggers')"
   ]
  },
  {
   "cell_type": "markdown",
   "metadata": {},
   "source": [
    "## Step Mode, External Time, Two Channels"
   ]
  },
  {
   "cell_type": "code",
   "execution_count": null,
   "metadata": {},
   "outputs": [],
   "source": [
    "two_channel_test = BinaryRoutines(sweep_conn)\n",
    "\n",
    "dt2 = np.dtype([('frequency0', '<u4'), \n",
    "               ('amplitude0', '<u2'), \n",
    "               ('phase0', '<u2'),\n",
    "               ('frequency1', '<u4'), \n",
    "               ('amplitude1', '<u2'), \n",
    "               ('phase1', '<u2')]\n",
    "               )\n",
    "\n",
    "n = 8473 # max\n",
    "n = 8447 # draws\n",
    "\n",
    "chann0_ins = (f3, a1, p1)\n",
    "chann1_ins = (f2, a1, p1)\n",
    "tup_in = chann0_ins + chann1_ins # table layout reads chan{n} then chan{n+1} before next instruction\n",
    "\n",
    "arr = [tup_in] * n \n",
    "two_channel_ins = np.array(arr, dtype = dt2)\n",
    "two_channel_ins.size"
   ]
  },
  {
   "cell_type": "code",
   "execution_count": null,
   "metadata": {},
   "outputs": [],
   "source": [
    "two_channel_test = BinaryRoutines(sweep_conn)\n",
    "\n",
    "two_channel_test.set_mode(sweep_mode=0, timing_mode=0, num_channels=2)\n",
    "two_channel_test.allocate(start_address=0, instructions=two_channel_ins)\n",
    "two_channel_test.table_to_memory(instructions=two_channel_ins)\n",
    "two_channel_test.end_table(instructions=two_channel_ins)\n",
    "\n",
    "two_channel_test.start_routine(hwstart=True)"
   ]
  },
  {
   "cell_type": "code",
   "execution_count": null,
   "metadata": {},
   "outputs": [],
   "source": [
    "sendp(f'set 0 0 4000 {n}\\r\\n')\n",
    "print(sendp('start\\r\\n', echo=True))"
   ]
  },
  {
   "cell_type": "code",
   "execution_count": null,
   "metadata": {},
   "outputs": [],
   "source": [
    "print(sendp('status\\r\\n', echo=True))"
   ]
  },
  {
   "cell_type": "code",
   "execution_count": null,
   "metadata": {},
   "outputs": [],
   "source": [
    "two_channel_test.send('numtriggers')"
   ]
  },
  {
   "cell_type": "markdown",
   "metadata": {},
   "source": [
    "## Step Mode, External Time, Three Channels"
   ]
  },
  {
   "cell_type": "code",
   "execution_count": null,
   "metadata": {},
   "outputs": [],
   "source": [
    "three_channel_test = BinaryRoutines(sweep_conn)\n",
    "\n",
    "dt3 = np.dtype([('frequency0', '<u4'), \n",
    "               ('amplitude0', '<u2'), \n",
    "               ('phase0', '<u2'),\n",
    "               ('frequency1', '<u4'), \n",
    "               ('amplitude1', '<u2'), \n",
    "               ('phase1', '<u2'),\n",
    "               ('frequency2', '<u4'), \n",
    "               ('amplitude2', '<u2'), \n",
    "               ('phase2', '<u2')]\n",
    "               )\n",
    "\n",
    "n = 5714 # max\n",
    "n = 5710 # draws\n",
    "\n",
    "chann0_ins = (f3, a1, p1)\n",
    "chann1_ins = (f2, a1, p1)\n",
    "chann2_ins = (f1, a1, p1)\n",
    "\n",
    "tup_in = chann0_ins + chann1_ins + chann2_ins # table layout reads chan{n} then chan{n+1} before next instruction\n",
    "\n",
    "arr = [tup_in] * n \n",
    "three_channel_ins = np.array(arr, dtype = dt3)\n",
    "three_channel_ins.size"
   ]
  },
  {
   "cell_type": "code",
   "execution_count": null,
   "metadata": {},
   "outputs": [],
   "source": [
    "three_channel_test = BinaryRoutines(sweep_conn)\n",
    "\n",
    "three_channel_test.set_mode(sweep_mode=0, timing_mode=0, num_channels=3)\n",
    "three_channel_test.allocate(start_address=0, instructions=three_channel_ins)\n",
    "three_channel_test.table_to_memory(instructions=three_channel_ins)\n",
    "three_channel_test.end_table(instructions=three_channel_ins)\n",
    "\n",
    "three_channel_test.start_routine(hwstart=True)"
   ]
  },
  {
   "cell_type": "code",
   "execution_count": null,
   "metadata": {},
   "outputs": [],
   "source": [
    "sendp(f'set 0 0 4000 {n}\\r\\n')\n",
    "print(sendp('start\\r\\n', echo=True))"
   ]
  },
  {
   "cell_type": "code",
   "execution_count": null,
   "metadata": {},
   "outputs": [],
   "source": [
    "print(sendp('status\\r\\n', echo=True))"
   ]
  },
  {
   "cell_type": "code",
   "execution_count": null,
   "metadata": {},
   "outputs": [],
   "source": [
    "three_channel_test.send('numtriggers')"
   ]
  },
  {
   "cell_type": "markdown",
   "metadata": {},
   "source": [
    "## Step Mode, External Time, Four Channels"
   ]
  },
  {
   "cell_type": "code",
   "execution_count": null,
   "metadata": {},
   "outputs": [],
   "source": [
    "four_channel_test = BinaryRoutines(sweep_conn)\n",
    "\n",
    "dt4 = np.dtype([('frequency0', '<u4'), \n",
    "               ('amplitude0', '<u2'), \n",
    "               ('phase0', '<u2'),\n",
    "               ('frequency1', '<u4'), \n",
    "               ('amplitude1', '<u2'), \n",
    "               ('phase1', '<u2'),\n",
    "               ('frequency2', '<u4'), \n",
    "               ('amplitude2', '<u2'), \n",
    "               ('phase2', '<u2'),\n",
    "               ('frequency3', '<u4'), \n",
    "               ('amplitude3', '<u2'), \n",
    "               ('phase3', '<u2')]\n",
    "               )\n",
    "\n",
    "\n",
    "n = 4311 # max\n",
    "\n",
    "chann0_ins = (f3, a1, p1)\n",
    "chann1_ins = (f2, a1, p1)\n",
    "chann2_ins = (f1, a1, p1)\n",
    "chann3_ins = (f3, a1, p1)\n",
    "\n",
    "tup_in = chann0_ins + chann1_ins + chann2_ins + chann2_ins # table layout reads chan{n} then chan{n+1} before next instruction\n",
    "\n",
    "arr = [tup_in] * n \n",
    "four_channel_ins = np.array(arr, dtype = dt4)\n",
    "four_channel_ins.size"
   ]
  },
  {
   "cell_type": "code",
   "execution_count": null,
   "metadata": {},
   "outputs": [],
   "source": [
    "four_channel_test = BinaryRoutines(sweep_conn)\n",
    "\n",
    "four_channel_test.set_mode(sweep_mode=0, timing_mode=0, num_channels=4)\n",
    "four_channel_test.allocate(start_address=0, instructions=four_channel_ins)\n",
    "four_channel_test.table_to_memory(instructions=four_channel_ins)\n",
    "four_channel_test.end_table(instructions=four_channel_ins)\n",
    "\n",
    "four_channel_test.start_routine(hwstart=True)"
   ]
  },
  {
   "cell_type": "code",
   "execution_count": null,
   "metadata": {},
   "outputs": [],
   "source": [
    "sendp(f'set 0 0 4000 {n}\\r\\n')\n",
    "print(sendp('start\\r\\n', echo=True))"
   ]
  },
  {
   "cell_type": "code",
   "execution_count": null,
   "metadata": {},
   "outputs": [],
   "source": [
    "print(sendp('status\\r\\n', echo=True))\n"
   ]
  },
  {
   "cell_type": "code",
   "execution_count": null,
   "metadata": {},
   "outputs": [],
   "source": [
    "four_channel_test.send('numtriggers')"
   ]
  },
  {
   "cell_type": "markdown",
   "metadata": {},
   "source": [
    "## Sweep Mode, External Time, N Channels"
   ]
  },
  {
   "cell_type": "code",
   "execution_count": null,
   "metadata": {},
   "outputs": [],
   "source": [
    "sweep1_dt = [('start_amplitude0', '<u2'),\n",
    "             ('stop_amplitude0', '<u2'),\n",
    "             ('delta0', '<u2'),\n",
    "             ('rate0', '<u1'),\n",
    "             ('start_amplitude1', '<u2'),\n",
    "             ('stop_amplitude1', '<u2'),\n",
    "             ('delta1', '<u2'),\n",
    "             ('rate1', '<u1'),\n",
    "             ('start_amplitude2', '<u2'),\n",
    "             ('stop_amplitude2', '<u2'),\n",
    "             ('delta2', '<u2'),\n",
    "             ('rate2', '<u1'),\n",
    "             ('start_amplitude3', '<u2'),\n",
    "             ('stop_amplitude3', '<u2'),\n",
    "             ('delta3', '<u2'),\n",
    "             ('rate3', '<u1')\n",
    "             ]"
   ]
  },
  {
   "cell_type": "code",
   "execution_count": null,
   "metadata": {},
   "outputs": [],
   "source": [
    "# n = 8464 // 2 # sweep ext timer 1 channel\n",
    "n = 2169 # sweep ext timer 2 channel\n",
    "num_channels = 4\n",
    "\n",
    "d = 1\n",
    "r = 1\n",
    "\n",
    "chann0_ins = (a1, a2, d, r)\n",
    "chann1_ins = (a1, a2, d, r)\n",
    "chann2_ins = (a1, a2, d, r)\n",
    "chann3_ins = (a1, a2, d, r)\n",
    "\n",
    "tup_in = chann0_ins + chann1_ins + chann2_ins + chann3_ins\n",
    "arr = [tup_in] * n\n",
    "sweep1_instructions = np.array(arr, dtype = np.dtype(sweep1_dt[:4 * num_channels]))\n",
    "sweep1_test = BinaryRoutines(sweep_conn)\n",
    "\n",
    "sweep1_test.set_mode(sweep_mode=1, timing_mode=0, num_channels=num_channels)\n",
    "sweep1_test.allocate(start_address=0, instructions=sweep1_instructions)\n",
    "sweep1_test.table_to_memory(instructions=sweep1_instructions)\n",
    "sweep1_test.end_table(instructions=sweep1_instructions)\n",
    "\n",
    "sweep1_test.start_routine(hwstart=True)"
   ]
  },
  {
   "cell_type": "code",
   "execution_count": null,
   "metadata": {},
   "outputs": [],
   "source": [
    "sendp(f'set 0 0 4000 {4*n}\\r\\n')\n",
    "print(sendp('start\\r\\n', echo=True))"
   ]
  },
  {
   "cell_type": "code",
   "execution_count": null,
   "metadata": {},
   "outputs": [],
   "source": [
    "print(sendp('status\\r\\n', echo=True))\n"
   ]
  },
  {
   "cell_type": "code",
   "execution_count": null,
   "metadata": {},
   "outputs": [],
   "source": [
    "sweep1_test.send('numtriggers')\n"
   ]
  },
  {
   "cell_type": "markdown",
   "metadata": {},
   "source": [
    "## Step Mode, Internal Time, One Channel"
   ]
  },
  {
   "cell_type": "code",
   "execution_count": null,
   "metadata": {},
   "outputs": [],
   "source": [
    "# dt_int = [\n",
    "#     ('frequency0', '<u4'), \n",
    "#     ('amplitude0', '<u2'), \n",
    "#     ('phase0', '<u2'),\n",
    "#     ('time0', '<u4'),\n",
    "#     ('frequency1', '<u4'), \n",
    "#     ('amplitude1', '<u2'), \n",
    "#     ('phase1', '<u2'),\n",
    "#     ('time1', '<u4'),\n",
    "#     ('frequency2', '<u4'), \n",
    "#     ('amplitude2', '<u2'), \n",
    "#     ('phase2', '<u2'),\n",
    "#     ('time2', '<u4'),\n",
    "#     ('frequency3', '<u4'), \n",
    "#     ('amplitude3', '<u2'), \n",
    "#     ('phase3', '<u2'),\n",
    "#     ('time3', '<u4')]"
   ]
  },
  {
   "cell_type": "code",
   "execution_count": null,
   "metadata": {},
   "outputs": [],
   "source": [
    "dt_int = np.dtype([('frequency', '<u4'), \n",
    "               ('amplitude', '<u2'), \n",
    "               ('phase', '<u2'), \n",
    "               ('time', '<u4')])\n",
    "\n",
    "f1 = get_ftw(freq_out = 100 * MHZ)\n",
    "f2 = get_ftw(freq_out = 120 * MHZ)\n",
    "f3 = get_ftw(freq_out = 110 * MHZ)\n",
    "\n",
    "a1 = 1023\n",
    "a2 = 500\n",
    "\n",
    "p1 = get_pow(phase = 90)\n",
    "p2 = get_pow(phase = 180)\n",
    "p3 = get_pow(phase = 270)\n",
    "\n",
    "t = 2\n",
    "\n",
    "arr = [\n",
    "(f2, a1, p1, t),\n",
    "]\n",
    "\n",
    "arr_in = arr * (4998)"
   ]
  },
  {
   "cell_type": "code",
   "execution_count": null,
   "metadata": {},
   "outputs": [],
   "source": [
    "internal_step_instructions = np.array(arr_in, dtype = dt_int)\n",
    "internal_step_instructions"
   ]
  },
  {
   "cell_type": "code",
   "execution_count": null,
   "metadata": {},
   "outputs": [],
   "source": [
    "internal_time_test = BinaryRoutines(sweep_conn)\n",
    "internal_time_test.set_mode(sweep_mode=0, timing_mode=1, num_channels=1)\n",
    "internal_time_test.allocate(start_address=0, instructions=internal_step_instructions)\n",
    "internal_time_test.table_to_memory(instructions=internal_step_instructions)\n",
    "internal_time_test.end_table(instructions=internal_step_instructions)\n",
    "\n",
    "internal_time_test.start_routine()"
   ]
  },
  {
   "cell_type": "code",
   "execution_count": null,
   "metadata": {},
   "outputs": [],
   "source": [
    "print(internal_time_test.send('numtriggers'))"
   ]
  },
  {
   "cell_type": "markdown",
   "metadata": {},
   "source": [
    "## Step Mode, Internal Time, Two Channels"
   ]
  },
  {
   "cell_type": "code",
   "execution_count": null,
   "metadata": {},
   "outputs": [],
   "source": [
    "dt_int = [\n",
    "    ('frequency0', '<u4'), \n",
    "    ('amplitude0', '<u2'), \n",
    "    ('phase0', '<u2'),\n",
    "    ('time0', '<u4'),\n",
    "    ('frequency1', '<u4'), \n",
    "    ('amplitude1', '<u2'), \n",
    "    ('phase1', '<u2'),\n",
    "    ('time1', '<u4')]\n",
    "\n",
    "\n",
    "arr = [\n",
    "(f2, a1, p1, t, f2, a1, p1, t),\n",
    "(f2, a2, p1, t, f2, a2, p1, t)\n",
    "]\n",
    "\n",
    "arr_in = arr * (4998//2)"
   ]
  },
  {
   "cell_type": "code",
   "execution_count": null,
   "metadata": {},
   "outputs": [],
   "source": [
    "internal_step_instructions = np.array(arr_in, dtype = dt_int)\n",
    "internal_step_instructions"
   ]
  },
  {
   "cell_type": "code",
   "execution_count": null,
   "metadata": {},
   "outputs": [],
   "source": [
    "internal_time_test = BinaryRoutines(sweep_conn)\n",
    "internal_time_test.set_mode(sweep_mode=0, timing_mode=1, num_channels=2)\n",
    "internal_time_test.allocate(start_address=0, instructions=internal_step_instructions)\n",
    "internal_time_test.table_to_memory(instructions=internal_step_instructions)\n",
    "internal_time_test.end_table(instructions=internal_step_instructions)\n",
    "\n",
    "internal_time_test.start_routine()"
   ]
  },
  {
   "cell_type": "markdown",
   "metadata": {},
   "source": [
    "## Step Mode, Internal Time, Three Channels"
   ]
  },
  {
   "cell_type": "code",
   "execution_count": null,
   "metadata": {},
   "outputs": [],
   "source": [
    "dt_int = [\n",
    "    ('frequency0', '<u4'), \n",
    "    ('amplitude0', '<u2'), \n",
    "    ('phase0', '<u2'),\n",
    "    ('time0', '<u4'),\n",
    "    ('frequency1', '<u4'), \n",
    "    ('amplitude1', '<u2'), \n",
    "    ('phase1', '<u2'),\n",
    "    ('time1', '<u4'),\n",
    "    ('frequency2', '<u4'), \n",
    "    ('amplitude2', '<u2'), \n",
    "    ('phase2', '<u2'),\n",
    "    ('time2', '<u4')]\n",
    "arr = [\n",
    "(f2, a1, p1, t, f2, a1, p1, t, f2, a1, p1, t),\n",
    "(f2, a1, p1, t, f2, a1, p1, t, f2, a1, p1, t),\n",
    "]\n",
    "\n",
    "arr_in = arr * (4998//2)\n",
    "internal_step_instructions = np.array(arr_in, dtype = dt_int)\n",
    "internal_time_test = BinaryRoutines(sweep_conn)\n",
    "internal_time_test.set_mode(sweep_mode=0, timing_mode=1, num_channels=3)\n",
    "internal_time_test.allocate(start_address=0, instructions=internal_step_instructions)\n",
    "internal_time_test.table_to_memory(instructions=internal_step_instructions)\n",
    "internal_time_test.end_table(instructions=internal_step_instructions)\n",
    "\n",
    "internal_time_test.start_routine()"
   ]
  },
  {
   "cell_type": "markdown",
   "metadata": {},
   "source": [
    "## Step Mode, Internal Time, Four Channels"
   ]
  },
  {
   "cell_type": "code",
   "execution_count": null,
   "metadata": {},
   "outputs": [],
   "source": [
    "dt_int = [\n",
    "    ('frequency0', '<u4'), \n",
    "    ('amplitude0', '<u2'), \n",
    "    ('phase0', '<u2'),\n",
    "    ('time0', '<u4'),\n",
    "    ('frequency1', '<u4'), \n",
    "    ('amplitude1', '<u2'), \n",
    "    ('phase1', '<u2'),\n",
    "    ('time1', '<u4'),\n",
    "    ('frequency2', '<u4'), \n",
    "    ('amplitude2', '<u2'), \n",
    "    ('phase2', '<u2'),\n",
    "    ('time2', '<u4'),\n",
    "    ('frequency3', '<u4'), \n",
    "    ('amplitude3', '<u2'), \n",
    "    ('phase3', '<u2'),\n",
    "    ('time3', '<u4')]\n",
    "arr = [\n",
    "(f2, a1, p1, t, f2, a1, p1, t, f2, a1, p1, t, f2, a1, p1, t),\n",
    "(f2, a1, p1, t, f2, a1, p1, t, f2, a1, p1, t, f2, a1, p1, t),\n",
    "]\n",
    "\n",
    "arr_in = arr * (3960//2)\n",
    "internal_step_instructions = np.array(arr_in, dtype = dt_int)\n",
    "internal_time_test = BinaryRoutines(sweep_conn)\n",
    "internal_time_test.set_mode(sweep_mode=0, timing_mode=1, num_channels=4)\n",
    "internal_time_test.allocate(start_address=0, instructions=internal_step_instructions)\n",
    "internal_time_test.table_to_memory(instructions=internal_step_instructions)\n",
    "internal_time_test.end_table(instructions=internal_step_instructions)\n",
    "\n",
    "internal_time_test.start_routine()"
   ]
  },
  {
   "cell_type": "code",
   "execution_count": null,
   "metadata": {},
   "outputs": [],
   "source": [
    "# prawn_conn.close()\n",
    "# sweep_conn.close()"
   ]
  },
  {
   "cell_type": "markdown",
   "metadata": {},
   "source": [
    "## Sweep Mode, Internal Time, N Channels"
   ]
  },
  {
   "cell_type": "code",
   "execution_count": 6,
   "metadata": {},
   "outputs": [],
   "source": [
    "int_sweep_dt = [\n",
    "    ('start_amplitude0', '<u2'),\n",
    "    ('stop_amplitude0', '<u2'),\n",
    "    ('delta0', '<u2'),\n",
    "    ('rate0', '<u1'),\n",
    "    ('time0', '<u4'),\n",
    "    ('start_amplitude1', '<u2'),\n",
    "    ('stop_amplitude1', '<u2'),\n",
    "    ('delta1', '<u2'),\n",
    "    ('rate1', '<u1'),\n",
    "    ('time1', '<u4'),\n",
    "    ('start_amplitude2', '<u2'),\n",
    "    ('stop_amplitude2', '<u2'),\n",
    "    ('delta2', '<u2'),\n",
    "    ('rate2', '<u1'),\n",
    "    ('time2', '<u4'),\n",
    "    ('start_amplitude3', '<u2'),\n",
    "    ('stop_amplitude3', '<u2'),\n",
    "    ('delta3', '<u2'),\n",
    "    ('rate3', '<u1'),\n",
    "    ('time3', '<u4')\n",
    "]"
   ]
  },
  {
   "cell_type": "code",
   "execution_count": 101,
   "metadata": {},
   "outputs": [
    {
     "name": "stdout",
     "output_type": "stream",
     "text": [
      "sending commands to 4 channels\n",
      "Got response: ready for 87780 bytes\n",
      "\n",
      "table written to memory\n",
      "table end command sent\n",
      "table executed\n"
     ]
    }
   ],
   "source": [
    "n = 1995\n",
    "num_channels = 4\n",
    "\n",
    "d = 1\n",
    "r = 1\n",
    "\n",
    "tup_in = ()\n",
    "chann0_ins = (a1, a2, d, r, t)\n",
    "chann1_ins = (a1, a2, d, r, t)\n",
    "chann2_ins = (a1, a2, d, r, t)\n",
    "chann3_ins = (a1, a2, d, r, t)\n",
    "list_of_chans = [chann0_ins, chann1_ins, chann2_ins, chann3_ins]\n",
    "\n",
    "for i in range(num_channels):\n",
    "    tup_in += list_of_chans[i]\n",
    "arr = [tup_in] * n\n",
    "int_sweep_instructions = np.array(arr, dtype = np.dtype(int_sweep_dt[:5 * num_channels]))\n",
    "int_sweep_test = BinaryRoutines(sweep_conn)\n",
    "\n",
    "int_sweep_test.set_mode(sweep_mode=1, timing_mode=1, num_channels=num_channels)\n",
    "int_sweep_test.allocate(start_address=0, instructions=int_sweep_instructions)\n",
    "int_sweep_test.table_to_memory(instructions=int_sweep_instructions)\n",
    "int_sweep_test.end_table(instructions=int_sweep_instructions)\n",
    "\n",
    "int_sweep_test.start_routine()"
   ]
  },
  {
   "cell_type": "code",
   "execution_count": 102,
   "metadata": {},
   "outputs": [
    {
     "name": "stdout",
     "output_type": "stream",
     "text": [
      "1995\n"
     ]
    }
   ],
   "source": [
    "int_sweep_test.send('numtriggers')"
   ]
  },
  {
   "cell_type": "code",
   "execution_count": null,
   "metadata": {},
   "outputs": [],
   "source": []
  },
  {
   "cell_type": "code",
   "execution_count": null,
   "metadata": {},
   "outputs": [],
   "source": []
  }
 ],
 "metadata": {
  "kernelspec": {
   "display_name": ".venv",
   "language": "python",
   "name": "python3"
  },
  "language_info": {
   "codemirror_mode": {
    "name": "ipython",
    "version": 3
   },
   "file_extension": ".py",
   "mimetype": "text/x-python",
   "name": "python",
   "nbconvert_exporter": "python",
   "pygments_lexer": "ipython3",
   "version": "3.11.11"
  }
 },
 "nbformat": 4,
 "nbformat_minor": 2
}
